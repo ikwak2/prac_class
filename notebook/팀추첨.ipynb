{
 "cells": [
  {
   "cell_type": "code",
   "execution_count": 1,
   "metadata": {},
   "outputs": [],
   "source": [
    "str1 = \"\"\"권채원 김나린 김다운 김백승 김수빈 김수연 김수현 김시현 김원석 김창우 문정현 박관열 박수연 서기태 양성원 원혜진 이영 이은희 이재용 전효범 정상욱 정찬휘\"\"\""
   ]
  },
  {
   "cell_type": "code",
   "execution_count": 2,
   "metadata": {},
   "outputs": [],
   "source": [
    "nms = str1.split()"
   ]
  },
  {
   "cell_type": "code",
   "execution_count": 3,
   "metadata": {},
   "outputs": [
    {
     "data": {
      "text/plain": [
       "['권채원',\n",
       " '김나린',\n",
       " '김다운',\n",
       " '김백승',\n",
       " '김수빈',\n",
       " '김수연',\n",
       " '김수현',\n",
       " '김시현',\n",
       " '김원석',\n",
       " '김창우',\n",
       " '문정현',\n",
       " '박관열',\n",
       " '박수연',\n",
       " '서기태',\n",
       " '양성원',\n",
       " '원혜진',\n",
       " '이영',\n",
       " '이은희',\n",
       " '이재용',\n",
       " '전효범',\n",
       " '정상욱',\n",
       " '정찬휘']"
      ]
     },
     "execution_count": 3,
     "metadata": {},
     "output_type": "execute_result"
    }
   ],
   "source": [
    "nms"
   ]
  },
  {
   "cell_type": "code",
   "execution_count": 4,
   "metadata": {},
   "outputs": [],
   "source": [
    "import numpy as np\n",
    "nms = np.array(nms)"
   ]
  },
  {
   "cell_type": "markdown",
   "metadata": {},
   "source": [
    "## 지도교수님이 딥러닝 연구"
   ]
  },
  {
   "cell_type": "code",
   "execution_count": 5,
   "metadata": {},
   "outputs": [],
   "source": [
    "nms1 = [ '원혜진', '박관열', '정찬휘',  '김나린', '이은경', '임형준', '문정현', '김수연', '김수빈', '김백승']"
   ]
  },
  {
   "cell_type": "markdown",
   "metadata": {},
   "source": [
    "## 타과 학생들"
   ]
  },
  {
   "cell_type": "code",
   "execution_count": 6,
   "metadata": {},
   "outputs": [],
   "source": [
    "nms2 = [ '권채원', '양성원']"
   ]
  },
  {
   "cell_type": "markdown",
   "metadata": {},
   "source": [
    "## 기타 학생들"
   ]
  },
  {
   "cell_type": "code",
   "execution_count": 7,
   "metadata": {},
   "outputs": [],
   "source": [
    "nms3 = list(set(nms) - set(nms1) - set(nms2) )"
   ]
  },
  {
   "cell_type": "code",
   "execution_count": 9,
   "metadata": {},
   "outputs": [
    {
     "data": {
      "text/plain": [
       "12"
      ]
     },
     "execution_count": 9,
     "metadata": {},
     "output_type": "execute_result"
    }
   ],
   "source": [
    "len(nms3)"
   ]
  },
  {
   "cell_type": "markdown",
   "metadata": {},
   "source": [
    "## 팀편성 알고리즘\n",
    "\n",
    "팀편성 목표: 지도교수님 딥러닝 연구하는 학생들 2명씩 5팀 편성  \n",
    "기타학생들 12명 3,3,2,2,2 로 편성  \n",
    "4명인 조 중 2조에 타과학생들 한명씩 편성  \n"
   ]
  },
  {
   "cell_type": "markdown",
   "metadata": {},
   "source": [
    "### 랜덤하게 명단 섞기"
   ]
  },
  {
   "cell_type": "code",
   "execution_count": 67,
   "metadata": {},
   "outputs": [],
   "source": [
    "nm_shuffle1 = np.random.choice(nms1,len(nms1), replace = False )\n",
    "nm_shuffle2 = np.random.choice(nms2,len(nms2), replace = False )\n",
    "nm_shuffle3 = np.random.choice(nms3,len(nms3), replace = False )"
   ]
  },
  {
   "cell_type": "code",
   "execution_count": 56,
   "metadata": {},
   "outputs": [
    {
     "data": {
      "text/plain": [
       "array(['이은경', '김나린', '정찬휘', '원혜진', '임형준', '문정현', '박관열', '김수연', '김수빈',\n",
       "       '김백승'], dtype='<U3')"
      ]
     },
     "execution_count": 56,
     "metadata": {},
     "output_type": "execute_result"
    }
   ],
   "source": [
    "nm_shuffle1"
   ]
  },
  {
   "cell_type": "code",
   "execution_count": 57,
   "metadata": {},
   "outputs": [
    {
     "data": {
      "text/plain": [
       "array(['권채원', '양성원'], dtype='<U3')"
      ]
     },
     "execution_count": 57,
     "metadata": {},
     "output_type": "execute_result"
    }
   ],
   "source": [
    "nm_shuffle2"
   ]
  },
  {
   "cell_type": "code",
   "execution_count": 58,
   "metadata": {},
   "outputs": [
    {
     "data": {
      "text/plain": [
       "array(['김수현', '김원석', '서기태', '전효범', '박수연', '김시현', '정상욱', '이재용', '김창우',\n",
       "       '이은희', '이영', '김다운'], dtype='<U3')"
      ]
     },
     "execution_count": 58,
     "metadata": {},
     "output_type": "execute_result"
    }
   ],
   "source": [
    "nm_shuffle3"
   ]
  },
  {
   "cell_type": "code",
   "execution_count": 59,
   "metadata": {},
   "outputs": [
    {
     "data": {
      "text/plain": [
       "['이은경 김나린 권채원 김수현 김원석',\n",
       " '정찬휘 원혜진 양성원 서기태 전효범',\n",
       " '임형준 문정현 박수연 김시현',\n",
       " '박관열 김수연 정상욱 이재용 김창우',\n",
       " '김수빈 김백승 이은희 이영 김다운']"
      ]
     },
     "execution_count": 59,
     "metadata": {},
     "output_type": "execute_result"
    }
   ],
   "source": [
    "str_set = []\n",
    "#str_set.append(str1)\n",
    "for i in range(5) :\n",
    "    if i < 2 :\n",
    "        str_tmp = \" \".join(nm_shuffle1[(2*i):(2*(i+1))]) + \" \" + nm_shuffle2[i] + \" \" + \" \".join(nm_shuffle3[(2*i):(2*(i+1))])\n",
    "        str_set.append(str_tmp)\n",
    "    elif i == 2 :\n",
    "        str_tmp = \" \".join(nm_shuffle1[(2*i):(2*(i+1))]) + \" \" + \" \".join(nm_shuffle3[(2*i):(2*(i+1))])\n",
    "        str_set.append(str_tmp)\n",
    "    elif i == 3 :\n",
    "        str_tmp = \" \".join(nm_shuffle1[(2*i):(2*(i+1))]) + \" \" + \" \".join(nm_shuffle3[[6,7,8]])\n",
    "        str_set.append(str_tmp)\n",
    "    elif i == 4 :\n",
    "        str_tmp = \" \".join(nm_shuffle1[(2*i):(2*(i+1))]) + \" \" + \" \".join(nm_shuffle3[[9,10,11]])\n",
    "        str_set.append(str_tmp)\n",
    "\n",
    "str_set"
   ]
  },
  {
   "cell_type": "code",
   "execution_count": null,
   "metadata": {},
   "outputs": [],
   "source": []
  },
  {
   "cell_type": "code",
   "execution_count": 60,
   "metadata": {},
   "outputs": [],
   "source": [
    "def team_select() :\n",
    "    nm_shuffle1 = np.random.choice(nms1,len(nms1), replace = False )\n",
    "    nm_shuffle2 = np.random.choice(nms2,len(nms2), replace = False )\n",
    "    nm_shuffle3 = np.random.choice(nms3,len(nms3), replace = False )\n",
    "    \n",
    "    str_set = []\n",
    "    #str_set.append(str1)\n",
    "    for i in range(5) :\n",
    "        if i < 2 :\n",
    "            str_tmp = \" \".join(nm_shuffle1[(2*i):(2*(i+1))]) + \" \" + nm_shuffle2[i] + \" \" + \" \".join(nm_shuffle3[(2*i):(2*(i+1))])\n",
    "            str_set.append(str_tmp)\n",
    "        elif i == 2 :\n",
    "            str_tmp = \" \".join(nm_shuffle1[(2*i):(2*(i+1))]) + \" \" + \" \".join(nm_shuffle3[(2*i):(2*(i+1))])\n",
    "            str_set.append(str_tmp)\n",
    "        elif i == 3 :\n",
    "            str_tmp = \" \".join(nm_shuffle1[(2*i):(2*(i+1))]) + \" \" + \" \".join(nm_shuffle3[[6,7,8]])\n",
    "            str_set.append(str_tmp)\n",
    "        elif i == 4 :\n",
    "            str_tmp = \" \".join(nm_shuffle1[(2*i):(2*(i+1))]) + \" \" + \" \".join(nm_shuffle3[[9,10,11]])\n",
    "            str_set.append(str_tmp)\n",
    "\n",
    "    \n",
    "    team_names = ['망아지팀: ', '햄스터팀: ', '강아지팀: ', '병아리팀: ', '송아지팀: ']\n",
    "    \n",
    "    str_set2 = []\n",
    "    team_names = np.random.choice(team_names, len(team_names), replace = False)\n",
    "    idx1 = 0\n",
    "    for items in str_set : \n",
    "        items = items.split()\n",
    "        items = np.random.choice(items,len(items), replace = False )\n",
    "        str_set2.append( str(team_names[idx1]) + \" \".join(items) )\n",
    "        idx1 += 1\n",
    "        \n",
    "    str_set2 = np.random.choice(str_set2,len(str_set2), replace = False )\n",
    "    str_print = '\\n'.join(str_set2)\n",
    "    print(str_print)\n"
   ]
  },
  {
   "cell_type": "code",
   "execution_count": 75,
   "metadata": {},
   "outputs": [
    {
     "name": "stdout",
     "output_type": "stream",
     "text": [
      "햄스터팀: 원혜진 김수연 김다운 박수연 권채원\n",
      "송아지팀: 김수현 양성원 정상욱 문정현 박관열\n",
      "강아지팀: 임형준 서기태 김시현 김나린 이재용\n",
      "병아리팀: 김수빈 이영 정찬휘 전효범 이은희\n",
      "망아지팀: 김창우 김백승 김원석 이은경\n"
     ]
    }
   ],
   "source": [
    "team_select()"
   ]
  },
  {
   "cell_type": "code",
   "execution_count": null,
   "metadata": {},
   "outputs": [],
   "source": []
  },
  {
   "cell_type": "code",
   "execution_count": null,
   "metadata": {},
   "outputs": [],
   "source": []
  },
  {
   "cell_type": "code",
   "execution_count": null,
   "metadata": {},
   "outputs": [],
   "source": []
  },
  {
   "cell_type": "code",
   "execution_count": null,
   "metadata": {},
   "outputs": [],
   "source": []
  }
 ],
 "metadata": {
  "kernelspec": {
   "display_name": "Python 3",
   "language": "python",
   "name": "python3"
  },
  "language_info": {
   "codemirror_mode": {
    "name": "ipython",
    "version": 3
   },
   "file_extension": ".py",
   "mimetype": "text/x-python",
   "name": "python",
   "nbconvert_exporter": "python",
   "pygments_lexer": "ipython3",
   "version": "3.6.5"
  }
 },
 "nbformat": 4,
 "nbformat_minor": 2
}
