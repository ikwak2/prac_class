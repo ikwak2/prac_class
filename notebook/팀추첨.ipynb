{
  "nbformat": 4,
  "nbformat_minor": 0,
  "metadata": {
    "kernelspec": {
      "display_name": "Python 3",
      "language": "python",
      "name": "python3"
    },
    "language_info": {
      "codemirror_mode": {
        "name": "ipython",
        "version": 3
      },
      "file_extension": ".py",
      "mimetype": "text/x-python",
      "name": "python",
      "nbconvert_exporter": "python",
      "pygments_lexer": "ipython3",
      "version": "3.6.5"
    },
    "colab": {
      "name": "팀추첨.ipynb",
      "provenance": []
    }
  },
  "cells": [
    {
      "cell_type": "code",
      "metadata": {
        "id": "ByqylZ0ongv9"
      },
      "source": [
        "str1 = \"\"\"권채원 김나린 김다운 김백승 김수빈 김수연 김수현 김시현 김원석 김창우 문정현 박관열 박수연 서기태 양성원 원혜진 이영 이은희 이재용 전효범 정상욱 정찬휘\"\"\""
      ],
      "execution_count": 1,
      "outputs": []
    },
    {
      "cell_type": "code",
      "metadata": {
        "id": "S3qXgAEPngwE"
      },
      "source": [
        "nms = str1.split()"
      ],
      "execution_count": 2,
      "outputs": []
    },
    {
      "cell_type": "code",
      "metadata": {
        "id": "jz4KSLNEngwF",
        "colab": {
          "base_uri": "https://localhost:8080/"
        },
        "outputId": "4477a07d-7f35-4f24-d18a-7fcd4810b6a7"
      },
      "source": [
        "nms"
      ],
      "execution_count": 3,
      "outputs": [
        {
          "output_type": "execute_result",
          "data": {
            "text/plain": [
              "['권채원',\n",
              " '김나린',\n",
              " '김다운',\n",
              " '김백승',\n",
              " '김수빈',\n",
              " '김수연',\n",
              " '김수현',\n",
              " '김시현',\n",
              " '김원석',\n",
              " '김창우',\n",
              " '문정현',\n",
              " '박관열',\n",
              " '박수연',\n",
              " '서기태',\n",
              " '양성원',\n",
              " '원혜진',\n",
              " '이영',\n",
              " '이은희',\n",
              " '이재용',\n",
              " '전효범',\n",
              " '정상욱',\n",
              " '정찬휘']"
            ]
          },
          "metadata": {
            "tags": []
          },
          "execution_count": 3
        }
      ]
    },
    {
      "cell_type": "code",
      "metadata": {
        "id": "MGKkOAipngwH"
      },
      "source": [
        "import numpy as np\n",
        "nms = np.array(nms)"
      ],
      "execution_count": 4,
      "outputs": []
    },
    {
      "cell_type": "code",
      "metadata": {
        "id": "lER9zSydoOv3",
        "colab": {
          "base_uri": "https://localhost:8080/"
        },
        "outputId": "c004cd26-5eea-4635-bc74-7f803dbc56cb"
      },
      "source": [
        "len(nms)"
      ],
      "execution_count": 5,
      "outputs": [
        {
          "output_type": "execute_result",
          "data": {
            "text/plain": [
              "22"
            ]
          },
          "metadata": {
            "tags": []
          },
          "execution_count": 5
        }
      ]
    },
    {
      "cell_type": "markdown",
      "metadata": {
        "id": "xaVnjFPwngwI"
      },
      "source": [
        "## 지도교수님이 딥러닝 연구"
      ]
    },
    {
      "cell_type": "code",
      "metadata": {
        "id": "Ga9nWC3CngwI"
      },
      "source": [
        "nms1 = [ '원혜진', '박관열', '정찬휘',  '김나린', '문정현', '김수연', '김수빈', '김백승', '이재용']  "
      ],
      "execution_count": 6,
      "outputs": []
    },
    {
      "cell_type": "markdown",
      "metadata": {
        "id": "E7XbgXCgngwJ"
      },
      "source": [
        "## 타과 학생들"
      ]
    },
    {
      "cell_type": "code",
      "metadata": {
        "id": "_DvgxbwJngwJ"
      },
      "source": [
        "nms2 = [ '권채원', '양성원']"
      ],
      "execution_count": 7,
      "outputs": []
    },
    {
      "cell_type": "markdown",
      "metadata": {
        "id": "oxoDRpEbngwK"
      },
      "source": [
        "## 기타 학생들"
      ]
    },
    {
      "cell_type": "code",
      "metadata": {
        "id": "acK7gWipngwL"
      },
      "source": [
        "nms3 = list(set(nms) - set(nms1) - set(nms2) )"
      ],
      "execution_count": 8,
      "outputs": []
    },
    {
      "cell_type": "code",
      "metadata": {
        "id": "LeG9iupgngwL",
        "colab": {
          "base_uri": "https://localhost:8080/"
        },
        "outputId": "aaf6c65f-fd16-4f12-f236-54a00a5d30c9"
      },
      "source": [
        "len(nms3) + len(nms2) + len(nms1)"
      ],
      "execution_count": 9,
      "outputs": [
        {
          "output_type": "execute_result",
          "data": {
            "text/plain": [
              "22"
            ]
          },
          "metadata": {
            "tags": []
          },
          "execution_count": 9
        }
      ]
    },
    {
      "cell_type": "markdown",
      "metadata": {
        "id": "7Jt23mUIngwM"
      },
      "source": [
        "## 팀편성 알고리즘\n",
        "\n",
        "팀편성 목표:  \n",
        "랜덤하게 팀을 구성하되 아래의 조건에서 다시뽑기  \n",
        " - 지도교수님 딥러닝 연구하는 학생들이 3명이상 한팀이상이면 \n",
        " - 타과생 2명이 같은 편이면 \n",
        " \n"
      ]
    },
    {
      "cell_type": "code",
      "metadata": {
        "colab": {
          "base_uri": "https://localhost:8080/"
        },
        "id": "K8md04Egrt-u",
        "outputId": "b948aacc-5b20-4a6d-a15f-d247d528f907"
      },
      "source": [
        "nms"
      ],
      "execution_count": 10,
      "outputs": [
        {
          "output_type": "execute_result",
          "data": {
            "text/plain": [
              "array(['권채원', '김나린', '김다운', '김백승', '김수빈', '김수연', '김수현', '김시현', '김원석',\n",
              "       '김창우', '문정현', '박관열', '박수연', '서기태', '양성원', '원혜진', '이영', '이은희',\n",
              "       '이재용', '전효범', '정상욱', '정찬휘'], dtype='<U3')"
            ]
          },
          "metadata": {
            "tags": []
          },
          "execution_count": 10
        }
      ]
    },
    {
      "cell_type": "code",
      "metadata": {
        "id": "EuGTObTipE2c",
        "colab": {
          "base_uri": "https://localhost:8080/"
        },
        "outputId": "4fd339dd-0588-4577-ed6b-feb69eb0444c"
      },
      "source": [
        "shuffled = nm_shuffle = np.random.choice(nms,len(nms), replace = False )\r\n",
        "shuffled"
      ],
      "execution_count": 21,
      "outputs": [
        {
          "output_type": "execute_result",
          "data": {
            "text/plain": [
              "array(['문정현', '정찬휘', '김수현', '박수연', '양성원', '서기태', '권채원', '이재용', '김시현',\n",
              "       '정상욱', '김나린', '김창우', '김수빈', '전효범', '이은희', '김다운', '김원석', '김수연',\n",
              "       '원혜진', '이영', '박관열', '김백승'], dtype='<U3')"
            ]
          },
          "metadata": {
            "tags": []
          },
          "execution_count": 21
        }
      ]
    },
    {
      "cell_type": "code",
      "metadata": {
        "id": "u2NF6JtEptLP",
        "colab": {
          "base_uri": "https://localhost:8080/"
        },
        "outputId": "a63a4323-e853-4c30-964e-789afc432ea0"
      },
      "source": [
        "team = [shuffled[:4], shuffled[4:8], shuffled[8:12], shuffled[12:17], shuffled[17:] ]\r\n",
        "team"
      ],
      "execution_count": 22,
      "outputs": [
        {
          "output_type": "execute_result",
          "data": {
            "text/plain": [
              "[array(['문정현', '정찬휘', '김수현', '박수연'], dtype='<U3'),\n",
              " array(['양성원', '서기태', '권채원', '이재용'], dtype='<U3'),\n",
              " array(['김시현', '정상욱', '김나린', '김창우'], dtype='<U3'),\n",
              " array(['김수빈', '전효범', '이은희', '김다운', '김원석'], dtype='<U3'),\n",
              " array(['김수연', '원혜진', '이영', '박관열', '김백승'], dtype='<U3')]"
            ]
          },
          "metadata": {
            "tags": []
          },
          "execution_count": 22
        }
      ]
    },
    {
      "cell_type": "code",
      "metadata": {
        "id": "FwmXQMlatbbK",
        "colab": {
          "base_uri": "https://localhost:8080/"
        },
        "outputId": "fd8e3e70-ac12-4780-e8ab-8e7931ddbac8"
      },
      "source": [
        "for i in range(10) :\r\n",
        "  re = 0\r\n",
        "  for ar in team :\r\n",
        "    print(\"Checking team:{}\".format(ar))\r\n",
        "    count_nm2 = 0  ## nm2 그룹 2명이상이면 다시\r\n",
        "    for nm in nms2 :\r\n",
        "      if nm in ar :\r\n",
        "        count_nm2 += 1\r\n",
        "    count_nm1 = 0   ## nm1 그룹 3명 이상이면 다시\r\n",
        "    for nm in nms1 :\r\n",
        "      if nm in ar :\r\n",
        "        count_nm1 += 1\r\n",
        "    print(\"지도교수님이 딥러닝 연구:{}명, 타과생:{}명\".format(count_nm1, count_nm2))\r\n",
        "\r\n",
        "    if (count_nm2 >= 2 or count_nm1 >= 3) :\r\n",
        "      re = 1 \r\n",
        "      print(\"break rule\")\r\n",
        "      break;\r\n",
        "  if re==1 :\r\n",
        "    print(\"다시 뽑습니다\")\r\n",
        "    shuffled = nm_shuffle = np.random.choice(nms,len(nms), replace = False )\r\n",
        "    team = [shuffled[:4], shuffled[4:8], shuffled[8:12], shuffled[12:17], shuffled[17:] ]\r\n",
        "  else :\r\n",
        "    print(\"done\")\r\n",
        "    break"
      ],
      "execution_count": 23,
      "outputs": [
        {
          "output_type": "stream",
          "text": [
            "Checking team:['문정현' '정찬휘' '김수현' '박수연']\n",
            "지도교수님이 딥러닝 연구:2명, 타과생:0명\n",
            "Checking team:['양성원' '서기태' '권채원' '이재용']\n",
            "지도교수님이 딥러닝 연구:1명, 타과생:2명\n",
            "break rule\n",
            "다시 뽑습니다\n",
            "Checking team:['김창우' '김원석' '김수현' '양성원']\n",
            "지도교수님이 딥러닝 연구:0명, 타과생:1명\n",
            "Checking team:['정찬휘' '원혜진' '김수연' '서기태']\n",
            "지도교수님이 딥러닝 연구:3명, 타과생:0명\n",
            "break rule\n",
            "다시 뽑습니다\n",
            "Checking team:['양성원' '김창우' '김다운' '박수연']\n",
            "지도교수님이 딥러닝 연구:0명, 타과생:1명\n",
            "Checking team:['김나린' '원혜진' '권채원' '이재용']\n",
            "지도교수님이 딥러닝 연구:3명, 타과생:1명\n",
            "break rule\n",
            "다시 뽑습니다\n",
            "Checking team:['이은희' '김수연' '김시현' '박관열']\n",
            "지도교수님이 딥러닝 연구:2명, 타과생:0명\n",
            "Checking team:['권채원' '박수연' '김나린' '김수현']\n",
            "지도교수님이 딥러닝 연구:1명, 타과생:1명\n",
            "Checking team:['이영' '전효범' '문정현' '김창우']\n",
            "지도교수님이 딥러닝 연구:1명, 타과생:0명\n",
            "Checking team:['양성원' '김수빈' '정상욱' '서기태' '김백승']\n",
            "지도교수님이 딥러닝 연구:2명, 타과생:1명\n",
            "Checking team:['김원석' '이재용' '원혜진' '정찬휘' '김다운']\n",
            "지도교수님이 딥러닝 연구:3명, 타과생:0명\n",
            "break rule\n",
            "다시 뽑습니다\n",
            "Checking team:['김다운' '김시현' '김원석' '김백승']\n",
            "지도교수님이 딥러닝 연구:1명, 타과생:0명\n",
            "Checking team:['김수현' '김창우' '양성원' '김나린']\n",
            "지도교수님이 딥러닝 연구:1명, 타과생:1명\n",
            "Checking team:['김수빈' '이은희' '이영' '전효범']\n",
            "지도교수님이 딥러닝 연구:1명, 타과생:0명\n",
            "Checking team:['김수연' '박수연' '권채원' '정상욱' '정찬휘']\n",
            "지도교수님이 딥러닝 연구:2명, 타과생:1명\n",
            "Checking team:['원혜진' '서기태' '문정현' '박관열' '이재용']\n",
            "지도교수님이 딥러닝 연구:4명, 타과생:0명\n",
            "break rule\n",
            "다시 뽑습니다\n",
            "Checking team:['김창우' '전효범' '김다운' '박관열']\n",
            "지도교수님이 딥러닝 연구:1명, 타과생:0명\n",
            "Checking team:['박수연' '이영' '문정현' '김나린']\n",
            "지도교수님이 딥러닝 연구:2명, 타과생:0명\n",
            "Checking team:['이재용' '김수현' '권채원' '원혜진']\n",
            "지도교수님이 딥러닝 연구:2명, 타과생:1명\n",
            "Checking team:['정상욱' '김수연' '김백승' '이은희' '김원석']\n",
            "지도교수님이 딥러닝 연구:2명, 타과생:0명\n",
            "Checking team:['서기태' '김수빈' '김시현' '양성원' '정찬휘']\n",
            "지도교수님이 딥러닝 연구:2명, 타과생:1명\n",
            "done\n"
          ],
          "name": "stdout"
        }
      ]
    },
    {
      "cell_type": "code",
      "metadata": {
        "id": "BTAYAnk5qPD9",
        "colab": {
          "base_uri": "https://localhost:8080/"
        },
        "outputId": "4c84cee2-db72-4576-d98f-f0ef5acbb4f1"
      },
      "source": [
        "shuffled = nm_shuffle = np.random.choice(nms,len(nms), replace = False )\r\n",
        "team = [shuffled[:4], shuffled[4:8], shuffled[8:12], shuffled[12:17], shuffled[17:] ]\r\n",
        "\r\n",
        "for i in range(10) :\r\n",
        "  re = 0\r\n",
        "  for ar in team :\r\n",
        "#    print(\"Checking team:{}\".format(ar))\r\n",
        "    count_nm2 = 0  ## nm2 그룹 2명이상이면 다시\r\n",
        "    for nm in nms2 :\r\n",
        "      if nm in ar :\r\n",
        "        count_nm2 += 1\r\n",
        "    count_nm1 = 0   ## nm1 그룹 3명 이상이면 다시\r\n",
        "    for nm in nms1 :\r\n",
        "      if nm in ar :\r\n",
        "        count_nm1 += 1\r\n",
        "#    print(\"nm1:{}, nm2:{}\".format(count_nm1, count_nm2))\r\n",
        "\r\n",
        "    if (count_nm2 >= 2 or count_nm1 >= 3) :\r\n",
        "      re = 1 \r\n",
        "#      print(\"break rule\")\r\n",
        "      break;\r\n",
        "  if re==1 :\r\n",
        "#    print(\"rebuild\")\r\n",
        "    shuffled = nm_shuffle = np.random.choice(nms,len(nms), replace = False )\r\n",
        "    team = [shuffled[:4], shuffled[4:8], shuffled[8:12], shuffled[12:17], shuffled[17:] ]\r\n",
        "  else :\r\n",
        "#    print(\"done\")\r\n",
        "    break\r\n",
        "\r\n",
        "print(\"{}번 시도함.\".format(i))\r\n",
        "team"
      ],
      "execution_count": 14,
      "outputs": [
        {
          "output_type": "stream",
          "text": [
            "4번 시도함.\n"
          ],
          "name": "stdout"
        },
        {
          "output_type": "execute_result",
          "data": {
            "text/plain": [
              "[array(['문정현', '정찬휘', '김수현', '전효범'], dtype='<U3'),\n",
              " array(['박관열', '서기태', '박수연', '원혜진'], dtype='<U3'),\n",
              " array(['김원석', '김수빈', '권채원', '김나린'], dtype='<U3'),\n",
              " array(['이은희', '양성원', '이재용', '김다운', '김백승'], dtype='<U3'),\n",
              " array(['김시현', '김수연', '김창우', '정상욱', '이영'], dtype='<U3')]"
            ]
          },
          "metadata": {
            "tags": []
          },
          "execution_count": 14
        }
      ]
    },
    {
      "cell_type": "code",
      "metadata": {
        "id": "XQ2ulP-wpEgi"
      },
      "source": [
        "def team_select(n_try = 100) : \r\n",
        "  shuffled = nm_shuffle = np.random.choice(nms,len(nms), replace = False )\r\n",
        "  team = [shuffled[:4], shuffled[4:8], shuffled[8:12], shuffled[12:17], shuffled[17:] ]\r\n",
        "\r\n",
        "  for i in range(n_try) :\r\n",
        "    re = 0\r\n",
        "    for ar in team :\r\n",
        "  #    print(\"Checking team:{}\".format(ar))\r\n",
        "      count_nm2 = 0  ## nm2 그룹 2명이상이면 다시\r\n",
        "      for nm in nms2 :\r\n",
        "        if nm in ar :\r\n",
        "          count_nm2 += 1\r\n",
        "      count_nm1 = 0   ## nm1 그룹 3명 이상이면 다시\r\n",
        "      for nm in nms1 :\r\n",
        "        if nm in ar :\r\n",
        "          count_nm1 += 1\r\n",
        "  #    print(\"nm1:{}, nm2:{}\".format(count_nm1, count_nm2))\r\n",
        "\r\n",
        "      if (count_nm2 >= 2 or count_nm1 >= 3) :\r\n",
        "        re = 1 \r\n",
        "  #      print(\"break rule\")\r\n",
        "        break;\r\n",
        "    if re==1 :\r\n",
        "  #    print(\"rebuild\")\r\n",
        "      shuffled = nm_shuffle = np.random.choice(nms,len(nms), replace = False )\r\n",
        "      team = [shuffled[:4], shuffled[4:8], shuffled[8:12], shuffled[12:17], shuffled[17:] ]\r\n",
        "    else :\r\n",
        "  #    print(\"done\")\r\n",
        "      break\r\n",
        "\r\n",
        "  print(\"{}번 시도함.\".format(i))\r\n",
        "#  print(team)\r\n",
        "  return team"
      ],
      "execution_count": 15,
      "outputs": []
    },
    {
      "cell_type": "code",
      "metadata": {
        "id": "5jT_PW3swCz2",
        "colab": {
          "base_uri": "https://localhost:8080/"
        },
        "outputId": "ce5cfb0f-7aac-4d0d-860b-319e04a8fd4c"
      },
      "source": [
        "team = team_select()\r\n",
        "team"
      ],
      "execution_count": 19,
      "outputs": [
        {
          "output_type": "stream",
          "text": [
            "26번 시도함.\n"
          ],
          "name": "stdout"
        },
        {
          "output_type": "execute_result",
          "data": {
            "text/plain": [
              "[array(['이재용', '전효범', '박수연', '정찬휘'], dtype='<U3'),\n",
              " array(['김창우', '원혜진', '김시현', '문정현'], dtype='<U3'),\n",
              " array(['김수연', '서기태', '김백승', '이은희'], dtype='<U3'),\n",
              " array(['김나린', '이영', '김수현', '양성원', '김수빈'], dtype='<U3'),\n",
              " array(['김원석', '권채원', '정상욱', '박관열', '김다운'], dtype='<U3')]"
            ]
          },
          "metadata": {
            "tags": []
          },
          "execution_count": 19
        }
      ]
    },
    {
      "cell_type": "code",
      "metadata": {
        "id": "tL-KZDuzngwQ"
      },
      "source": [
        ""
      ],
      "execution_count": null,
      "outputs": []
    },
    {
      "cell_type": "code",
      "metadata": {
        "id": "e6d8k_MlngwQ"
      },
      "source": [
        ""
      ],
      "execution_count": null,
      "outputs": []
    },
    {
      "cell_type": "code",
      "metadata": {
        "id": "iY7ZqRKDngwQ"
      },
      "source": [
        ""
      ],
      "execution_count": null,
      "outputs": []
    },
    {
      "cell_type": "code",
      "metadata": {
        "id": "NhUkgEGUngwQ"
      },
      "source": [
        ""
      ],
      "execution_count": null,
      "outputs": []
    }
  ]
}