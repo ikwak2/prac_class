{
  "nbformat": 4,
  "nbformat_minor": 0,
  "metadata": {
    "kernelspec": {
      "display_name": "Python 3",
      "language": "python",
      "name": "python3"
    },
    "language_info": {
      "codemirror_mode": {
        "name": "ipython",
        "version": 3
      },
      "file_extension": ".py",
      "mimetype": "text/x-python",
      "name": "python",
      "nbconvert_exporter": "python",
      "pygments_lexer": "ipython3",
      "version": "3.6.5"
    },
    "colab": {
      "name": "팀추첨.ipynb",
      "provenance": []
    }
  },
  "cells": [
    {
      "cell_type": "code",
      "metadata": {
        "id": "ByqylZ0ongv9"
      },
      "source": [
        "str1 = \"\"\"권채원 김나린 김다운 김백승 김수빈 김수연 김수현 김시현 김원석 김창우 문정현 박관열 박수연 서기태 양성원 원혜진 이영 이은희 이재용 전효범 정상욱 정찬휘\"\"\""
      ],
      "execution_count": 4,
      "outputs": []
    },
    {
      "cell_type": "code",
      "metadata": {
        "id": "S3qXgAEPngwE"
      },
      "source": [
        "nms = str1.split()"
      ],
      "execution_count": 5,
      "outputs": []
    },
    {
      "cell_type": "code",
      "metadata": {
        "id": "jz4KSLNEngwF",
        "outputId": "268e3903-f64a-42f4-f93a-aaf502a6e5c7",
        "colab": {
          "base_uri": "https://localhost:8080/"
        }
      },
      "source": [
        "nms"
      ],
      "execution_count": 6,
      "outputs": [
        {
          "output_type": "execute_result",
          "data": {
            "text/plain": [
              "['권채원',\n",
              " '김나린',\n",
              " '김다운',\n",
              " '김백승',\n",
              " '김수빈',\n",
              " '김수연',\n",
              " '김수현',\n",
              " '김시현',\n",
              " '김원석',\n",
              " '김창우',\n",
              " '문정현',\n",
              " '박관열',\n",
              " '박수연',\n",
              " '서기태',\n",
              " '양성원',\n",
              " '원혜진',\n",
              " '이영',\n",
              " '이은희',\n",
              " '이재용',\n",
              " '전효범',\n",
              " '정상욱',\n",
              " '정찬휘']"
            ]
          },
          "metadata": {
            "tags": []
          },
          "execution_count": 6
        }
      ]
    },
    {
      "cell_type": "code",
      "metadata": {
        "id": "MGKkOAipngwH"
      },
      "source": [
        "import numpy as np\n",
        "nms = np.array(nms)"
      ],
      "execution_count": 7,
      "outputs": []
    },
    {
      "cell_type": "code",
      "metadata": {
        "id": "lER9zSydoOv3",
        "outputId": "685bcb99-cb60-4b3d-f596-b89d3e24805d",
        "colab": {
          "base_uri": "https://localhost:8080/"
        }
      },
      "source": [
        "len(nms)"
      ],
      "execution_count": 8,
      "outputs": [
        {
          "output_type": "execute_result",
          "data": {
            "text/plain": [
              "22"
            ]
          },
          "metadata": {
            "tags": []
          },
          "execution_count": 8
        }
      ]
    },
    {
      "cell_type": "markdown",
      "metadata": {
        "id": "xaVnjFPwngwI"
      },
      "source": [
        "## 지도교수님이 딥러닝 연구"
      ]
    },
    {
      "cell_type": "code",
      "metadata": {
        "id": "Ga9nWC3CngwI"
      },
      "source": [
        "nms1 = [ '원혜진', '박관열', '정찬휘',  '김나린', '문정현', '김수연', '김수빈', '김백승', '이재용']  # 2 2 2 2 1 "
      ],
      "execution_count": 9,
      "outputs": []
    },
    {
      "cell_type": "markdown",
      "metadata": {
        "id": "E7XbgXCgngwJ"
      },
      "source": [
        "## 타과 학생들"
      ]
    },
    {
      "cell_type": "code",
      "metadata": {
        "id": "_DvgxbwJngwJ"
      },
      "source": [
        "nms2 = [ '권채원', '양성원']"
      ],
      "execution_count": 10,
      "outputs": []
    },
    {
      "cell_type": "markdown",
      "metadata": {
        "id": "oxoDRpEbngwK"
      },
      "source": [
        "## 기타 학생들"
      ]
    },
    {
      "cell_type": "code",
      "metadata": {
        "id": "acK7gWipngwL"
      },
      "source": [
        "nms3 = list(set(nms) - set(nms1) - set(nms2) )"
      ],
      "execution_count": 11,
      "outputs": []
    },
    {
      "cell_type": "code",
      "metadata": {
        "id": "LeG9iupgngwL",
        "outputId": "2163bd1f-eb27-4c05-dd62-f39ba46fa634",
        "colab": {
          "base_uri": "https://localhost:8080/"
        }
      },
      "source": [
        "len(nms3) + len(nms2) + len(nms1)"
      ],
      "execution_count": 13,
      "outputs": [
        {
          "output_type": "execute_result",
          "data": {
            "text/plain": [
              "22"
            ]
          },
          "metadata": {
            "tags": []
          },
          "execution_count": 13
        }
      ]
    },
    {
      "cell_type": "markdown",
      "metadata": {
        "id": "7Jt23mUIngwM"
      },
      "source": [
        "## 팀편성 알고리즘\n",
        "\n",
        "팀편성 목표:  \n",
        "랜덤하게 팀을 구성하되 아래의 조건에서 다시뽑기  \n",
        " - 지도교수님 딥러닝 연구하는 학생들이 3명이상 한팀이상이면 \n",
        " - 타과생 2명이 같은 편이면 \n",
        " \n"
      ]
    },
    {
      "cell_type": "code",
      "metadata": {
        "id": "EuGTObTipE2c"
      },
      "source": [
        "shuffled = nm_shuffle = np.random.choice(nms,len(nms), replace = False )"
      ],
      "execution_count": 33,
      "outputs": []
    },
    {
      "cell_type": "code",
      "metadata": {
        "id": "u2NF6JtEptLP",
        "outputId": "a14a8bbe-125c-4e7b-f492-bfbec0d7baab",
        "colab": {
          "base_uri": "https://localhost:8080/"
        }
      },
      "source": [
        "team = [shuffled[:4], shuffled[4:8], shuffled[8:12], shuffled[12:17], shuffled[17:] ]\r\n",
        "team"
      ],
      "execution_count": 36,
      "outputs": [
        {
          "output_type": "execute_result",
          "data": {
            "text/plain": [
              "[array(['박수연', '김나린', '김수빈', '이영'], dtype='<U3'),\n",
              " array(['권채원', '양성원', '서기태', '김시현'], dtype='<U3'),\n",
              " array(['원혜진', '박관열', '김창우', '김수연'], dtype='<U3'),\n",
              " array(['전효범', '김다운', '정상욱', '김수현', '이재용'], dtype='<U3'),\n",
              " array(['문정현', '김원석', '이은희', '정찬휘', '김백승'], dtype='<U3')]"
            ]
          },
          "metadata": {
            "tags": []
          },
          "execution_count": 36
        }
      ]
    },
    {
      "cell_type": "code",
      "metadata": {
        "id": "FwmXQMlatbbK",
        "outputId": "d6ce2361-ab9d-49ad-cac5-6bed05a4599f",
        "colab": {
          "base_uri": "https://localhost:8080/"
        }
      },
      "source": [
        "for i in range(10) :\r\n",
        "  re = 0\r\n",
        "  for ar in team :\r\n",
        "    print(\"Checking team:{}\".format(ar))\r\n",
        "    count_nm2 = 0  ## nm2 그룹 2명이상이면 다시\r\n",
        "    for nm in nms2 :\r\n",
        "      if nm in ar :\r\n",
        "        count_nm2 += 1\r\n",
        "    count_nm1 = 0   ## nm1 그룹 3명 이상이면 다시\r\n",
        "    for nm in nms1 :\r\n",
        "      if nm in ar :\r\n",
        "        count_nm1 += 1\r\n",
        "    print(\"nm1:{}, nm2:{}\".format(count_nm1, count_nm2))\r\n",
        "\r\n",
        "    if (count_nm2 >= 2 or count_nm1 >= 3) :\r\n",
        "      re = 1 \r\n",
        "      print(\"break rule\")\r\n",
        "      break;\r\n",
        "  if re==1 :\r\n",
        "    print(\"rebuild\")\r\n",
        "    shuffled = nm_shuffle = np.random.choice(nms,len(nms), replace = False )\r\n",
        "    team = [shuffled[:4], shuffled[4:8], shuffled[8:12], shuffled[12:17], shuffled[17:] ]\r\n",
        "  else :\r\n",
        "    print(\"done\")\r\n",
        "    break"
      ],
      "execution_count": 53,
      "outputs": [
        {
          "output_type": "stream",
          "text": [
            "Checking team:['정상욱' '김원석' '정찬휘' '권채원']\n",
            "nm1:1, nm2:1\n",
            "Checking team:['김백승' '문정현' '이은희' '김수빈']\n",
            "nm1:3, nm2:0\n",
            "break rule\n",
            "rebuild\n",
            "Checking team:['정찬휘' '양성원' '정상욱' '김시현']\n",
            "nm1:1, nm2:1\n",
            "Checking team:['김백승' '김창우' '김수현' '원혜진']\n",
            "nm1:2, nm2:0\n",
            "Checking team:['박수연' '문정현' '김다운' '김수연']\n",
            "nm1:2, nm2:0\n",
            "Checking team:['이은희' '권채원' '김나린' '서기태' '김수빈']\n",
            "nm1:2, nm2:1\n",
            "Checking team:['박관열' '이영' '김원석' '이재용' '전효범']\n",
            "nm1:2, nm2:0\n",
            "done\n"
          ],
          "name": "stdout"
        }
      ]
    },
    {
      "cell_type": "code",
      "metadata": {
        "id": "BTAYAnk5qPD9",
        "outputId": "0be439ae-194b-4b56-e491-9741de0278d5",
        "colab": {
          "base_uri": "https://localhost:8080/"
        }
      },
      "source": [
        "shuffled = nm_shuffle = np.random.choice(nms,len(nms), replace = False )\r\n",
        "team = [shuffled[:4], shuffled[4:8], shuffled[8:12], shuffled[12:17], shuffled[17:] ]\r\n",
        "\r\n",
        "for i in range(10) :\r\n",
        "  re = 0\r\n",
        "  for ar in team :\r\n",
        "#    print(\"Checking team:{}\".format(ar))\r\n",
        "    count_nm2 = 0  ## nm2 그룹 2명이상이면 다시\r\n",
        "    for nm in nms2 :\r\n",
        "      if nm in ar :\r\n",
        "        count_nm2 += 1\r\n",
        "    count_nm1 = 0   ## nm1 그룹 3명 이상이면 다시\r\n",
        "    for nm in nms1 :\r\n",
        "      if nm in ar :\r\n",
        "        count_nm1 += 1\r\n",
        "#    print(\"nm1:{}, nm2:{}\".format(count_nm1, count_nm2))\r\n",
        "\r\n",
        "    if (count_nm2 >= 2 or count_nm1 >= 3) :\r\n",
        "      re = 1 \r\n",
        "#      print(\"break rule\")\r\n",
        "      break;\r\n",
        "  if re==1 :\r\n",
        "#    print(\"rebuild\")\r\n",
        "    shuffled = nm_shuffle = np.random.choice(nms,len(nms), replace = False )\r\n",
        "    team = [shuffled[:4], shuffled[4:8], shuffled[8:12], shuffled[12:17], shuffled[17:] ]\r\n",
        "  else :\r\n",
        "#    print(\"done\")\r\n",
        "    break\r\n",
        "\r\n",
        "print(\"{}번 시도함.\".format(i))\r\n",
        "team"
      ],
      "execution_count": 64,
      "outputs": [
        {
          "output_type": "stream",
          "text": [
            "5번 시도함.\n"
          ],
          "name": "stdout"
        },
        {
          "output_type": "execute_result",
          "data": {
            "text/plain": [
              "[array(['김시현', '김수현', '이재용', '문정현'], dtype='<U3'),\n",
              " array(['김다운', '박관열', '박수연', '정찬휘'], dtype='<U3'),\n",
              " array(['이은희', '원혜진', '양성원', '김수연'], dtype='<U3'),\n",
              " array(['김수빈', '정상욱', '김창우', '서기태', '김백승'], dtype='<U3'),\n",
              " array(['이영', '전효범', '권채원', '김나린', '김원석'], dtype='<U3')]"
            ]
          },
          "metadata": {
            "tags": []
          },
          "execution_count": 64
        }
      ]
    },
    {
      "cell_type": "code",
      "metadata": {
        "id": "XQ2ulP-wpEgi"
      },
      "source": [
        "def team_select(n_try = 100) : \r\n",
        "  shuffled = nm_shuffle = np.random.choice(nms,len(nms), replace = False )\r\n",
        "  team = [shuffled[:4], shuffled[4:8], shuffled[8:12], shuffled[12:17], shuffled[17:] ]\r\n",
        "\r\n",
        "  for i in range(n_try) :\r\n",
        "    re = 0\r\n",
        "    for ar in team :\r\n",
        "  #    print(\"Checking team:{}\".format(ar))\r\n",
        "      count_nm2 = 0  ## nm2 그룹 2명이상이면 다시\r\n",
        "      for nm in nms2 :\r\n",
        "        if nm in ar :\r\n",
        "          count_nm2 += 1\r\n",
        "      count_nm1 = 0   ## nm1 그룹 3명 이상이면 다시\r\n",
        "      for nm in nms1 :\r\n",
        "        if nm in ar :\r\n",
        "          count_nm1 += 1\r\n",
        "  #    print(\"nm1:{}, nm2:{}\".format(count_nm1, count_nm2))\r\n",
        "\r\n",
        "      if (count_nm2 >= 2 or count_nm1 >= 3) :\r\n",
        "        re = 1 \r\n",
        "  #      print(\"break rule\")\r\n",
        "        break;\r\n",
        "    if re==1 :\r\n",
        "  #    print(\"rebuild\")\r\n",
        "      shuffled = nm_shuffle = np.random.choice(nms,len(nms), replace = False )\r\n",
        "      team = [shuffled[:4], shuffled[4:8], shuffled[8:12], shuffled[12:17], shuffled[17:] ]\r\n",
        "    else :\r\n",
        "  #    print(\"done\")\r\n",
        "      break\r\n",
        "\r\n",
        "  print(\"{}번 시도함.\".format(i))\r\n",
        "#  print(team)\r\n",
        "  return team"
      ],
      "execution_count": 73,
      "outputs": []
    },
    {
      "cell_type": "code",
      "metadata": {
        "id": "5jT_PW3swCz2",
        "outputId": "e31b64f7-9c46-4ef4-8f0c-d0a052e91783",
        "colab": {
          "base_uri": "https://localhost:8080/"
        }
      },
      "source": [
        "team = team_select()\r\n",
        "team"
      ],
      "execution_count": 74,
      "outputs": [
        {
          "output_type": "stream",
          "text": [
            "6번 시도함.\n"
          ],
          "name": "stdout"
        },
        {
          "output_type": "execute_result",
          "data": {
            "text/plain": [
              "[array(['김창우', '원혜진', '전효범', '문정현'], dtype='<U3'),\n",
              " array(['권채원', '박관열', '김나린', '김수현'], dtype='<U3'),\n",
              " array(['양성원', '김수빈', '이은희', '박수연'], dtype='<U3'),\n",
              " array(['김다운', '정찬휘', '김백승', '김시현', '서기태'], dtype='<U3'),\n",
              " array(['김원석', '이영', '정상욱', '김수연', '이재용'], dtype='<U3')]"
            ]
          },
          "metadata": {
            "tags": []
          },
          "execution_count": 74
        }
      ]
    },
    {
      "cell_type": "code",
      "metadata": {
        "id": "tL-KZDuzngwQ"
      },
      "source": [
        ""
      ],
      "execution_count": null,
      "outputs": []
    },
    {
      "cell_type": "code",
      "metadata": {
        "id": "e6d8k_MlngwQ"
      },
      "source": [
        ""
      ],
      "execution_count": null,
      "outputs": []
    },
    {
      "cell_type": "code",
      "metadata": {
        "id": "iY7ZqRKDngwQ"
      },
      "source": [
        ""
      ],
      "execution_count": null,
      "outputs": []
    },
    {
      "cell_type": "code",
      "metadata": {
        "id": "NhUkgEGUngwQ"
      },
      "source": [
        ""
      ],
      "execution_count": null,
      "outputs": []
    }
  ]
}