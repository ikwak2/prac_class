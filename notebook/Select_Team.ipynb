{
 "cells": [
  {
   "cell_type": "code",
   "execution_count": 46,
   "metadata": {},
   "outputs": [],
   "source": [
    "import pandas as pd\n",
    "import numpy as np\n",
    "import random"
   ]
  },
  {
   "cell_type": "code",
   "execution_count": 109,
   "metadata": {},
   "outputs": [
    {
     "data": {
      "text/html": [
       "<div>\n",
       "<style scoped>\n",
       "    .dataframe tbody tr th:only-of-type {\n",
       "        vertical-align: middle;\n",
       "    }\n",
       "\n",
       "    .dataframe tbody tr th {\n",
       "        vertical-align: top;\n",
       "    }\n",
       "\n",
       "    .dataframe thead th {\n",
       "        text-align: right;\n",
       "    }\n",
       "</style>\n",
       "<table border=\"1\" class=\"dataframe\">\n",
       "  <thead>\n",
       "    <tr style=\"text-align: right;\">\n",
       "      <th></th>\n",
       "      <th>name</th>\n",
       "      <th>Q1</th>\n",
       "      <th>Q2</th>\n",
       "      <th>Q3</th>\n",
       "      <th>Q4</th>\n",
       "      <th>Q5</th>\n",
       "    </tr>\n",
       "  </thead>\n",
       "  <tbody>\n",
       "    <tr>\n",
       "      <th>0</th>\n",
       "      <td>고은빈</td>\n",
       "      <td>1</td>\n",
       "      <td>4</td>\n",
       "      <td>4</td>\n",
       "      <td>1</td>\n",
       "      <td>3</td>\n",
       "    </tr>\n",
       "    <tr>\n",
       "      <th>1</th>\n",
       "      <td>고태영</td>\n",
       "      <td>1</td>\n",
       "      <td>4</td>\n",
       "      <td>2</td>\n",
       "      <td>3</td>\n",
       "      <td>2</td>\n",
       "    </tr>\n",
       "    <tr>\n",
       "      <th>2</th>\n",
       "      <td>김동규</td>\n",
       "      <td>2</td>\n",
       "      <td>4</td>\n",
       "      <td>4</td>\n",
       "      <td>2</td>\n",
       "      <td>3</td>\n",
       "    </tr>\n",
       "    <tr>\n",
       "      <th>3</th>\n",
       "      <td>김민지</td>\n",
       "      <td>1</td>\n",
       "      <td>4</td>\n",
       "      <td>1</td>\n",
       "      <td>4</td>\n",
       "      <td>3</td>\n",
       "    </tr>\n",
       "    <tr>\n",
       "      <th>4</th>\n",
       "      <td>김병찬</td>\n",
       "      <td>1</td>\n",
       "      <td>5</td>\n",
       "      <td>2</td>\n",
       "      <td>4</td>\n",
       "      <td>3</td>\n",
       "    </tr>\n",
       "  </tbody>\n",
       "</table>\n",
       "</div>"
      ],
      "text/plain": [
       "  name  Q1  Q2  Q3  Q4  Q5\n",
       "0  고은빈   1   4   4   1   3\n",
       "1  고태영   1   4   2   3   2\n",
       "2  김동규   2   4   4   2   3\n",
       "3  김민지   1   4   1   4   3\n",
       "4  김병찬   1   5   2   4   3"
      ]
     },
     "execution_count": 109,
     "metadata": {},
     "output_type": "execute_result"
    }
   ],
   "source": [
    "survey = pd.read_csv(\"survey.csv\", encoding = \"euc-kr\")\n",
    "survey.head()"
   ]
  },
  {
   "cell_type": "code",
   "execution_count": 11,
   "metadata": {},
   "outputs": [
    {
     "name": "stdout",
     "output_type": "stream",
     "text": [
      "<class 'pandas.core.frame.DataFrame'>\n",
      "RangeIndex: 38 entries, 0 to 37\n",
      "Data columns (total 6 columns):\n",
      "name    38 non-null object\n",
      "Q1      38 non-null int64\n",
      "Q2      38 non-null int64\n",
      "Q3      38 non-null int64\n",
      "Q4      38 non-null int64\n",
      "Q5      38 non-null int64\n",
      "dtypes: int64(5), object(1)\n",
      "memory usage: 1.9+ KB\n"
     ]
    }
   ],
   "source": [
    "survey.info()"
   ]
  },
  {
   "cell_type": "markdown",
   "metadata": {},
   "source": [
    "## Q1. 소속 학과\n",
    " - 1 : 통계학과\n",
    " - 2 : 통계 이중전공 또는 부전공\n",
    " - 3 : 타학과"
   ]
  },
  {
   "cell_type": "code",
   "execution_count": 13,
   "metadata": {},
   "outputs": [
    {
     "data": {
      "text/plain": [
       "1    31\n",
       "2     6\n",
       "3     1\n",
       "Name: Q1, dtype: int64"
      ]
     },
     "execution_count": 13,
     "metadata": {},
     "output_type": "execute_result"
    }
   ],
   "source": [
    "survey.Q1.value_counts()"
   ]
  },
  {
   "cell_type": "markdown",
   "metadata": {},
   "source": [
    "## Q2. 학년\n",
    " - 1 : 1학년\n",
    " - 2 : 2학년\n",
    " - 3 : 3학년\n",
    " - 4 : 4학년\n",
    " - 5 : 5학년\n",
    " \n",
    " - 3, 4학년만 구분"
   ]
  },
  {
   "cell_type": "code",
   "execution_count": 14,
   "metadata": {},
   "outputs": [
    {
     "data": {
      "text/plain": [
       "4    32\n",
       "3     5\n",
       "5     1\n",
       "Name: Q2, dtype: int64"
      ]
     },
     "execution_count": 14,
     "metadata": {},
     "output_type": "execute_result"
    }
   ],
   "source": [
    "survey.Q2.value_counts()"
   ]
  },
  {
   "cell_type": "markdown",
   "metadata": {},
   "source": [
    "## Q3. 데이터마이닝 수업 수강여부\n",
    " - 1 : 데이터마이닝1 수강\n",
    " - 2 : 데이터마이닝1, 2 수강\n",
    " - 3 : 데이터마이닝 2 수강\n",
    " - 4 : 수강안함"
   ]
  },
  {
   "cell_type": "code",
   "execution_count": 15,
   "metadata": {},
   "outputs": [
    {
     "data": {
      "text/plain": [
       "4    22\n",
       "1     8\n",
       "3     5\n",
       "2     3\n",
       "Name: Q3, dtype: int64"
      ]
     },
     "execution_count": 15,
     "metadata": {},
     "output_type": "execute_result"
    }
   ],
   "source": [
    "survey.Q3.value_counts()"
   ]
  },
  {
   "cell_type": "markdown",
   "metadata": {},
   "source": [
    "## Q4. 파이썬 숙련도\n",
    " - 1 : 써본 적이 없습니다.\n",
    " - 2 : 조금\n",
    " - 3 : 과제 수행 경험\n",
    " - 4 : 많이 써봤습니다."
   ]
  },
  {
   "cell_type": "code",
   "execution_count": 17,
   "metadata": {},
   "outputs": [
    {
     "data": {
      "text/plain": [
       "2    15\n",
       "1    13\n",
       "4     6\n",
       "3     4\n",
       "Name: Q4, dtype: int64"
      ]
     },
     "execution_count": 17,
     "metadata": {},
     "output_type": "execute_result"
    }
   ],
   "source": [
    "survey.Q4.value_counts()"
   ]
  },
  {
   "cell_type": "markdown",
   "metadata": {},
   "source": [
    "## Q5. R 숙련도\n",
    " - 1 : 써본적이 없습니다.\n",
    " - 2 : 조금\n",
    " - 3 : 과제하면서 써봤습니다.\n",
    " - 4 : 많이 써봤습니다."
   ]
  },
  {
   "cell_type": "code",
   "execution_count": 18,
   "metadata": {},
   "outputs": [
    {
     "data": {
      "text/plain": [
       "3    26\n",
       "2     9\n",
       "4     2\n",
       "1     1\n",
       "Name: Q5, dtype: int64"
      ]
     },
     "execution_count": 18,
     "metadata": {},
     "output_type": "execute_result"
    }
   ],
   "source": [
    "survey.Q5.value_counts()"
   ]
  },
  {
   "cell_type": "markdown",
   "metadata": {},
   "source": [
    "1. 통계학과 / 그 외 : 31 / 7\n",
    "2. 3 / 4+ : 5 / 33"
   ]
  },
  {
   "cell_type": "code",
   "execution_count": 36,
   "metadata": {},
   "outputs": [
    {
     "data": {
      "text/html": [
       "<div>\n",
       "<style scoped>\n",
       "    .dataframe tbody tr th:only-of-type {\n",
       "        vertical-align: middle;\n",
       "    }\n",
       "\n",
       "    .dataframe tbody tr th {\n",
       "        vertical-align: top;\n",
       "    }\n",
       "\n",
       "    .dataframe thead th {\n",
       "        text-align: right;\n",
       "    }\n",
       "</style>\n",
       "<table border=\"1\" class=\"dataframe\">\n",
       "  <thead>\n",
       "    <tr style=\"text-align: right;\">\n",
       "      <th></th>\n",
       "      <th>name</th>\n",
       "      <th>Q1</th>\n",
       "      <th>Q2</th>\n",
       "      <th>Q3</th>\n",
       "      <th>Q4</th>\n",
       "      <th>Q5</th>\n",
       "    </tr>\n",
       "  </thead>\n",
       "  <tbody>\n",
       "    <tr>\n",
       "      <th>2</th>\n",
       "      <td>김동규</td>\n",
       "      <td>2</td>\n",
       "      <td>4</td>\n",
       "      <td>4</td>\n",
       "      <td>2</td>\n",
       "      <td>3</td>\n",
       "    </tr>\n",
       "    <tr>\n",
       "      <th>17</th>\n",
       "      <td>오혜린</td>\n",
       "      <td>2</td>\n",
       "      <td>4</td>\n",
       "      <td>4</td>\n",
       "      <td>1</td>\n",
       "      <td>3</td>\n",
       "    </tr>\n",
       "    <tr>\n",
       "      <th>26</th>\n",
       "      <td>전은재</td>\n",
       "      <td>2</td>\n",
       "      <td>3</td>\n",
       "      <td>4</td>\n",
       "      <td>1</td>\n",
       "      <td>2</td>\n",
       "    </tr>\n",
       "    <tr>\n",
       "      <th>27</th>\n",
       "      <td>정명진</td>\n",
       "      <td>2</td>\n",
       "      <td>4</td>\n",
       "      <td>4</td>\n",
       "      <td>4</td>\n",
       "      <td>3</td>\n",
       "    </tr>\n",
       "    <tr>\n",
       "      <th>29</th>\n",
       "      <td>정영주</td>\n",
       "      <td>2</td>\n",
       "      <td>4</td>\n",
       "      <td>4</td>\n",
       "      <td>4</td>\n",
       "      <td>3</td>\n",
       "    </tr>\n",
       "    <tr>\n",
       "      <th>33</th>\n",
       "      <td>지윤영</td>\n",
       "      <td>3</td>\n",
       "      <td>4</td>\n",
       "      <td>4</td>\n",
       "      <td>2</td>\n",
       "      <td>3</td>\n",
       "    </tr>\n",
       "    <tr>\n",
       "      <th>36</th>\n",
       "      <td>하혜진</td>\n",
       "      <td>2</td>\n",
       "      <td>4</td>\n",
       "      <td>3</td>\n",
       "      <td>2</td>\n",
       "      <td>2</td>\n",
       "    </tr>\n",
       "  </tbody>\n",
       "</table>\n",
       "</div>"
      ],
      "text/plain": [
       "   name  Q1  Q2  Q3  Q4  Q5\n",
       "2   김동규   2   4   4   2   3\n",
       "17  오혜린   2   4   4   1   3\n",
       "26  전은재   2   3   4   1   2\n",
       "27  정명진   2   4   4   4   3\n",
       "29  정영주   2   4   4   4   3\n",
       "33  지윤영   3   4   4   2   3\n",
       "36  하혜진   2   4   3   2   2"
      ]
     },
     "execution_count": 36,
     "metadata": {},
     "output_type": "execute_result"
    }
   ],
   "source": [
    "survey[survey[\"Q1\"] != 1]"
   ]
  },
  {
   "cell_type": "code",
   "execution_count": 21,
   "metadata": {},
   "outputs": [
    {
     "data": {
      "text/html": [
       "<div>\n",
       "<style scoped>\n",
       "    .dataframe tbody tr th:only-of-type {\n",
       "        vertical-align: middle;\n",
       "    }\n",
       "\n",
       "    .dataframe tbody tr th {\n",
       "        vertical-align: top;\n",
       "    }\n",
       "\n",
       "    .dataframe thead th {\n",
       "        text-align: right;\n",
       "    }\n",
       "</style>\n",
       "<table border=\"1\" class=\"dataframe\">\n",
       "  <thead>\n",
       "    <tr style=\"text-align: right;\">\n",
       "      <th></th>\n",
       "      <th>name</th>\n",
       "      <th>Q1</th>\n",
       "      <th>Q2</th>\n",
       "      <th>Q3</th>\n",
       "      <th>Q4</th>\n",
       "      <th>Q5</th>\n",
       "    </tr>\n",
       "  </thead>\n",
       "  <tbody>\n",
       "    <tr>\n",
       "      <th>5</th>\n",
       "      <td>김성관</td>\n",
       "      <td>1</td>\n",
       "      <td>3</td>\n",
       "      <td>3</td>\n",
       "      <td>3</td>\n",
       "      <td>3</td>\n",
       "    </tr>\n",
       "    <tr>\n",
       "      <th>7</th>\n",
       "      <td>김중훈</td>\n",
       "      <td>1</td>\n",
       "      <td>3</td>\n",
       "      <td>3</td>\n",
       "      <td>1</td>\n",
       "      <td>1</td>\n",
       "    </tr>\n",
       "    <tr>\n",
       "      <th>20</th>\n",
       "      <td>이동진</td>\n",
       "      <td>1</td>\n",
       "      <td>3</td>\n",
       "      <td>4</td>\n",
       "      <td>2</td>\n",
       "      <td>3</td>\n",
       "    </tr>\n",
       "    <tr>\n",
       "      <th>25</th>\n",
       "      <td>임양강</td>\n",
       "      <td>1</td>\n",
       "      <td>3</td>\n",
       "      <td>1</td>\n",
       "      <td>2</td>\n",
       "      <td>2</td>\n",
       "    </tr>\n",
       "    <tr>\n",
       "      <th>26</th>\n",
       "      <td>전은재</td>\n",
       "      <td>2</td>\n",
       "      <td>3</td>\n",
       "      <td>4</td>\n",
       "      <td>1</td>\n",
       "      <td>2</td>\n",
       "    </tr>\n",
       "  </tbody>\n",
       "</table>\n",
       "</div>"
      ],
      "text/plain": [
       "   name  Q1  Q2  Q3  Q4  Q5\n",
       "5   김성관   1   3   3   3   3\n",
       "7   김중훈   1   3   3   1   1\n",
       "20  이동진   1   3   4   2   3\n",
       "25  임양강   1   3   1   2   2\n",
       "26  전은재   2   3   4   1   2"
      ]
     },
     "execution_count": 21,
     "metadata": {},
     "output_type": "execute_result"
    }
   ],
   "source": [
    "survey[survey[\"Q2\"] == 3]"
   ]
  },
  {
   "cell_type": "code",
   "execution_count": 25,
   "metadata": {},
   "outputs": [],
   "source": [
    "students = list(survey[\"name\"])"
   ]
  },
  {
   "cell_type": "code",
   "execution_count": 28,
   "metadata": {},
   "outputs": [],
   "source": [
    "a = list(survey[survey[\"Q1\"] != 1][\"name\"])"
   ]
  },
  {
   "cell_type": "code",
   "execution_count": 29,
   "metadata": {},
   "outputs": [],
   "source": [
    "students = [ele for ele in students if ele not in a]"
   ]
  },
  {
   "cell_type": "code",
   "execution_count": 30,
   "metadata": {},
   "outputs": [
    {
     "data": {
      "text/plain": [
       "31"
      ]
     },
     "execution_count": 30,
     "metadata": {},
     "output_type": "execute_result"
    }
   ],
   "source": [
    "len(students)"
   ]
  },
  {
   "cell_type": "markdown",
   "metadata": {},
   "source": [
    "## 팀 편성 알고리즘(8조)\n",
    " - Q3(데이터마이닝 수강여부) 또한 객관적인 답변이라 생각하여 고려요건에 포함\n",
    " - 교수님 의견에 따라 Q3 제외 여부 결정\n",
    "\n",
    "1. 타과 학생들 7명을 한 조씩 배정\n",
    "2. 3학년 학생들 중 1명을 나머지 한조에 넣고 나머지 3명을 랜덤 배정\n",
    " - 타과 & 3학년 1명(전은재)\n",
    "3. 남은 학생들 중 데이터마이닝 수강하지 않은 학생들 랜덤 배정\n",
    "4. 남은 학생들 중 데이터마이닝 수강한 학생들 랜덤 배정"
   ]
  },
  {
   "cell_type": "code",
   "execution_count": 44,
   "metadata": {},
   "outputs": [],
   "source": [
    "a = list(survey[survey[\"Q2\"] == 3][\"name\"])"
   ]
  },
  {
   "cell_type": "code",
   "execution_count": null,
   "metadata": {},
   "outputs": [],
   "source": [
    "def team_select(survey):\n",
    "    students = list(survey[\"name\"])\n",
    "    team_name = [\"Team 1 : \", \"Team 2 : \", \"Team 3 : \", \"Team 4 : \", \n",
    "                 \"Team 5 : \", \"Team 6 : \", \"Team 7 : \", \"Team 8 : \"]\n",
    "    \n",
    "    #1\n",
    "    not_stat = list(survey[survey[\"Q1\"] != 1][\"name\"])\n",
    "    students = [ele for ele in students if ele not in not_stat]\n",
    "    not_senior = list(survey[survey[\"Q2\"] == 3])\n",
    "    \n",
    "    \n",
    "    \n",
    "    "
   ]
  },
  {
   "cell_type": "code",
   "execution_count": 67,
   "metadata": {},
   "outputs": [],
   "source": [
    "indexNames = survey[survey['Q1'] != 1 ].index\n",
    "survey.drop(indexNames , inplace=True)"
   ]
  },
  {
   "cell_type": "code",
   "execution_count": 68,
   "metadata": {},
   "outputs": [
    {
     "data": {
      "text/plain": [
       "(31, 6)"
      ]
     },
     "execution_count": 68,
     "metadata": {},
     "output_type": "execute_result"
    }
   ],
   "source": [
    "survey.shape"
   ]
  },
  {
   "cell_type": "code",
   "execution_count": 66,
   "metadata": {},
   "outputs": [
    {
     "data": {
      "text/plain": [
       "Int64Index([2, 17, 26, 27, 29, 33, 36], dtype='int64')"
      ]
     },
     "execution_count": 66,
     "metadata": {},
     "output_type": "execute_result"
    }
   ],
   "source": [
    "survey[survey['Q1'] != 1 ].index"
   ]
  },
  {
   "cell_type": "code",
   "execution_count": 65,
   "metadata": {},
   "outputs": [
    {
     "data": {
      "text/plain": [
       "['노소영', '보아란']"
      ]
     },
     "execution_count": 65,
     "metadata": {},
     "output_type": "execute_result"
    }
   ],
   "source": [
    "list(np.random.choice(students, 2))"
   ]
  },
  {
   "cell_type": "code",
   "execution_count": 70,
   "metadata": {},
   "outputs": [
    {
     "data": {
      "text/plain": [
       "['고은빈',\n",
       " '김진우',\n",
       " '노소영',\n",
       " '박유환',\n",
       " '박주형',\n",
       " '손면호',\n",
       " '송지영',\n",
       " '윤지현',\n",
       " '윤채원',\n",
       " '이동진',\n",
       " '이수민',\n",
       " '정민경',\n",
       " '정철환',\n",
       " '조성근',\n",
       " '조형래',\n",
       " '황재원']"
      ]
     },
     "execution_count": 70,
     "metadata": {},
     "output_type": "execute_result"
    }
   ],
   "source": [
    "list(survey[survey[\"Q3\"] == 4][\"name\"])"
   ]
  },
  {
   "cell_type": "code",
   "execution_count": 72,
   "metadata": {},
   "outputs": [],
   "source": [
    "not_stat = list(survey[survey[\"Q1\"] != 1][\"name\"])\n",
    "indexNames = survey[survey['Q1'] != 1 ].index\n",
    "survey.drop(indexNames , inplace=True)"
   ]
  },
  {
   "cell_type": "code",
   "execution_count": 73,
   "metadata": {},
   "outputs": [],
   "source": [
    "not_senior = list(survey[survey[\"Q2\"] == 3][\"name\"])\n",
    "indexNames = survey[survey[\"Q2\"] == 3].index\n",
    "survey.drop(indexNames , inplace=True)"
   ]
  },
  {
   "cell_type": "code",
   "execution_count": 74,
   "metadata": {},
   "outputs": [],
   "source": [
    "datamining = list(survey[survey[\"Q3\"] == 4][\"name\"])\n",
    "indexNames = survey[survey[\"Q3\"] == 4].index\n",
    "survey.drop(indexNames , inplace=True)"
   ]
  },
  {
   "cell_type": "code",
   "execution_count": 75,
   "metadata": {},
   "outputs": [],
   "source": [
    "last = list(survey[\"name\"])"
   ]
  },
  {
   "cell_type": "code",
   "execution_count": 93,
   "metadata": {},
   "outputs": [
    {
     "data": {
      "text/plain": [
       "12"
      ]
     },
     "execution_count": 93,
     "metadata": {},
     "output_type": "execute_result"
    }
   ],
   "source": [
    "len(last\n",
    "   )"
   ]
  },
  {
   "cell_type": "code",
   "execution_count": 76,
   "metadata": {},
   "outputs": [
    {
     "data": {
      "text/plain": [
       "38"
      ]
     },
     "execution_count": 76,
     "metadata": {},
     "output_type": "execute_result"
    }
   ],
   "source": [
    "len(not_stat) + len(not_senior) + len(datamining) + len(last)"
   ]
  },
  {
   "cell_type": "code",
   "execution_count": 83,
   "metadata": {},
   "outputs": [
    {
     "data": {
      "text/plain": [
       "array(['하혜진', '지윤영', '김동규', '오혜린', '전은재', '정명진', '정영주'], dtype='<U3')"
      ]
     },
     "execution_count": 83,
     "metadata": {},
     "output_type": "execute_result"
    }
   ],
   "source": [
    "np.random.choice(not_stat,len(not_stat), replace = False )"
   ]
  },
  {
   "cell_type": "code",
   "execution_count": 87,
   "metadata": {},
   "outputs": [],
   "source": [
    "shuffle1 = np.random.choice(not_stat,len(not_stat), replace = False )\n",
    "shuffle2 = np.random.choice(not_senior,len(not_senior), replace = False )\n",
    "shuffle3 = np.random.choice(datamining,len(datamining), replace = False )\n",
    "shuffle4 = np.random.choice(last,len(last), replace = False )"
   ]
  },
  {
   "cell_type": "code",
   "execution_count": 90,
   "metadata": {},
   "outputs": [
    {
     "data": {
      "text/plain": [
       "'지윤영 김성관 노소영 조형래'"
      ]
     },
     "execution_count": 90,
     "metadata": {},
     "output_type": "execute_result"
    }
   ],
   "source": [
    "str(shuffle1[0]) + \" \" + str(shuffle2[0])+\" \"+ \" \".join(shuffle3[:2])"
   ]
  },
  {
   "cell_type": "code",
   "execution_count": 110,
   "metadata": {},
   "outputs": [],
   "source": [
    "def team_select():\n",
    "    \n",
    "    #1\n",
    "    not_stat = list(survey[survey[\"Q1\"] != 1][\"name\"])\n",
    "    indexNames = survey[survey['Q1'] != 1 ].index\n",
    "    survey.drop(indexNames, inplace=True)\n",
    "    \n",
    "    #2\n",
    "    not_senior = list(survey[survey[\"Q2\"] == 3][\"name\"])\n",
    "    indexNames = survey[survey[\"Q2\"] == 3].index\n",
    "    survey.drop(indexNames, inplace=True)\n",
    "    \n",
    "    #3\n",
    "    datamining = list(survey[survey[\"Q3\"] == 4][\"name\"])\n",
    "    indexNames = survey[survey[\"Q3\"] == 4].index\n",
    "    survey.drop(indexNames, inplace=True)\n",
    "    \n",
    "    #4\n",
    "    last = list(survey[\"name\"])\n",
    "    \n",
    "    \n",
    "    # shuffle by group\n",
    "    shuffle1 = np.random.choice(not_stat,len(not_stat), replace = False )\n",
    "    shuffle2 = np.random.choice(not_senior,len(not_senior), replace = False )\n",
    "    shuffle3 = np.random.choice(datamining,len(datamining), replace = False )\n",
    "    shuffle4 = np.random.choice(last,len(last), replace = False )\n",
    "    \n",
    "    \n",
    "    # Team\n",
    "    \n",
    "    str1 = str(shuffle1[0]) + \" \" + str(shuffle2[0])+\" \"+ shuffle3[0] + \" \" + \" \".join(shuffle4[:2])\n",
    "    str2 = str(shuffle1[1]) + \" \" + str(shuffle2[1])+\" \"+ shuffle3[1] + \" \" + \" \".join(shuffle4[2:4])\n",
    "    str3 = str(shuffle1[2]) + \" \" + str(shuffle2[2])+\" \"+ shuffle3[2] + \" \" + \" \".join(shuffle4[4:6])\n",
    "    \n",
    "    str4 = str(shuffle1[3]) + \" \" + \" \".join(shuffle3[3:5]) + \" \"+ \" \".join(shuffle4[6:8])\n",
    "    \n",
    "    str5 = str(shuffle1[4]) + \" \" + \" \".join(shuffle3[5:7]) + \" \"+ shuffle4[8]\n",
    "    str6 = str(shuffle1[5]) + \" \" + \" \".join(shuffle3[7:9]) + \" \"+ shuffle4[9]\n",
    "    \n",
    "    str7 = str(shuffle1[6]) + \" \" + \" \".join(shuffle3[9:12]) + \" \"+ shuffle4[10]\n",
    "    str8 = str(shuffle2[3]) + \" \" + \" \".join(shuffle3[12:15]) + \" \"+ shuffle4[11]\n",
    "    \n",
    "    str_set = [str1, str2, str3, str4, str5, str6, str7, str8]\n",
    "    \n",
    "    \n",
    "    # shuffle team order\n",
    "    \n",
    "    team_name = [\"Team 1 : \", \"Team 2 : \", \"Team 3 : \", \"Team 4 : \", \n",
    "                 \"Team 5 : \", \"Team 6 : \", \"Team 7 : \", \"Team 8 : \"]\n",
    "    str_set2 = []\n",
    "    team_name = np.random.choice(team_name, len(team_name), replace = False)\n",
    "    idx1 = 0\n",
    "    for items in str_set : \n",
    "        items = items.split()\n",
    "        items = np.random.choice(items,len(items), replace = False )\n",
    "        str_set2.append( str(team_name[idx1]) + \" \".join(items) )\n",
    "        idx1 += 1\n",
    "        \n",
    "    str_set2 = np.random.choice(str_set2,len(str_set2), replace = False )\n",
    "    str_print = '\\n'.join(str_set2)\n",
    "    print(str_print)"
   ]
  },
  {
   "cell_type": "code",
   "execution_count": 121,
   "metadata": {},
   "outputs": [
    {
     "name": "stdout",
     "output_type": "stream",
     "text": [
      "Team 7 : 최수연 박유환 조성근 정영주\n",
      "Team 6 : 고은빈 보아란 정명진 이호연 황재원\n",
      "Team 2 : 박주형 성민지 이유나 김동규 임양강\n",
      "Team 3 : 김민지 김진우 오혜린 김중훈 이세령\n",
      "Team 5 : 이동진 하혜진 배형준 고태영 조형래\n",
      "Team 4 : 김수완 지윤영 정철환 정민경 손면호\n",
      "Team 1 : 김병찬 이수민 윤지현 노소영 김성관\n",
      "Team 8 : 전은재 송지영 천정희 윤채원\n"
     ]
    }
   ],
   "source": [
    "survey = pd.read_csv(\"survey.csv\", encoding = \"euc-kr\")\n",
    "\n",
    "team_select()"
   ]
  },
  {
   "cell_type": "code",
   "execution_count": null,
   "metadata": {},
   "outputs": [],
   "source": []
  }
 ],
 "metadata": {
  "kernelspec": {
   "display_name": "Python 3",
   "language": "python",
   "name": "python3"
  },
  "language_info": {
   "codemirror_mode": {
    "name": "ipython",
    "version": 3
   },
   "file_extension": ".py",
   "mimetype": "text/x-python",
   "name": "python",
   "nbconvert_exporter": "python",
   "pygments_lexer": "ipython3",
   "version": "3.7.1"
  }
 },
 "nbformat": 4,
 "nbformat_minor": 2
}
