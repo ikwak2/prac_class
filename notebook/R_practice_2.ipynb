{
  "nbformat": 4,
  "nbformat_minor": 0,
  "metadata": {
    "colab": {
      "name": "R_practice 2.ipynb",
      "provenance": [],
      "collapsed_sections": [
        "eGSQOXQ4_AU5",
        "mlC9snrxBl8e",
        "wr6khQtVEGU9",
        "lZ7T-DXr-_cq",
        "4ulZKebLQP3G"
      ],
      "authorship_tag": "ABX9TyOGP15wj4UfzpOZ4X7wmhBH",
      "include_colab_link": true
    },
    "kernelspec": {
      "name": "ir",
      "display_name": "R"
    }
  },
  "cells": [
    {
      "cell_type": "markdown",
      "metadata": {
        "id": "view-in-github",
        "colab_type": "text"
      },
      "source": [
        "<a href=\"https://colab.research.google.com/github/ikwak2/prac_class/blob/main/notebook/R_practice_2.ipynb\" target=\"_parent\"><img src=\"https://colab.research.google.com/assets/colab-badge.svg\" alt=\"Open In Colab\"/></a>"
      ]
    },
    {
      "cell_type": "markdown",
      "metadata": {
        "id": "gstrndhz6psu"
      },
      "source": [
        "# Data Wrangling (tidyr)"
      ]
    },
    {
      "cell_type": "code",
      "metadata": {
        "id": "76FV1Zt07B11",
        "outputId": "4caae58f-5142-4815-c7c1-a2af80db05e7",
        "colab": {
          "base_uri": "https://localhost:8080/"
        }
      },
      "source": [
        "library(tidyverse)"
      ],
      "execution_count": 1,
      "outputs": [
        {
          "output_type": "stream",
          "text": [
            "Warning message in system(\"timedatectl\", intern = TRUE):\n",
            "“running command 'timedatectl' had status 1”\n",
            "── \u001b[1mAttaching packages\u001b[22m ─────────────────────────────────────── tidyverse 1.3.0 ──\n",
            "\n",
            "\u001b[32m✔\u001b[39m \u001b[34mggplot2\u001b[39m 3.3.3     \u001b[32m✔\u001b[39m \u001b[34mpurrr  \u001b[39m 0.3.4\n",
            "\u001b[32m✔\u001b[39m \u001b[34mtibble \u001b[39m 3.1.0     \u001b[32m✔\u001b[39m \u001b[34mdplyr  \u001b[39m 1.0.5\n",
            "\u001b[32m✔\u001b[39m \u001b[34mtidyr  \u001b[39m 1.1.3     \u001b[32m✔\u001b[39m \u001b[34mstringr\u001b[39m 1.4.0\n",
            "\u001b[32m✔\u001b[39m \u001b[34mreadr  \u001b[39m 1.4.0     \u001b[32m✔\u001b[39m \u001b[34mforcats\u001b[39m 0.5.1\n",
            "\n",
            "── \u001b[1mConflicts\u001b[22m ────────────────────────────────────────── tidyverse_conflicts() ──\n",
            "\u001b[31m✖\u001b[39m \u001b[34mdplyr\u001b[39m::\u001b[32mfilter()\u001b[39m masks \u001b[34mstats\u001b[39m::filter()\n",
            "\u001b[31m✖\u001b[39m \u001b[34mdplyr\u001b[39m::\u001b[32mlag()\u001b[39m    masks \u001b[34mstats\u001b[39m::lag()\n",
            "\n"
          ],
          "name": "stderr"
        }
      ]
    },
    {
      "cell_type": "markdown",
      "metadata": {
        "id": "RNJOq6-gLQik"
      },
      "source": [
        "## Example datasets"
      ]
    },
    {
      "cell_type": "code",
      "metadata": {
        "colab": {
          "base_uri": "https://localhost:8080/",
          "height": 271
        },
        "id": "NVHja2rs6-sx",
        "outputId": "dfa57922-0c1d-40d0-94cd-ad50468a6fd5"
      },
      "source": [
        "table1"
      ],
      "execution_count": 2,
      "outputs": [
        {
          "output_type": "display_data",
          "data": {
            "text/plain": [
              "  country     year cases  population\n",
              "1 Afghanistan 1999    745   19987071\n",
              "2 Afghanistan 2000   2666   20595360\n",
              "3 Brazil      1999  37737  172006362\n",
              "4 Brazil      2000  80488  174504898\n",
              "5 China       1999 212258 1272915272\n",
              "6 China       2000 213766 1280428583"
            ],
            "text/latex": "A tibble: 6 × 4\n\\begin{tabular}{llll}\n country & year & cases & population\\\\\n <chr> & <int> & <int> & <int>\\\\\n\\hline\n\t Afghanistan & 1999 &    745 &   19987071\\\\\n\t Afghanistan & 2000 &   2666 &   20595360\\\\\n\t Brazil      & 1999 &  37737 &  172006362\\\\\n\t Brazil      & 2000 &  80488 &  174504898\\\\\n\t China       & 1999 & 212258 & 1272915272\\\\\n\t China       & 2000 & 213766 & 1280428583\\\\\n\\end{tabular}\n",
            "text/markdown": "\nA tibble: 6 × 4\n\n| country &lt;chr&gt; | year &lt;int&gt; | cases &lt;int&gt; | population &lt;int&gt; |\n|---|---|---|---|\n| Afghanistan | 1999 |    745 |   19987071 |\n| Afghanistan | 2000 |   2666 |   20595360 |\n| Brazil      | 1999 |  37737 |  172006362 |\n| Brazil      | 2000 |  80488 |  174504898 |\n| China       | 1999 | 212258 | 1272915272 |\n| China       | 2000 | 213766 | 1280428583 |\n\n",
            "text/html": [
              "<table class=\"dataframe\">\n",
              "<caption>A tibble: 6 × 4</caption>\n",
              "<thead>\n",
              "\t<tr><th scope=col>country</th><th scope=col>year</th><th scope=col>cases</th><th scope=col>population</th></tr>\n",
              "\t<tr><th scope=col>&lt;chr&gt;</th><th scope=col>&lt;int&gt;</th><th scope=col>&lt;int&gt;</th><th scope=col>&lt;int&gt;</th></tr>\n",
              "</thead>\n",
              "<tbody>\n",
              "\t<tr><td>Afghanistan</td><td>1999</td><td>   745</td><td>  19987071</td></tr>\n",
              "\t<tr><td>Afghanistan</td><td>2000</td><td>  2666</td><td>  20595360</td></tr>\n",
              "\t<tr><td>Brazil     </td><td>1999</td><td> 37737</td><td> 172006362</td></tr>\n",
              "\t<tr><td>Brazil     </td><td>2000</td><td> 80488</td><td> 174504898</td></tr>\n",
              "\t<tr><td>China      </td><td>1999</td><td>212258</td><td>1272915272</td></tr>\n",
              "\t<tr><td>China      </td><td>2000</td><td>213766</td><td>1280428583</td></tr>\n",
              "</tbody>\n",
              "</table>\n"
            ]
          },
          "metadata": {
            "tags": []
          }
        }
      ]
    },
    {
      "cell_type": "code",
      "metadata": {
        "colab": {
          "base_uri": "https://localhost:8080/",
          "height": 449
        },
        "id": "Yc0K2hUT62I0",
        "outputId": "5c42876f-b80b-4160-ccf7-b100b435dfdb"
      },
      "source": [
        "table2"
      ],
      "execution_count": 3,
      "outputs": [
        {
          "output_type": "display_data",
          "data": {
            "text/plain": [
              "   country     year type       count     \n",
              "1  Afghanistan 1999 cases             745\n",
              "2  Afghanistan 1999 population   19987071\n",
              "3  Afghanistan 2000 cases            2666\n",
              "4  Afghanistan 2000 population   20595360\n",
              "5  Brazil      1999 cases           37737\n",
              "6  Brazil      1999 population  172006362\n",
              "7  Brazil      2000 cases           80488\n",
              "8  Brazil      2000 population  174504898\n",
              "9  China       1999 cases          212258\n",
              "10 China       1999 population 1272915272\n",
              "11 China       2000 cases          213766\n",
              "12 China       2000 population 1280428583"
            ],
            "text/latex": "A tibble: 12 × 4\n\\begin{tabular}{llll}\n country & year & type & count\\\\\n <chr> & <int> & <chr> & <int>\\\\\n\\hline\n\t Afghanistan & 1999 & cases      &        745\\\\\n\t Afghanistan & 1999 & population &   19987071\\\\\n\t Afghanistan & 2000 & cases      &       2666\\\\\n\t Afghanistan & 2000 & population &   20595360\\\\\n\t Brazil      & 1999 & cases      &      37737\\\\\n\t Brazil      & 1999 & population &  172006362\\\\\n\t Brazil      & 2000 & cases      &      80488\\\\\n\t Brazil      & 2000 & population &  174504898\\\\\n\t China       & 1999 & cases      &     212258\\\\\n\t China       & 1999 & population & 1272915272\\\\\n\t China       & 2000 & cases      &     213766\\\\\n\t China       & 2000 & population & 1280428583\\\\\n\\end{tabular}\n",
            "text/markdown": "\nA tibble: 12 × 4\n\n| country &lt;chr&gt; | year &lt;int&gt; | type &lt;chr&gt; | count &lt;int&gt; |\n|---|---|---|---|\n| Afghanistan | 1999 | cases      |        745 |\n| Afghanistan | 1999 | population |   19987071 |\n| Afghanistan | 2000 | cases      |       2666 |\n| Afghanistan | 2000 | population |   20595360 |\n| Brazil      | 1999 | cases      |      37737 |\n| Brazil      | 1999 | population |  172006362 |\n| Brazil      | 2000 | cases      |      80488 |\n| Brazil      | 2000 | population |  174504898 |\n| China       | 1999 | cases      |     212258 |\n| China       | 1999 | population | 1272915272 |\n| China       | 2000 | cases      |     213766 |\n| China       | 2000 | population | 1280428583 |\n\n",
            "text/html": [
              "<table class=\"dataframe\">\n",
              "<caption>A tibble: 12 × 4</caption>\n",
              "<thead>\n",
              "\t<tr><th scope=col>country</th><th scope=col>year</th><th scope=col>type</th><th scope=col>count</th></tr>\n",
              "\t<tr><th scope=col>&lt;chr&gt;</th><th scope=col>&lt;int&gt;</th><th scope=col>&lt;chr&gt;</th><th scope=col>&lt;int&gt;</th></tr>\n",
              "</thead>\n",
              "<tbody>\n",
              "\t<tr><td>Afghanistan</td><td>1999</td><td>cases     </td><td>       745</td></tr>\n",
              "\t<tr><td>Afghanistan</td><td>1999</td><td>population</td><td>  19987071</td></tr>\n",
              "\t<tr><td>Afghanistan</td><td>2000</td><td>cases     </td><td>      2666</td></tr>\n",
              "\t<tr><td>Afghanistan</td><td>2000</td><td>population</td><td>  20595360</td></tr>\n",
              "\t<tr><td>Brazil     </td><td>1999</td><td>cases     </td><td>     37737</td></tr>\n",
              "\t<tr><td>Brazil     </td><td>1999</td><td>population</td><td> 172006362</td></tr>\n",
              "\t<tr><td>Brazil     </td><td>2000</td><td>cases     </td><td>     80488</td></tr>\n",
              "\t<tr><td>Brazil     </td><td>2000</td><td>population</td><td> 174504898</td></tr>\n",
              "\t<tr><td>China      </td><td>1999</td><td>cases     </td><td>    212258</td></tr>\n",
              "\t<tr><td>China      </td><td>1999</td><td>population</td><td>1272915272</td></tr>\n",
              "\t<tr><td>China      </td><td>2000</td><td>cases     </td><td>    213766</td></tr>\n",
              "\t<tr><td>China      </td><td>2000</td><td>population</td><td>1280428583</td></tr>\n",
              "</tbody>\n",
              "</table>\n"
            ]
          },
          "metadata": {
            "tags": []
          }
        }
      ]
    },
    {
      "cell_type": "code",
      "metadata": {
        "colab": {
          "base_uri": "https://localhost:8080/",
          "height": 271
        },
        "id": "ruUuOM3Z6uHz",
        "outputId": "50c5ed02-565f-4d6f-c9fd-b527cddf4ba8"
      },
      "source": [
        "table3"
      ],
      "execution_count": 4,
      "outputs": [
        {
          "output_type": "display_data",
          "data": {
            "text/plain": [
              "  country     year rate             \n",
              "1 Afghanistan 1999 745/19987071     \n",
              "2 Afghanistan 2000 2666/20595360    \n",
              "3 Brazil      1999 37737/172006362  \n",
              "4 Brazil      2000 80488/174504898  \n",
              "5 China       1999 212258/1272915272\n",
              "6 China       2000 213766/1280428583"
            ],
            "text/latex": "A tibble: 6 × 3\n\\begin{tabular}{r|lll}\n  & country & year & rate\\\\\n  & <chr> & <int> & <chr>\\\\\n\\hline\n\t1 & Afghanistan & 1999 & 745/19987071     \\\\\n\t2 & Afghanistan & 2000 & 2666/20595360    \\\\\n\t3 & Brazil      & 1999 & 37737/172006362  \\\\\n\t4 & Brazil      & 2000 & 80488/174504898  \\\\\n\t5 & China       & 1999 & 212258/1272915272\\\\\n\t6 & China       & 2000 & 213766/1280428583\\\\\n\\end{tabular}\n",
            "text/markdown": "\nA tibble: 6 × 3\n\n| <!--/--> | country &lt;chr&gt; | year &lt;int&gt; | rate &lt;chr&gt; |\n|---|---|---|---|\n| 1 | Afghanistan | 1999 | 745/19987071      |\n| 2 | Afghanistan | 2000 | 2666/20595360     |\n| 3 | Brazil      | 1999 | 37737/172006362   |\n| 4 | Brazil      | 2000 | 80488/174504898   |\n| 5 | China       | 1999 | 212258/1272915272 |\n| 6 | China       | 2000 | 213766/1280428583 |\n\n",
            "text/html": [
              "<table class=\"dataframe\">\n",
              "<caption>A tibble: 6 × 3</caption>\n",
              "<thead>\n",
              "\t<tr><th></th><th scope=col>country</th><th scope=col>year</th><th scope=col>rate</th></tr>\n",
              "\t<tr><th></th><th scope=col>&lt;chr&gt;</th><th scope=col>&lt;int&gt;</th><th scope=col>&lt;chr&gt;</th></tr>\n",
              "</thead>\n",
              "<tbody>\n",
              "\t<tr><th scope=row>1</th><td>Afghanistan</td><td>1999</td><td>745/19987071     </td></tr>\n",
              "\t<tr><th scope=row>2</th><td>Afghanistan</td><td>2000</td><td>2666/20595360    </td></tr>\n",
              "\t<tr><th scope=row>3</th><td>Brazil     </td><td>1999</td><td>37737/172006362  </td></tr>\n",
              "\t<tr><th scope=row>4</th><td>Brazil     </td><td>2000</td><td>80488/174504898  </td></tr>\n",
              "\t<tr><th scope=row>5</th><td>China      </td><td>1999</td><td>212258/1272915272</td></tr>\n",
              "\t<tr><th scope=row>6</th><td>China      </td><td>2000</td><td>213766/1280428583</td></tr>\n",
              "</tbody>\n",
              "</table>\n"
            ]
          },
          "metadata": {
            "tags": []
          }
        }
      ]
    },
    {
      "cell_type": "code",
      "metadata": {
        "id": "g7pkx0_iKcLw",
        "outputId": "608aadc8-018d-433f-b67c-d6cb3c642dde",
        "colab": {
          "base_uri": "https://localhost:8080/",
          "height": 182
        }
      },
      "source": [
        "table4a # N. cases"
      ],
      "execution_count": 5,
      "outputs": [
        {
          "output_type": "display_data",
          "data": {
            "text/plain": [
              "  country     1999   2000  \n",
              "1 Afghanistan    745   2666\n",
              "2 Brazil       37737  80488\n",
              "3 China       212258 213766"
            ],
            "text/latex": "A tibble: 3 × 3\n\\begin{tabular}{r|lll}\n  & country & 1999 & 2000\\\\\n  & <chr> & <int> & <int>\\\\\n\\hline\n\t1 & Afghanistan &    745 &   2666\\\\\n\t2 & Brazil      &  37737 &  80488\\\\\n\t3 & China       & 212258 & 213766\\\\\n\\end{tabular}\n",
            "text/markdown": "\nA tibble: 3 × 3\n\n| <!--/--> | country &lt;chr&gt; | 1999 &lt;int&gt; | 2000 &lt;int&gt; |\n|---|---|---|---|\n| 1 | Afghanistan |    745 |   2666 |\n| 2 | Brazil      |  37737 |  80488 |\n| 3 | China       | 212258 | 213766 |\n\n",
            "text/html": [
              "<table class=\"dataframe\">\n",
              "<caption>A tibble: 3 × 3</caption>\n",
              "<thead>\n",
              "\t<tr><th></th><th scope=col>country</th><th scope=col>1999</th><th scope=col>2000</th></tr>\n",
              "\t<tr><th></th><th scope=col>&lt;chr&gt;</th><th scope=col>&lt;int&gt;</th><th scope=col>&lt;int&gt;</th></tr>\n",
              "</thead>\n",
              "<tbody>\n",
              "\t<tr><th scope=row>1</th><td>Afghanistan</td><td>   745</td><td>  2666</td></tr>\n",
              "\t<tr><th scope=row>2</th><td>Brazil     </td><td> 37737</td><td> 80488</td></tr>\n",
              "\t<tr><th scope=row>3</th><td>China      </td><td>212258</td><td>213766</td></tr>\n",
              "</tbody>\n",
              "</table>\n"
            ]
          },
          "metadata": {
            "tags": []
          }
        }
      ]
    },
    {
      "cell_type": "code",
      "metadata": {
        "id": "49S9TIboKeCV",
        "outputId": "8b63f69c-a239-4a55-f261-58de1b8e419a",
        "colab": {
          "base_uri": "https://localhost:8080/",
          "height": 182
        }
      },
      "source": [
        "table4b # N. population"
      ],
      "execution_count": 6,
      "outputs": [
        {
          "output_type": "display_data",
          "data": {
            "text/plain": [
              "  country     1999       2000      \n",
              "1 Afghanistan   19987071   20595360\n",
              "2 Brazil       172006362  174504898\n",
              "3 China       1272915272 1280428583"
            ],
            "text/latex": "A tibble: 3 × 3\n\\begin{tabular}{r|lll}\n  & country & 1999 & 2000\\\\\n  & <chr> & <int> & <int>\\\\\n\\hline\n\t1 & Afghanistan &   19987071 &   20595360\\\\\n\t2 & Brazil      &  172006362 &  174504898\\\\\n\t3 & China       & 1272915272 & 1280428583\\\\\n\\end{tabular}\n",
            "text/markdown": "\nA tibble: 3 × 3\n\n| <!--/--> | country &lt;chr&gt; | 1999 &lt;int&gt; | 2000 &lt;int&gt; |\n|---|---|---|---|\n| 1 | Afghanistan |   19987071 |   20595360 |\n| 2 | Brazil      |  172006362 |  174504898 |\n| 3 | China       | 1272915272 | 1280428583 |\n\n",
            "text/html": [
              "<table class=\"dataframe\">\n",
              "<caption>A tibble: 3 × 3</caption>\n",
              "<thead>\n",
              "\t<tr><th></th><th scope=col>country</th><th scope=col>1999</th><th scope=col>2000</th></tr>\n",
              "\t<tr><th></th><th scope=col>&lt;chr&gt;</th><th scope=col>&lt;int&gt;</th><th scope=col>&lt;int&gt;</th></tr>\n",
              "</thead>\n",
              "<tbody>\n",
              "\t<tr><th scope=row>1</th><td>Afghanistan</td><td>  19987071</td><td>  20595360</td></tr>\n",
              "\t<tr><th scope=row>2</th><td>Brazil     </td><td> 172006362</td><td> 174504898</td></tr>\n",
              "\t<tr><th scope=row>3</th><td>China      </td><td>1272915272</td><td>1280428583</td></tr>\n",
              "</tbody>\n",
              "</table>\n"
            ]
          },
          "metadata": {
            "tags": []
          }
        }
      ]
    },
    {
      "cell_type": "markdown",
      "metadata": {
        "id": "Ja7B9v_QLXDw"
      },
      "source": [
        "## pivot_longer() "
      ]
    },
    {
      "cell_type": "markdown",
      "metadata": {
        "id": "_HaJOk7fMnEM"
      },
      "source": [
        "One variable might be spread across multiple columns"
      ]
    },
    {
      "cell_type": "markdown",
      "metadata": {
        "id": "CM7i75ShLcRx"
      },
      "source": [
        "Apply pivot_longer() to table4a"
      ]
    },
    {
      "cell_type": "code",
      "metadata": {
        "id": "BefFvDSOKo6I",
        "outputId": "c7c83ab7-84ca-4f9b-e26d-50ad19af88be",
        "colab": {
          "base_uri": "https://localhost:8080/",
          "height": 271
        }
      },
      "source": [
        "table4a %>% \n",
        "  pivot_longer(c('1999', '2000'), names_to = \"year\", values_to = \"cases\")\n"
      ],
      "execution_count": 7,
      "outputs": [
        {
          "output_type": "display_data",
          "data": {
            "text/plain": [
              "  country     year cases \n",
              "1 Afghanistan 1999    745\n",
              "2 Afghanistan 2000   2666\n",
              "3 Brazil      1999  37737\n",
              "4 Brazil      2000  80488\n",
              "5 China       1999 212258\n",
              "6 China       2000 213766"
            ],
            "text/latex": "A tibble: 6 × 3\n\\begin{tabular}{lll}\n country & year & cases\\\\\n <chr> & <chr> & <int>\\\\\n\\hline\n\t Afghanistan & 1999 &    745\\\\\n\t Afghanistan & 2000 &   2666\\\\\n\t Brazil      & 1999 &  37737\\\\\n\t Brazil      & 2000 &  80488\\\\\n\t China       & 1999 & 212258\\\\\n\t China       & 2000 & 213766\\\\\n\\end{tabular}\n",
            "text/markdown": "\nA tibble: 6 × 3\n\n| country &lt;chr&gt; | year &lt;chr&gt; | cases &lt;int&gt; |\n|---|---|---|\n| Afghanistan | 1999 |    745 |\n| Afghanistan | 2000 |   2666 |\n| Brazil      | 1999 |  37737 |\n| Brazil      | 2000 |  80488 |\n| China       | 1999 | 212258 |\n| China       | 2000 | 213766 |\n\n",
            "text/html": [
              "<table class=\"dataframe\">\n",
              "<caption>A tibble: 6 × 3</caption>\n",
              "<thead>\n",
              "\t<tr><th scope=col>country</th><th scope=col>year</th><th scope=col>cases</th></tr>\n",
              "\t<tr><th scope=col>&lt;chr&gt;</th><th scope=col>&lt;chr&gt;</th><th scope=col>&lt;int&gt;</th></tr>\n",
              "</thead>\n",
              "<tbody>\n",
              "\t<tr><td>Afghanistan</td><td>1999</td><td>   745</td></tr>\n",
              "\t<tr><td>Afghanistan</td><td>2000</td><td>  2666</td></tr>\n",
              "\t<tr><td>Brazil     </td><td>1999</td><td> 37737</td></tr>\n",
              "\t<tr><td>Brazil     </td><td>2000</td><td> 80488</td></tr>\n",
              "\t<tr><td>China      </td><td>1999</td><td>212258</td></tr>\n",
              "\t<tr><td>China      </td><td>2000</td><td>213766</td></tr>\n",
              "</tbody>\n",
              "</table>\n"
            ]
          },
          "metadata": {
            "tags": []
          }
        }
      ]
    },
    {
      "cell_type": "markdown",
      "metadata": {
        "id": "536HG8rsLgSu"
      },
      "source": [
        "apply it to table4b"
      ]
    },
    {
      "cell_type": "code",
      "metadata": {
        "id": "NcFsYuOTKf3b",
        "outputId": "ff5ddcbc-5427-44d4-d9dc-38c8f823f2fd",
        "colab": {
          "base_uri": "https://localhost:8080/",
          "height": 271
        }
      },
      "source": [
        "table4b %>% \n",
        "  pivot_longer(c('1999', '2000'), names_to = \"year\", values_to = \"population\")\n"
      ],
      "execution_count": 8,
      "outputs": [
        {
          "output_type": "display_data",
          "data": {
            "text/plain": [
              "  country     year population\n",
              "1 Afghanistan 1999   19987071\n",
              "2 Afghanistan 2000   20595360\n",
              "3 Brazil      1999  172006362\n",
              "4 Brazil      2000  174504898\n",
              "5 China       1999 1272915272\n",
              "6 China       2000 1280428583"
            ],
            "text/latex": "A tibble: 6 × 3\n\\begin{tabular}{lll}\n country & year & population\\\\\n <chr> & <chr> & <int>\\\\\n\\hline\n\t Afghanistan & 1999 &   19987071\\\\\n\t Afghanistan & 2000 &   20595360\\\\\n\t Brazil      & 1999 &  172006362\\\\\n\t Brazil      & 2000 &  174504898\\\\\n\t China       & 1999 & 1272915272\\\\\n\t China       & 2000 & 1280428583\\\\\n\\end{tabular}\n",
            "text/markdown": "\nA tibble: 6 × 3\n\n| country &lt;chr&gt; | year &lt;chr&gt; | population &lt;int&gt; |\n|---|---|---|\n| Afghanistan | 1999 |   19987071 |\n| Afghanistan | 2000 |   20595360 |\n| Brazil      | 1999 |  172006362 |\n| Brazil      | 2000 |  174504898 |\n| China       | 1999 | 1272915272 |\n| China       | 2000 | 1280428583 |\n\n",
            "text/html": [
              "<table class=\"dataframe\">\n",
              "<caption>A tibble: 6 × 3</caption>\n",
              "<thead>\n",
              "\t<tr><th scope=col>country</th><th scope=col>year</th><th scope=col>population</th></tr>\n",
              "\t<tr><th scope=col>&lt;chr&gt;</th><th scope=col>&lt;chr&gt;</th><th scope=col>&lt;int&gt;</th></tr>\n",
              "</thead>\n",
              "<tbody>\n",
              "\t<tr><td>Afghanistan</td><td>1999</td><td>  19987071</td></tr>\n",
              "\t<tr><td>Afghanistan</td><td>2000</td><td>  20595360</td></tr>\n",
              "\t<tr><td>Brazil     </td><td>1999</td><td> 172006362</td></tr>\n",
              "\t<tr><td>Brazil     </td><td>2000</td><td> 174504898</td></tr>\n",
              "\t<tr><td>China      </td><td>1999</td><td>1272915272</td></tr>\n",
              "\t<tr><td>China      </td><td>2000</td><td>1280428583</td></tr>\n",
              "</tbody>\n",
              "</table>\n"
            ]
          },
          "metadata": {
            "tags": []
          }
        }
      ]
    },
    {
      "cell_type": "markdown",
      "metadata": {
        "id": "Y8lndFAeLk6S"
      },
      "source": [
        "Join two tables"
      ]
    },
    {
      "cell_type": "code",
      "metadata": {
        "id": "y3-IqtQCKfsR",
        "outputId": "8923ee84-b3e4-4a29-f67e-a8eb1831a6b6",
        "colab": {
          "base_uri": "https://localhost:8080/",
          "height": 306
        }
      },
      "source": [
        "tidy4a <- table4a %>% \n",
        "  pivot_longer(c('1999', '2000'), names_to = \"year\", values_to = \"cases\")\n",
        "tidy4b <- table4b %>% \n",
        "  pivot_longer(c('1999', '2000'), names_to = \"year\", values_to = \"population\")\n",
        "left_join(tidy4a, tidy4b)\n"
      ],
      "execution_count": 12,
      "outputs": [
        {
          "output_type": "stream",
          "text": [
            "Joining, by = c(\"country\", \"year\")\n",
            "\n"
          ],
          "name": "stderr"
        },
        {
          "output_type": "display_data",
          "data": {
            "text/plain": [
              "  country     year cases  population\n",
              "1 Afghanistan 1999    745   19987071\n",
              "2 Afghanistan 2000   2666   20595360\n",
              "3 Brazil      1999  37737  172006362\n",
              "4 Brazil      2000  80488  174504898\n",
              "5 China       1999 212258 1272915272\n",
              "6 China       2000 213766 1280428583"
            ],
            "text/latex": "A tibble: 6 × 4\n\\begin{tabular}{llll}\n country & year & cases & population\\\\\n <chr> & <chr> & <int> & <int>\\\\\n\\hline\n\t Afghanistan & 1999 &    745 &   19987071\\\\\n\t Afghanistan & 2000 &   2666 &   20595360\\\\\n\t Brazil      & 1999 &  37737 &  172006362\\\\\n\t Brazil      & 2000 &  80488 &  174504898\\\\\n\t China       & 1999 & 212258 & 1272915272\\\\\n\t China       & 2000 & 213766 & 1280428583\\\\\n\\end{tabular}\n",
            "text/markdown": "\nA tibble: 6 × 4\n\n| country &lt;chr&gt; | year &lt;chr&gt; | cases &lt;int&gt; | population &lt;int&gt; |\n|---|---|---|---|\n| Afghanistan | 1999 |    745 |   19987071 |\n| Afghanistan | 2000 |   2666 |   20595360 |\n| Brazil      | 1999 |  37737 |  172006362 |\n| Brazil      | 2000 |  80488 |  174504898 |\n| China       | 1999 | 212258 | 1272915272 |\n| China       | 2000 | 213766 | 1280428583 |\n\n",
            "text/html": [
              "<table class=\"dataframe\">\n",
              "<caption>A tibble: 6 × 4</caption>\n",
              "<thead>\n",
              "\t<tr><th scope=col>country</th><th scope=col>year</th><th scope=col>cases</th><th scope=col>population</th></tr>\n",
              "\t<tr><th scope=col>&lt;chr&gt;</th><th scope=col>&lt;chr&gt;</th><th scope=col>&lt;int&gt;</th><th scope=col>&lt;int&gt;</th></tr>\n",
              "</thead>\n",
              "<tbody>\n",
              "\t<tr><td>Afghanistan</td><td>1999</td><td>   745</td><td>  19987071</td></tr>\n",
              "\t<tr><td>Afghanistan</td><td>2000</td><td>  2666</td><td>  20595360</td></tr>\n",
              "\t<tr><td>Brazil     </td><td>1999</td><td> 37737</td><td> 172006362</td></tr>\n",
              "\t<tr><td>Brazil     </td><td>2000</td><td> 80488</td><td> 174504898</td></tr>\n",
              "\t<tr><td>China      </td><td>1999</td><td>212258</td><td>1272915272</td></tr>\n",
              "\t<tr><td>China      </td><td>2000</td><td>213766</td><td>1280428583</td></tr>\n",
              "</tbody>\n",
              "</table>\n"
            ]
          },
          "metadata": {
            "tags": []
          }
        }
      ]
    },
    {
      "cell_type": "markdown",
      "metadata": {
        "id": "pFJXg7AAMIQR"
      },
      "source": [
        "### Q: What is right_join? try ?right_join and study join methods"
      ]
    },
    {
      "cell_type": "markdown",
      "metadata": {
        "id": "6tJiqPzUMZXe"
      },
      "source": [
        "## Pivot_wider()"
      ]
    },
    {
      "cell_type": "markdown",
      "metadata": {
        "id": "agZwBpgJMe3T"
      },
      "source": [
        "One observation might be scattered across multiple rows"
      ]
    },
    {
      "cell_type": "code",
      "metadata": {
        "id": "ef7xVxDvKfU6",
        "outputId": "8127eb8b-58f6-4c7f-a327-cefb1619d9f0",
        "colab": {
          "base_uri": "https://localhost:8080/",
          "height": 449
        }
      },
      "source": [
        "table2"
      ],
      "execution_count": 15,
      "outputs": [
        {
          "output_type": "display_data",
          "data": {
            "text/plain": [
              "   country     year type       count     \n",
              "1  Afghanistan 1999 cases             745\n",
              "2  Afghanistan 1999 population   19987071\n",
              "3  Afghanistan 2000 cases            2666\n",
              "4  Afghanistan 2000 population   20595360\n",
              "5  Brazil      1999 cases           37737\n",
              "6  Brazil      1999 population  172006362\n",
              "7  Brazil      2000 cases           80488\n",
              "8  Brazil      2000 population  174504898\n",
              "9  China       1999 cases          212258\n",
              "10 China       1999 population 1272915272\n",
              "11 China       2000 cases          213766\n",
              "12 China       2000 population 1280428583"
            ],
            "text/latex": "A tibble: 12 × 4\n\\begin{tabular}{llll}\n country & year & type & count\\\\\n <chr> & <int> & <chr> & <int>\\\\\n\\hline\n\t Afghanistan & 1999 & cases      &        745\\\\\n\t Afghanistan & 1999 & population &   19987071\\\\\n\t Afghanistan & 2000 & cases      &       2666\\\\\n\t Afghanistan & 2000 & population &   20595360\\\\\n\t Brazil      & 1999 & cases      &      37737\\\\\n\t Brazil      & 1999 & population &  172006362\\\\\n\t Brazil      & 2000 & cases      &      80488\\\\\n\t Brazil      & 2000 & population &  174504898\\\\\n\t China       & 1999 & cases      &     212258\\\\\n\t China       & 1999 & population & 1272915272\\\\\n\t China       & 2000 & cases      &     213766\\\\\n\t China       & 2000 & population & 1280428583\\\\\n\\end{tabular}\n",
            "text/markdown": "\nA tibble: 12 × 4\n\n| country &lt;chr&gt; | year &lt;int&gt; | type &lt;chr&gt; | count &lt;int&gt; |\n|---|---|---|---|\n| Afghanistan | 1999 | cases      |        745 |\n| Afghanistan | 1999 | population |   19987071 |\n| Afghanistan | 2000 | cases      |       2666 |\n| Afghanistan | 2000 | population |   20595360 |\n| Brazil      | 1999 | cases      |      37737 |\n| Brazil      | 1999 | population |  172006362 |\n| Brazil      | 2000 | cases      |      80488 |\n| Brazil      | 2000 | population |  174504898 |\n| China       | 1999 | cases      |     212258 |\n| China       | 1999 | population | 1272915272 |\n| China       | 2000 | cases      |     213766 |\n| China       | 2000 | population | 1280428583 |\n\n",
            "text/html": [
              "<table class=\"dataframe\">\n",
              "<caption>A tibble: 12 × 4</caption>\n",
              "<thead>\n",
              "\t<tr><th scope=col>country</th><th scope=col>year</th><th scope=col>type</th><th scope=col>count</th></tr>\n",
              "\t<tr><th scope=col>&lt;chr&gt;</th><th scope=col>&lt;int&gt;</th><th scope=col>&lt;chr&gt;</th><th scope=col>&lt;int&gt;</th></tr>\n",
              "</thead>\n",
              "<tbody>\n",
              "\t<tr><td>Afghanistan</td><td>1999</td><td>cases     </td><td>       745</td></tr>\n",
              "\t<tr><td>Afghanistan</td><td>1999</td><td>population</td><td>  19987071</td></tr>\n",
              "\t<tr><td>Afghanistan</td><td>2000</td><td>cases     </td><td>      2666</td></tr>\n",
              "\t<tr><td>Afghanistan</td><td>2000</td><td>population</td><td>  20595360</td></tr>\n",
              "\t<tr><td>Brazil     </td><td>1999</td><td>cases     </td><td>     37737</td></tr>\n",
              "\t<tr><td>Brazil     </td><td>1999</td><td>population</td><td> 172006362</td></tr>\n",
              "\t<tr><td>Brazil     </td><td>2000</td><td>cases     </td><td>     80488</td></tr>\n",
              "\t<tr><td>Brazil     </td><td>2000</td><td>population</td><td> 174504898</td></tr>\n",
              "\t<tr><td>China      </td><td>1999</td><td>cases     </td><td>    212258</td></tr>\n",
              "\t<tr><td>China      </td><td>1999</td><td>population</td><td>1272915272</td></tr>\n",
              "\t<tr><td>China      </td><td>2000</td><td>cases     </td><td>    213766</td></tr>\n",
              "\t<tr><td>China      </td><td>2000</td><td>population</td><td>1280428583</td></tr>\n",
              "</tbody>\n",
              "</table>\n"
            ]
          },
          "metadata": {
            "tags": []
          }
        }
      ]
    },
    {
      "cell_type": "code",
      "metadata": {
        "id": "dxI9LeITM3j3",
        "outputId": "7312b4c3-7187-4ee7-81ae-848d8133ffd9",
        "colab": {
          "base_uri": "https://localhost:8080/",
          "height": 271
        }
      },
      "source": [
        "table2 %>% pivot_wider(names_from = type, values_from = count)"
      ],
      "execution_count": 16,
      "outputs": [
        {
          "output_type": "display_data",
          "data": {
            "text/plain": [
              "  country     year cases  population\n",
              "1 Afghanistan 1999    745   19987071\n",
              "2 Afghanistan 2000   2666   20595360\n",
              "3 Brazil      1999  37737  172006362\n",
              "4 Brazil      2000  80488  174504898\n",
              "5 China       1999 212258 1272915272\n",
              "6 China       2000 213766 1280428583"
            ],
            "text/latex": "A tibble: 6 × 4\n\\begin{tabular}{llll}\n country & year & cases & population\\\\\n <chr> & <int> & <int> & <int>\\\\\n\\hline\n\t Afghanistan & 1999 &    745 &   19987071\\\\\n\t Afghanistan & 2000 &   2666 &   20595360\\\\\n\t Brazil      & 1999 &  37737 &  172006362\\\\\n\t Brazil      & 2000 &  80488 &  174504898\\\\\n\t China       & 1999 & 212258 & 1272915272\\\\\n\t China       & 2000 & 213766 & 1280428583\\\\\n\\end{tabular}\n",
            "text/markdown": "\nA tibble: 6 × 4\n\n| country &lt;chr&gt; | year &lt;int&gt; | cases &lt;int&gt; | population &lt;int&gt; |\n|---|---|---|---|\n| Afghanistan | 1999 |    745 |   19987071 |\n| Afghanistan | 2000 |   2666 |   20595360 |\n| Brazil      | 1999 |  37737 |  172006362 |\n| Brazil      | 2000 |  80488 |  174504898 |\n| China       | 1999 | 212258 | 1272915272 |\n| China       | 2000 | 213766 | 1280428583 |\n\n",
            "text/html": [
              "<table class=\"dataframe\">\n",
              "<caption>A tibble: 6 × 4</caption>\n",
              "<thead>\n",
              "\t<tr><th scope=col>country</th><th scope=col>year</th><th scope=col>cases</th><th scope=col>population</th></tr>\n",
              "\t<tr><th scope=col>&lt;chr&gt;</th><th scope=col>&lt;int&gt;</th><th scope=col>&lt;int&gt;</th><th scope=col>&lt;int&gt;</th></tr>\n",
              "</thead>\n",
              "<tbody>\n",
              "\t<tr><td>Afghanistan</td><td>1999</td><td>   745</td><td>  19987071</td></tr>\n",
              "\t<tr><td>Afghanistan</td><td>2000</td><td>  2666</td><td>  20595360</td></tr>\n",
              "\t<tr><td>Brazil     </td><td>1999</td><td> 37737</td><td> 172006362</td></tr>\n",
              "\t<tr><td>Brazil     </td><td>2000</td><td> 80488</td><td> 174504898</td></tr>\n",
              "\t<tr><td>China      </td><td>1999</td><td>212258</td><td>1272915272</td></tr>\n",
              "\t<tr><td>China      </td><td>2000</td><td>213766</td><td>1280428583</td></tr>\n",
              "</tbody>\n",
              "</table>\n"
            ]
          },
          "metadata": {
            "tags": []
          }
        }
      ]
    },
    {
      "cell_type": "markdown",
      "metadata": {
        "id": "gyxo4AYZNEAs"
      },
      "source": [
        "## Separating and Uniting "
      ]
    },
    {
      "cell_type": "markdown",
      "metadata": {
        "id": "ry9qAKWNNznX"
      },
      "source": [
        "## separate()"
      ]
    },
    {
      "cell_type": "markdown",
      "metadata": {
        "id": "I783ke7ANPUh"
      },
      "source": [
        "One column contains two variables "
      ]
    },
    {
      "cell_type": "code",
      "metadata": {
        "id": "v6XtM3tBM3RB",
        "outputId": "21d76d55-0912-4814-cb46-62b2ad2684ea",
        "colab": {
          "base_uri": "https://localhost:8080/",
          "height": 271
        }
      },
      "source": [
        "table3 "
      ],
      "execution_count": 17,
      "outputs": [
        {
          "output_type": "display_data",
          "data": {
            "text/plain": [
              "  country     year rate             \n",
              "1 Afghanistan 1999 745/19987071     \n",
              "2 Afghanistan 2000 2666/20595360    \n",
              "3 Brazil      1999 37737/172006362  \n",
              "4 Brazil      2000 80488/174504898  \n",
              "5 China       1999 212258/1272915272\n",
              "6 China       2000 213766/1280428583"
            ],
            "text/latex": "A tibble: 6 × 3\n\\begin{tabular}{r|lll}\n  & country & year & rate\\\\\n  & <chr> & <int> & <chr>\\\\\n\\hline\n\t1 & Afghanistan & 1999 & 745/19987071     \\\\\n\t2 & Afghanistan & 2000 & 2666/20595360    \\\\\n\t3 & Brazil      & 1999 & 37737/172006362  \\\\\n\t4 & Brazil      & 2000 & 80488/174504898  \\\\\n\t5 & China       & 1999 & 212258/1272915272\\\\\n\t6 & China       & 2000 & 213766/1280428583\\\\\n\\end{tabular}\n",
            "text/markdown": "\nA tibble: 6 × 3\n\n| <!--/--> | country &lt;chr&gt; | year &lt;int&gt; | rate &lt;chr&gt; |\n|---|---|---|---|\n| 1 | Afghanistan | 1999 | 745/19987071      |\n| 2 | Afghanistan | 2000 | 2666/20595360     |\n| 3 | Brazil      | 1999 | 37737/172006362   |\n| 4 | Brazil      | 2000 | 80488/174504898   |\n| 5 | China       | 1999 | 212258/1272915272 |\n| 6 | China       | 2000 | 213766/1280428583 |\n\n",
            "text/html": [
              "<table class=\"dataframe\">\n",
              "<caption>A tibble: 6 × 3</caption>\n",
              "<thead>\n",
              "\t<tr><th></th><th scope=col>country</th><th scope=col>year</th><th scope=col>rate</th></tr>\n",
              "\t<tr><th></th><th scope=col>&lt;chr&gt;</th><th scope=col>&lt;int&gt;</th><th scope=col>&lt;chr&gt;</th></tr>\n",
              "</thead>\n",
              "<tbody>\n",
              "\t<tr><th scope=row>1</th><td>Afghanistan</td><td>1999</td><td>745/19987071     </td></tr>\n",
              "\t<tr><th scope=row>2</th><td>Afghanistan</td><td>2000</td><td>2666/20595360    </td></tr>\n",
              "\t<tr><th scope=row>3</th><td>Brazil     </td><td>1999</td><td>37737/172006362  </td></tr>\n",
              "\t<tr><th scope=row>4</th><td>Brazil     </td><td>2000</td><td>80488/174504898  </td></tr>\n",
              "\t<tr><th scope=row>5</th><td>China      </td><td>1999</td><td>212258/1272915272</td></tr>\n",
              "\t<tr><th scope=row>6</th><td>China      </td><td>2000</td><td>213766/1280428583</td></tr>\n",
              "</tbody>\n",
              "</table>\n"
            ]
          },
          "metadata": {
            "tags": []
          }
        }
      ]
    },
    {
      "cell_type": "code",
      "metadata": {
        "id": "l14bCe7tNOXC",
        "outputId": "c46d912f-aa7c-4e40-d2d4-dbd52b3d74e2",
        "colab": {
          "base_uri": "https://localhost:8080/",
          "height": 271
        }
      },
      "source": [
        "table3 %>% separate(rate, into = c(\"cases\", \"population\"))"
      ],
      "execution_count": 18,
      "outputs": [
        {
          "output_type": "display_data",
          "data": {
            "text/plain": [
              "  country     year cases  population\n",
              "1 Afghanistan 1999 745    19987071  \n",
              "2 Afghanistan 2000 2666   20595360  \n",
              "3 Brazil      1999 37737  172006362 \n",
              "4 Brazil      2000 80488  174504898 \n",
              "5 China       1999 212258 1272915272\n",
              "6 China       2000 213766 1280428583"
            ],
            "text/latex": "A tibble: 6 × 4\n\\begin{tabular}{llll}\n country & year & cases & population\\\\\n <chr> & <int> & <chr> & <chr>\\\\\n\\hline\n\t Afghanistan & 1999 & 745    & 19987071  \\\\\n\t Afghanistan & 2000 & 2666   & 20595360  \\\\\n\t Brazil      & 1999 & 37737  & 172006362 \\\\\n\t Brazil      & 2000 & 80488  & 174504898 \\\\\n\t China       & 1999 & 212258 & 1272915272\\\\\n\t China       & 2000 & 213766 & 1280428583\\\\\n\\end{tabular}\n",
            "text/markdown": "\nA tibble: 6 × 4\n\n| country &lt;chr&gt; | year &lt;int&gt; | cases &lt;chr&gt; | population &lt;chr&gt; |\n|---|---|---|---|\n| Afghanistan | 1999 | 745    | 19987071   |\n| Afghanistan | 2000 | 2666   | 20595360   |\n| Brazil      | 1999 | 37737  | 172006362  |\n| Brazil      | 2000 | 80488  | 174504898  |\n| China       | 1999 | 212258 | 1272915272 |\n| China       | 2000 | 213766 | 1280428583 |\n\n",
            "text/html": [
              "<table class=\"dataframe\">\n",
              "<caption>A tibble: 6 × 4</caption>\n",
              "<thead>\n",
              "\t<tr><th scope=col>country</th><th scope=col>year</th><th scope=col>cases</th><th scope=col>population</th></tr>\n",
              "\t<tr><th scope=col>&lt;chr&gt;</th><th scope=col>&lt;int&gt;</th><th scope=col>&lt;chr&gt;</th><th scope=col>&lt;chr&gt;</th></tr>\n",
              "</thead>\n",
              "<tbody>\n",
              "\t<tr><td>Afghanistan</td><td>1999</td><td>745   </td><td>19987071  </td></tr>\n",
              "\t<tr><td>Afghanistan</td><td>2000</td><td>2666  </td><td>20595360  </td></tr>\n",
              "\t<tr><td>Brazil     </td><td>1999</td><td>37737 </td><td>172006362 </td></tr>\n",
              "\t<tr><td>Brazil     </td><td>2000</td><td>80488 </td><td>174504898 </td></tr>\n",
              "\t<tr><td>China      </td><td>1999</td><td>212258</td><td>1272915272</td></tr>\n",
              "\t<tr><td>China      </td><td>2000</td><td>213766</td><td>1280428583</td></tr>\n",
              "</tbody>\n",
              "</table>\n"
            ]
          },
          "metadata": {
            "tags": []
          }
        }
      ]
    },
    {
      "cell_type": "code",
      "metadata": {
        "id": "G0XHFNVkNrug"
      },
      "source": [
        ""
      ],
      "execution_count": null,
      "outputs": []
    },
    {
      "cell_type": "markdown",
      "metadata": {
        "id": "rcwEYGt7NwG_"
      },
      "source": [
        "## unite()\n",
        "\n",
        "Single variable is spread across multiple columns"
      ]
    },
    {
      "cell_type": "code",
      "metadata": {
        "id": "YUwleQUMN8sm",
        "outputId": "f688ade1-27a4-4cb3-8092-3625155777d0",
        "colab": {
          "base_uri": "https://localhost:8080/",
          "height": 271
        }
      },
      "source": [
        "table5"
      ],
      "execution_count": 20,
      "outputs": [
        {
          "output_type": "display_data",
          "data": {
            "text/plain": [
              "  country     century year rate             \n",
              "1 Afghanistan 19      99   745/19987071     \n",
              "2 Afghanistan 20      00   2666/20595360    \n",
              "3 Brazil      19      99   37737/172006362  \n",
              "4 Brazil      20      00   80488/174504898  \n",
              "5 China       19      99   212258/1272915272\n",
              "6 China       20      00   213766/1280428583"
            ],
            "text/latex": "A tibble: 6 × 4\n\\begin{tabular}{r|llll}\n  & country & century & year & rate\\\\\n  & <chr> & <chr> & <chr> & <chr>\\\\\n\\hline\n\t1 & Afghanistan & 19 & 99 & 745/19987071     \\\\\n\t2 & Afghanistan & 20 & 00 & 2666/20595360    \\\\\n\t3 & Brazil      & 19 & 99 & 37737/172006362  \\\\\n\t4 & Brazil      & 20 & 00 & 80488/174504898  \\\\\n\t5 & China       & 19 & 99 & 212258/1272915272\\\\\n\t6 & China       & 20 & 00 & 213766/1280428583\\\\\n\\end{tabular}\n",
            "text/markdown": "\nA tibble: 6 × 4\n\n| <!--/--> | country &lt;chr&gt; | century &lt;chr&gt; | year &lt;chr&gt; | rate &lt;chr&gt; |\n|---|---|---|---|---|\n| 1 | Afghanistan | 19 | 99 | 745/19987071      |\n| 2 | Afghanistan | 20 | 00 | 2666/20595360     |\n| 3 | Brazil      | 19 | 99 | 37737/172006362   |\n| 4 | Brazil      | 20 | 00 | 80488/174504898   |\n| 5 | China       | 19 | 99 | 212258/1272915272 |\n| 6 | China       | 20 | 00 | 213766/1280428583 |\n\n",
            "text/html": [
              "<table class=\"dataframe\">\n",
              "<caption>A tibble: 6 × 4</caption>\n",
              "<thead>\n",
              "\t<tr><th></th><th scope=col>country</th><th scope=col>century</th><th scope=col>year</th><th scope=col>rate</th></tr>\n",
              "\t<tr><th></th><th scope=col>&lt;chr&gt;</th><th scope=col>&lt;chr&gt;</th><th scope=col>&lt;chr&gt;</th><th scope=col>&lt;chr&gt;</th></tr>\n",
              "</thead>\n",
              "<tbody>\n",
              "\t<tr><th scope=row>1</th><td>Afghanistan</td><td>19</td><td>99</td><td>745/19987071     </td></tr>\n",
              "\t<tr><th scope=row>2</th><td>Afghanistan</td><td>20</td><td>00</td><td>2666/20595360    </td></tr>\n",
              "\t<tr><th scope=row>3</th><td>Brazil     </td><td>19</td><td>99</td><td>37737/172006362  </td></tr>\n",
              "\t<tr><th scope=row>4</th><td>Brazil     </td><td>20</td><td>00</td><td>80488/174504898  </td></tr>\n",
              "\t<tr><th scope=row>5</th><td>China      </td><td>19</td><td>99</td><td>212258/1272915272</td></tr>\n",
              "\t<tr><th scope=row>6</th><td>China      </td><td>20</td><td>00</td><td>213766/1280428583</td></tr>\n",
              "</tbody>\n",
              "</table>\n"
            ]
          },
          "metadata": {
            "tags": []
          }
        }
      ]
    },
    {
      "cell_type": "code",
      "metadata": {
        "id": "wn5qgG30N8gs",
        "outputId": "8433a322-e9b0-4753-d0ae-ea1867a13173",
        "colab": {
          "base_uri": "https://localhost:8080/",
          "height": 271
        }
      },
      "source": [
        "table5 %>% \n",
        "  unite(new, century, year, sep = \"\")\n"
      ],
      "execution_count": 21,
      "outputs": [
        {
          "output_type": "display_data",
          "data": {
            "text/plain": [
              "  country     new  rate             \n",
              "1 Afghanistan 1999 745/19987071     \n",
              "2 Afghanistan 2000 2666/20595360    \n",
              "3 Brazil      1999 37737/172006362  \n",
              "4 Brazil      2000 80488/174504898  \n",
              "5 China       1999 212258/1272915272\n",
              "6 China       2000 213766/1280428583"
            ],
            "text/latex": "A tibble: 6 × 3\n\\begin{tabular}{lll}\n country & new & rate\\\\\n <chr> & <chr> & <chr>\\\\\n\\hline\n\t Afghanistan & 1999 & 745/19987071     \\\\\n\t Afghanistan & 2000 & 2666/20595360    \\\\\n\t Brazil      & 1999 & 37737/172006362  \\\\\n\t Brazil      & 2000 & 80488/174504898  \\\\\n\t China       & 1999 & 212258/1272915272\\\\\n\t China       & 2000 & 213766/1280428583\\\\\n\\end{tabular}\n",
            "text/markdown": "\nA tibble: 6 × 3\n\n| country &lt;chr&gt; | new &lt;chr&gt; | rate &lt;chr&gt; |\n|---|---|---|\n| Afghanistan | 1999 | 745/19987071      |\n| Afghanistan | 2000 | 2666/20595360     |\n| Brazil      | 1999 | 37737/172006362   |\n| Brazil      | 2000 | 80488/174504898   |\n| China       | 1999 | 212258/1272915272 |\n| China       | 2000 | 213766/1280428583 |\n\n",
            "text/html": [
              "<table class=\"dataframe\">\n",
              "<caption>A tibble: 6 × 3</caption>\n",
              "<thead>\n",
              "\t<tr><th scope=col>country</th><th scope=col>new</th><th scope=col>rate</th></tr>\n",
              "\t<tr><th scope=col>&lt;chr&gt;</th><th scope=col>&lt;chr&gt;</th><th scope=col>&lt;chr&gt;</th></tr>\n",
              "</thead>\n",
              "<tbody>\n",
              "\t<tr><td>Afghanistan</td><td>1999</td><td>745/19987071     </td></tr>\n",
              "\t<tr><td>Afghanistan</td><td>2000</td><td>2666/20595360    </td></tr>\n",
              "\t<tr><td>Brazil     </td><td>1999</td><td>37737/172006362  </td></tr>\n",
              "\t<tr><td>Brazil     </td><td>2000</td><td>80488/174504898  </td></tr>\n",
              "\t<tr><td>China      </td><td>1999</td><td>212258/1272915272</td></tr>\n",
              "\t<tr><td>China      </td><td>2000</td><td>213766/1280428583</td></tr>\n",
              "</tbody>\n",
              "</table>\n"
            ]
          },
          "metadata": {
            "tags": []
          }
        }
      ]
    },
    {
      "cell_type": "markdown",
      "metadata": {
        "id": "-nwDA6IOOHp9"
      },
      "source": [
        "# Functional Programming"
      ]
    },
    {
      "cell_type": "code",
      "metadata": {
        "id": "Iav7G1uXODrT"
      },
      "source": [
        "df <- tibble(\n",
        "  a = rnorm(10),\n",
        "  b = rnorm(10),\n",
        "  c = rnorm(10),\n",
        "  d = rnorm(10)\n",
        ")"
      ],
      "execution_count": 22,
      "outputs": []
    },
    {
      "cell_type": "code",
      "metadata": {
        "id": "7VSOl_mgODcd",
        "outputId": "92d803f2-78fc-4041-fce4-e581e399c503",
        "colab": {
          "base_uri": "https://localhost:8080/",
          "height": 84
        }
      },
      "source": [
        "median(df$a)\n",
        "#> [1] -0.2457625\n",
        "median(df$b)\n",
        "#> [1] -0.2873072\n",
        "median(df$c)\n",
        "#> [1] -0.05669771\n",
        "median(df$d)\n",
        "#> [1] 0.1442633"
      ],
      "execution_count": 23,
      "outputs": [
        {
          "output_type": "display_data",
          "data": {
            "text/plain": [
              "[1] 0.42391"
            ],
            "text/latex": "0.423909950150083",
            "text/markdown": "0.423909950150083",
            "text/html": [
              "0.423909950150083"
            ]
          },
          "metadata": {
            "tags": []
          }
        },
        {
          "output_type": "display_data",
          "data": {
            "text/plain": [
              "[1] 0.02690741"
            ],
            "text/latex": "0.0269074082896925",
            "text/markdown": "0.0269074082896925",
            "text/html": [
              "0.0269074082896925"
            ]
          },
          "metadata": {
            "tags": []
          }
        },
        {
          "output_type": "display_data",
          "data": {
            "text/plain": [
              "[1] -0.08069307"
            ],
            "text/latex": "-0.0806930728782541",
            "text/markdown": "-0.0806930728782541",
            "text/html": [
              "-0.0806930728782541"
            ]
          },
          "metadata": {
            "tags": []
          }
        },
        {
          "output_type": "display_data",
          "data": {
            "text/plain": [
              "[1] 0.04684442"
            ],
            "text/latex": "0.0468444173239768",
            "text/markdown": "0.0468444173239768",
            "text/html": [
              "0.0468444173239768"
            ]
          },
          "metadata": {
            "tags": []
          }
        }
      ]
    },
    {
      "cell_type": "markdown",
      "metadata": {
        "id": "h6sbfW2BOYtb"
      },
      "source": [
        "Don't copy and paste multiple times  \n",
        "You can iterate using for loops\n"
      ]
    },
    {
      "cell_type": "code",
      "metadata": {
        "id": "8GlTKYa0ODPD",
        "outputId": "b08e8aa5-ae74-42b5-f49d-b94f785f5a74",
        "colab": {
          "base_uri": "https://localhost:8080/",
          "height": 34
        }
      },
      "source": [
        "output <- vector(\"double\", ncol(df))  # 1. output\n",
        "for (i in seq_along(df)) {            # 2. sequence\n",
        "  output[[i]] <- median(df[[i]])      # 3. body\n",
        "}\n",
        "output\n"
      ],
      "execution_count": 25,
      "outputs": [
        {
          "output_type": "display_data",
          "data": {
            "text/plain": [
              "[1]  0.42390995  0.02690741 -0.08069307  0.04684442"
            ],
            "text/latex": "\\begin{enumerate*}\n\\item 0.423909950150083\n\\item 0.0269074082896925\n\\item -0.0806930728782541\n\\item 0.0468444173239768\n\\end{enumerate*}\n",
            "text/markdown": "1. 0.423909950150083\n2. 0.0269074082896925\n3. -0.0806930728782541\n4. 0.0468444173239768\n\n\n",
            "text/html": [
              "<style>\n",
              ".list-inline {list-style: none; margin:0; padding: 0}\n",
              ".list-inline>li {display: inline-block}\n",
              ".list-inline>li:not(:last-child)::after {content: \"\\00b7\"; padding: 0 .5ex}\n",
              "</style>\n",
              "<ol class=list-inline><li>0.423909950150083</li><li>0.0269074082896925</li><li>-0.0806930728782541</li><li>0.0468444173239768</li></ol>\n"
            ]
          },
          "metadata": {
            "tags": []
          }
        }
      ]
    },
    {
      "cell_type": "code",
      "metadata": {
        "id": "AGLJM4dTOnxI",
        "outputId": "bf73996d-b35c-4a88-9781-a427c27f2574",
        "colab": {
          "base_uri": "https://localhost:8080/",
          "height": 34
        }
      },
      "source": [
        "output <- c()\n",
        "for (i in seq_along(df)) {            # 2. sequence\n",
        "  output <- c( output, median(df[[i]]) )      # 3. body\n",
        "}\n",
        "output\n"
      ],
      "execution_count": 26,
      "outputs": [
        {
          "output_type": "display_data",
          "data": {
            "text/plain": [
              "[1]  0.42390995  0.02690741 -0.08069307  0.04684442"
            ],
            "text/latex": "\\begin{enumerate*}\n\\item 0.423909950150083\n\\item 0.0269074082896925\n\\item -0.0806930728782541\n\\item 0.0468444173239768\n\\end{enumerate*}\n",
            "text/markdown": "1. 0.423909950150083\n2. 0.0269074082896925\n3. -0.0806930728782541\n4. 0.0468444173239768\n\n\n",
            "text/html": [
              "<style>\n",
              ".list-inline {list-style: none; margin:0; padding: 0}\n",
              ".list-inline>li {display: inline-block}\n",
              ".list-inline>li:not(:last-child)::after {content: \"\\00b7\"; padding: 0 .5ex}\n",
              "</style>\n",
              "<ol class=list-inline><li>0.423909950150083</li><li>0.0269074082896925</li><li>-0.0806930728782541</li><li>0.0468444173239768</li></ol>\n"
            ]
          },
          "metadata": {
            "tags": []
          }
        }
      ]
    },
    {
      "cell_type": "code",
      "metadata": {
        "id": "Pg0qclI4Onkm",
        "outputId": "52d6ce3c-b56a-440b-88f9-53021e2a42f5",
        "colab": {
          "base_uri": "https://localhost:8080/"
        }
      },
      "source": [
        "install.packages(\"rbenchmark\")\n",
        "library(rbenchmark)"
      ],
      "execution_count": 28,
      "outputs": [
        {
          "output_type": "stream",
          "text": [
            "Installing package into ‘/usr/local/lib/R/site-library’\n",
            "(as ‘lib’ is unspecified)\n",
            "\n"
          ],
          "name": "stderr"
        }
      ]
    },
    {
      "cell_type": "code",
      "metadata": {
        "id": "V7yYUKwmOnYF"
      },
      "source": [
        "\n",
        "simple1 <- function(n) {\n",
        "  output <- vector(\"double\", n)\n",
        "  for(i in 1:n) \n",
        "    output[i] = i\n",
        "  return(output)\n",
        "} \n",
        "\n",
        "simple2 <- function(n) {\n",
        "  output <- c()\n",
        "  for(i in 1:n) \n",
        "    output = c(output, i)\n",
        "  return(output)\n",
        "} \n"
      ],
      "execution_count": 29,
      "outputs": []
    },
    {
      "cell_type": "code",
      "metadata": {
        "id": "XlX9cKoiOnLT",
        "outputId": "bac7be36-a96f-4a02-95e1-d43b19c3071f",
        "colab": {
          "base_uri": "https://localhost:8080/",
          "height": 34
        }
      },
      "source": [
        "simple1(3)"
      ],
      "execution_count": 30,
      "outputs": [
        {
          "output_type": "display_data",
          "data": {
            "text/plain": [
              "[1] 1 2 3"
            ],
            "text/latex": "\\begin{enumerate*}\n\\item 1\n\\item 2\n\\item 3\n\\end{enumerate*}\n",
            "text/markdown": "1. 1\n2. 2\n3. 3\n\n\n",
            "text/html": [
              "<style>\n",
              ".list-inline {list-style: none; margin:0; padding: 0}\n",
              ".list-inline>li {display: inline-block}\n",
              ".list-inline>li:not(:last-child)::after {content: \"\\00b7\"; padding: 0 .5ex}\n",
              "</style>\n",
              "<ol class=list-inline><li>1</li><li>2</li><li>3</li></ol>\n"
            ]
          },
          "metadata": {
            "tags": []
          }
        }
      ]
    },
    {
      "cell_type": "code",
      "metadata": {
        "id": "zqTIyo1ZPuMH",
        "outputId": "81a6bdcf-777c-40e8-b2f6-d57e27d24221",
        "colab": {
          "base_uri": "https://localhost:8080/",
          "height": 34
        }
      },
      "source": [
        "simple2(3)"
      ],
      "execution_count": 32,
      "outputs": [
        {
          "output_type": "display_data",
          "data": {
            "text/plain": [
              "[1] 1 2 3"
            ],
            "text/latex": "\\begin{enumerate*}\n\\item 1\n\\item 2\n\\item 3\n\\end{enumerate*}\n",
            "text/markdown": "1. 1\n2. 2\n3. 3\n\n\n",
            "text/html": [
              "<style>\n",
              ".list-inline {list-style: none; margin:0; padding: 0}\n",
              ".list-inline>li {display: inline-block}\n",
              ".list-inline>li:not(:last-child)::after {content: \"\\00b7\"; padding: 0 .5ex}\n",
              "</style>\n",
              "<ol class=list-inline><li>1</li><li>2</li><li>3</li></ol>\n"
            ]
          },
          "metadata": {
            "tags": []
          }
        }
      ]
    },
    {
      "cell_type": "code",
      "metadata": {
        "id": "MVBXWP7vPuHh",
        "outputId": "869517e8-33ef-4884-fe7c-687196873fff",
        "colab": {
          "base_uri": "https://localhost:8080/",
          "height": 153
        }
      },
      "source": [
        "benchmark(\"fc1\"=simple1(1000),\n",
        "          \"fc2\"=simple2(1000),\n",
        "          replications=100,\n",
        "          columns=c('test', 'elapsed', 'replications'))"
      ],
      "execution_count": 35,
      "outputs": [
        {
          "output_type": "display_data",
          "data": {
            "text/plain": [
              "  test elapsed replications\n",
              "1 fc1  0.006   100         \n",
              "2 fc2  0.231   100         "
            ],
            "text/latex": "A data.frame: 2 × 3\n\\begin{tabular}{r|lll}\n  & test & elapsed & replications\\\\\n  & <chr> & <dbl> & <int>\\\\\n\\hline\n\t1 & fc1 & 0.006 & 100\\\\\n\t2 & fc2 & 0.231 & 100\\\\\n\\end{tabular}\n",
            "text/markdown": "\nA data.frame: 2 × 3\n\n| <!--/--> | test &lt;chr&gt; | elapsed &lt;dbl&gt; | replications &lt;int&gt; |\n|---|---|---|---|\n| 1 | fc1 | 0.006 | 100 |\n| 2 | fc2 | 0.231 | 100 |\n\n",
            "text/html": [
              "<table class=\"dataframe\">\n",
              "<caption>A data.frame: 2 × 3</caption>\n",
              "<thead>\n",
              "\t<tr><th></th><th scope=col>test</th><th scope=col>elapsed</th><th scope=col>replications</th></tr>\n",
              "\t<tr><th></th><th scope=col>&lt;chr&gt;</th><th scope=col>&lt;dbl&gt;</th><th scope=col>&lt;int&gt;</th></tr>\n",
              "</thead>\n",
              "<tbody>\n",
              "\t<tr><th scope=row>1</th><td>fc1</td><td>0.006</td><td>100</td></tr>\n",
              "\t<tr><th scope=row>2</th><td>fc2</td><td>0.231</td><td>100</td></tr>\n",
              "</tbody>\n",
              "</table>\n"
            ]
          },
          "metadata": {
            "tags": []
          }
        }
      ]
    },
    {
      "cell_type": "markdown",
      "metadata": {
        "id": "WrlRNlaqRY9_"
      },
      "source": [
        "## for_loops vs functional\n",
        "\n",
        "Possible to wrap up for loops in a function\n"
      ]
    },
    {
      "cell_type": "code",
      "metadata": {
        "id": "X5Tgr73_ROJ9",
        "outputId": "8ee408bf-3ec3-4aab-bca4-95a183e73828",
        "colab": {
          "base_uri": "https://localhost:8080/",
          "height": 34
        }
      },
      "source": [
        "col_mean <- function(df) {\n",
        "  output <- vector(\"double\", ncol(df)) \n",
        "  for (i in seq_along(df)) {\n",
        "    output[[i]] <- mean(df[[i]])\n",
        "  }\n",
        "  output\n",
        "}\n",
        "\n",
        "col_median <- function(df) {\n",
        "  output <- vector(\"double\", ncol(df)) \n",
        "  for (i in seq_along(df)) {\n",
        "    output[[i]] <- median(df[[i]])\n",
        "  }\n",
        "  output\n",
        "}\n",
        "\n",
        "col_sd <- function(df) {\n",
        "  output <- vector(\"double\", ncol(df)) \n",
        "  for (i in seq_along(df)) {\n",
        "    output[[i]] <- sd(df[[i]])\n",
        "  }\n",
        "  output\n",
        "}\n",
        "\n",
        "col_mean(df)"
      ],
      "execution_count": 36,
      "outputs": [
        {
          "output_type": "display_data",
          "data": {
            "text/plain": [
              "[1] -0.084639104 -0.002400303 -0.030917685 -0.083247511"
            ],
            "text/latex": "\\begin{enumerate*}\n\\item -0.0846391036597818\n\\item -0.00240030324052032\n\\item -0.0309176854543395\n\\item -0.0832475108396539\n\\end{enumerate*}\n",
            "text/markdown": "1. -0.0846391036597818\n2. -0.00240030324052032\n3. -0.0309176854543395\n4. -0.0832475108396539\n\n\n",
            "text/html": [
              "<style>\n",
              ".list-inline {list-style: none; margin:0; padding: 0}\n",
              ".list-inline>li {display: inline-block}\n",
              ".list-inline>li:not(:last-child)::after {content: \"\\00b7\"; padding: 0 .5ex}\n",
              "</style>\n",
              "<ol class=list-inline><li>-0.0846391036597818</li><li>-0.00240030324052032</li><li>-0.0309176854543395</li><li>-0.0832475108396539</li></ol>\n"
            ]
          },
          "metadata": {
            "tags": []
          }
        }
      ]
    },
    {
      "cell_type": "markdown",
      "metadata": {
        "id": "l74rc-m5Rx1G"
      },
      "source": [
        "You can make function as a variable"
      ]
    },
    {
      "cell_type": "code",
      "metadata": {
        "id": "2Q7gR6NZRN8g",
        "outputId": "32ea6d60-5932-47bf-85a5-143903098785",
        "colab": {
          "base_uri": "https://localhost:8080/",
          "height": 34
        }
      },
      "source": [
        "col_summary <- function(df, fun) {\n",
        "  out <- vector(\"double\", length(df))\n",
        "  for (i in seq_along(df)) {\n",
        "    out[i] <- fun(df[[i]])\n",
        "  }\n",
        "  out\n",
        "}\n",
        "col_summary(df, median)\n"
      ],
      "execution_count": 37,
      "outputs": [
        {
          "output_type": "display_data",
          "data": {
            "text/plain": [
              "[1]  0.42390995  0.02690741 -0.08069307  0.04684442"
            ],
            "text/latex": "\\begin{enumerate*}\n\\item 0.423909950150083\n\\item 0.0269074082896925\n\\item -0.0806930728782541\n\\item 0.0468444173239768\n\\end{enumerate*}\n",
            "text/markdown": "1. 0.423909950150083\n2. 0.0269074082896925\n3. -0.0806930728782541\n4. 0.0468444173239768\n\n\n",
            "text/html": [
              "<style>\n",
              ".list-inline {list-style: none; margin:0; padding: 0}\n",
              ".list-inline>li {display: inline-block}\n",
              ".list-inline>li:not(:last-child)::after {content: \"\\00b7\"; padding: 0 .5ex}\n",
              "</style>\n",
              "<ol class=list-inline><li>0.423909950150083</li><li>0.0269074082896925</li><li>-0.0806930728782541</li><li>0.0468444173239768</li></ol>\n"
            ]
          },
          "metadata": {
            "tags": []
          }
        }
      ]
    },
    {
      "cell_type": "markdown",
      "metadata": {
        "id": "LrExb-kvR4LJ"
      },
      "source": [
        "## The map function (purrr)\n",
        "\n",
        "the purrr package provides a family of functions for looping patterns over a vector\n",
        "\n",
        "remind apply()"
      ]
    },
    {
      "cell_type": "code",
      "metadata": {
        "id": "Xn_9vUMJSRLU",
        "outputId": "ec44ef44-52de-4b8f-a52c-df22c75f44af",
        "colab": {
          "base_uri": "https://localhost:8080/"
        }
      },
      "source": [
        "str(df)"
      ],
      "execution_count": 39,
      "outputs": [
        {
          "output_type": "stream",
          "text": [
            "tibble [10 × 4] (S3: tbl_df/tbl/data.frame)\n",
            " $ a: num [1:10] -0.97 0.586 -2.17 0.906 -0.997 ...\n",
            " $ b: num [1:10] 1.064 -1.168 -0.623 0.239 -1.17 ...\n",
            " $ c: num [1:10] -0.0722 -0.0892 0.4624 0.7497 0.983 ...\n",
            " $ d: num [1:10] 0.516 -0.508 0.301 -0.813 0.284 ...\n"
          ],
          "name": "stdout"
        }
      ]
    },
    {
      "cell_type": "code",
      "metadata": {
        "id": "fH1NXXsZPuD8",
        "outputId": "e6bb1421-60f3-431b-8e1d-1e6c74dbe017",
        "colab": {
          "base_uri": "https://localhost:8080/",
          "height": 34
        }
      },
      "source": [
        "df %>% map_dbl(mean)"
      ],
      "execution_count": 40,
      "outputs": [
        {
          "output_type": "display_data",
          "data": {
            "text/plain": [
              "           a            b            c            d \n",
              "-0.084639104 -0.002400303 -0.030917685 -0.083247511 "
            ],
            "text/latex": "\\begin{description*}\n\\item[a] -0.0846391036597818\n\\item[b] -0.00240030324052032\n\\item[c] -0.0309176854543395\n\\item[d] -0.0832475108396539\n\\end{description*}\n",
            "text/markdown": "a\n:   -0.0846391036597818b\n:   -0.00240030324052032c\n:   -0.0309176854543395d\n:   -0.0832475108396539\n\n",
            "text/html": [
              "<style>\n",
              ".dl-inline {width: auto; margin:0; padding: 0}\n",
              ".dl-inline>dt, .dl-inline>dd {float: none; width: auto; display: inline-block}\n",
              ".dl-inline>dt::after {content: \":\\0020\"; padding-right: .5ex}\n",
              ".dl-inline>dt:not(:first-of-type) {padding-left: .5ex}\n",
              "</style><dl class=dl-inline><dt>a</dt><dd>-0.0846391036597818</dd><dt>b</dt><dd>-0.00240030324052032</dd><dt>c</dt><dd>-0.0309176854543395</dd><dt>d</dt><dd>-0.0832475108396539</dd></dl>\n"
            ]
          },
          "metadata": {
            "tags": []
          }
        }
      ]
    },
    {
      "cell_type": "code",
      "metadata": {
        "id": "elT_8EcUSi3R",
        "outputId": "1a660b44-8ea6-4631-dc8a-b4d15ab64738",
        "colab": {
          "base_uri": "https://localhost:8080/",
          "height": 34
        }
      },
      "source": [
        "df %>% map_dbl(median)"
      ],
      "execution_count": 41,
      "outputs": [
        {
          "output_type": "display_data",
          "data": {
            "text/plain": [
              "          a           b           c           d \n",
              " 0.42390995  0.02690741 -0.08069307  0.04684442 "
            ],
            "text/latex": "\\begin{description*}\n\\item[a] 0.423909950150083\n\\item[b] 0.0269074082896925\n\\item[c] -0.0806930728782541\n\\item[d] 0.0468444173239768\n\\end{description*}\n",
            "text/markdown": "a\n:   0.423909950150083b\n:   0.0269074082896925c\n:   -0.0806930728782541d\n:   0.0468444173239768\n\n",
            "text/html": [
              "<style>\n",
              ".dl-inline {width: auto; margin:0; padding: 0}\n",
              ".dl-inline>dt, .dl-inline>dd {float: none; width: auto; display: inline-block}\n",
              ".dl-inline>dt::after {content: \":\\0020\"; padding-right: .5ex}\n",
              ".dl-inline>dt:not(:first-of-type) {padding-left: .5ex}\n",
              "</style><dl class=dl-inline><dt>a</dt><dd>0.423909950150083</dd><dt>b</dt><dd>0.0269074082896925</dd><dt>c</dt><dd>-0.0806930728782541</dd><dt>d</dt><dd>0.0468444173239768</dd></dl>\n"
            ]
          },
          "metadata": {
            "tags": []
          }
        }
      ]
    },
    {
      "cell_type": "code",
      "metadata": {
        "id": "cFaUZ4KpUi-v",
        "outputId": "f8749981-9012-498f-cd2b-822a3d15c40a",
        "colab": {
          "base_uri": "https://localhost:8080/",
          "height": 1000
        }
      },
      "source": [
        "mtcars %>% \n",
        "  split(.$cyl)"
      ],
      "execution_count": 54,
      "outputs": [
        {
          "output_type": "display_data",
          "data": {
            "text/plain": [
              "$`4`\n",
              "                mpg cyl  disp  hp drat    wt  qsec vs am gear carb\n",
              "Datsun 710     22.8   4 108.0  93 3.85 2.320 18.61  1  1    4    1\n",
              "Merc 240D      24.4   4 146.7  62 3.69 3.190 20.00  1  0    4    2\n",
              "Merc 230       22.8   4 140.8  95 3.92 3.150 22.90  1  0    4    2\n",
              "Fiat 128       32.4   4  78.7  66 4.08 2.200 19.47  1  1    4    1\n",
              "Honda Civic    30.4   4  75.7  52 4.93 1.615 18.52  1  1    4    2\n",
              "Toyota Corolla 33.9   4  71.1  65 4.22 1.835 19.90  1  1    4    1\n",
              "Toyota Corona  21.5   4 120.1  97 3.70 2.465 20.01  1  0    3    1\n",
              "Fiat X1-9      27.3   4  79.0  66 4.08 1.935 18.90  1  1    4    1\n",
              "Porsche 914-2  26.0   4 120.3  91 4.43 2.140 16.70  0  1    5    2\n",
              "Lotus Europa   30.4   4  95.1 113 3.77 1.513 16.90  1  1    5    2\n",
              "Volvo 142E     21.4   4 121.0 109 4.11 2.780 18.60  1  1    4    2\n",
              "\n",
              "$`6`\n",
              "                mpg cyl  disp  hp drat    wt  qsec vs am gear carb\n",
              "Mazda RX4      21.0   6 160.0 110 3.90 2.620 16.46  0  1    4    4\n",
              "Mazda RX4 Wag  21.0   6 160.0 110 3.90 2.875 17.02  0  1    4    4\n",
              "Hornet 4 Drive 21.4   6 258.0 110 3.08 3.215 19.44  1  0    3    1\n",
              "Valiant        18.1   6 225.0 105 2.76 3.460 20.22  1  0    3    1\n",
              "Merc 280       19.2   6 167.6 123 3.92 3.440 18.30  1  0    4    4\n",
              "Merc 280C      17.8   6 167.6 123 3.92 3.440 18.90  1  0    4    4\n",
              "Ferrari Dino   19.7   6 145.0 175 3.62 2.770 15.50  0  1    5    6\n",
              "\n",
              "$`8`\n",
              "                     mpg cyl  disp  hp drat    wt  qsec vs am gear carb\n",
              "Hornet Sportabout   18.7   8 360.0 175 3.15 3.440 17.02  0  0    3    2\n",
              "Duster 360          14.3   8 360.0 245 3.21 3.570 15.84  0  0    3    4\n",
              "Merc 450SE          16.4   8 275.8 180 3.07 4.070 17.40  0  0    3    3\n",
              "Merc 450SL          17.3   8 275.8 180 3.07 3.730 17.60  0  0    3    3\n",
              "Merc 450SLC         15.2   8 275.8 180 3.07 3.780 18.00  0  0    3    3\n",
              "Cadillac Fleetwood  10.4   8 472.0 205 2.93 5.250 17.98  0  0    3    4\n",
              "Lincoln Continental 10.4   8 460.0 215 3.00 5.424 17.82  0  0    3    4\n",
              "Chrysler Imperial   14.7   8 440.0 230 3.23 5.345 17.42  0  0    3    4\n",
              "Dodge Challenger    15.5   8 318.0 150 2.76 3.520 16.87  0  0    3    2\n",
              "AMC Javelin         15.2   8 304.0 150 3.15 3.435 17.30  0  0    3    2\n",
              "Camaro Z28          13.3   8 350.0 245 3.73 3.840 15.41  0  0    3    4\n",
              "Pontiac Firebird    19.2   8 400.0 175 3.08 3.845 17.05  0  0    3    2\n",
              "Ford Pantera L      15.8   8 351.0 264 4.22 3.170 14.50  0  1    5    4\n",
              "Maserati Bora       15.0   8 301.0 335 3.54 3.570 14.60  0  1    5    8\n"
            ],
            "text/latex": "\\begin{description}\n\\item[\\$`4`] A data.frame: 11 × 11\n\\begin{tabular}{r|lllllllllll}\n  & mpg & cyl & disp & hp & drat & wt & qsec & vs & am & gear & carb\\\\\n  & <dbl> & <dbl> & <dbl> & <dbl> & <dbl> & <dbl> & <dbl> & <dbl> & <dbl> & <dbl> & <dbl>\\\\\n\\hline\n\tDatsun 710 & 22.8 & 4 & 108.0 &  93 & 3.85 & 2.320 & 18.61 & 1 & 1 & 4 & 1\\\\\n\tMerc 240D & 24.4 & 4 & 146.7 &  62 & 3.69 & 3.190 & 20.00 & 1 & 0 & 4 & 2\\\\\n\tMerc 230 & 22.8 & 4 & 140.8 &  95 & 3.92 & 3.150 & 22.90 & 1 & 0 & 4 & 2\\\\\n\tFiat 128 & 32.4 & 4 &  78.7 &  66 & 4.08 & 2.200 & 19.47 & 1 & 1 & 4 & 1\\\\\n\tHonda Civic & 30.4 & 4 &  75.7 &  52 & 4.93 & 1.615 & 18.52 & 1 & 1 & 4 & 2\\\\\n\tToyota Corolla & 33.9 & 4 &  71.1 &  65 & 4.22 & 1.835 & 19.90 & 1 & 1 & 4 & 1\\\\\n\tToyota Corona & 21.5 & 4 & 120.1 &  97 & 3.70 & 2.465 & 20.01 & 1 & 0 & 3 & 1\\\\\n\tFiat X1-9 & 27.3 & 4 &  79.0 &  66 & 4.08 & 1.935 & 18.90 & 1 & 1 & 4 & 1\\\\\n\tPorsche 914-2 & 26.0 & 4 & 120.3 &  91 & 4.43 & 2.140 & 16.70 & 0 & 1 & 5 & 2\\\\\n\tLotus Europa & 30.4 & 4 &  95.1 & 113 & 3.77 & 1.513 & 16.90 & 1 & 1 & 5 & 2\\\\\n\tVolvo 142E & 21.4 & 4 & 121.0 & 109 & 4.11 & 2.780 & 18.60 & 1 & 1 & 4 & 2\\\\\n\\end{tabular}\n\n\\item[\\$`6`] A data.frame: 7 × 11\n\\begin{tabular}{r|lllllllllll}\n  & mpg & cyl & disp & hp & drat & wt & qsec & vs & am & gear & carb\\\\\n  & <dbl> & <dbl> & <dbl> & <dbl> & <dbl> & <dbl> & <dbl> & <dbl> & <dbl> & <dbl> & <dbl>\\\\\n\\hline\n\tMazda RX4 & 21.0 & 6 & 160.0 & 110 & 3.90 & 2.620 & 16.46 & 0 & 1 & 4 & 4\\\\\n\tMazda RX4 Wag & 21.0 & 6 & 160.0 & 110 & 3.90 & 2.875 & 17.02 & 0 & 1 & 4 & 4\\\\\n\tHornet 4 Drive & 21.4 & 6 & 258.0 & 110 & 3.08 & 3.215 & 19.44 & 1 & 0 & 3 & 1\\\\\n\tValiant & 18.1 & 6 & 225.0 & 105 & 2.76 & 3.460 & 20.22 & 1 & 0 & 3 & 1\\\\\n\tMerc 280 & 19.2 & 6 & 167.6 & 123 & 3.92 & 3.440 & 18.30 & 1 & 0 & 4 & 4\\\\\n\tMerc 280C & 17.8 & 6 & 167.6 & 123 & 3.92 & 3.440 & 18.90 & 1 & 0 & 4 & 4\\\\\n\tFerrari Dino & 19.7 & 6 & 145.0 & 175 & 3.62 & 2.770 & 15.50 & 0 & 1 & 5 & 6\\\\\n\\end{tabular}\n\n\\item[\\$`8`] A data.frame: 14 × 11\n\\begin{tabular}{r|lllllllllll}\n  & mpg & cyl & disp & hp & drat & wt & qsec & vs & am & gear & carb\\\\\n  & <dbl> & <dbl> & <dbl> & <dbl> & <dbl> & <dbl> & <dbl> & <dbl> & <dbl> & <dbl> & <dbl>\\\\\n\\hline\n\tHornet Sportabout & 18.7 & 8 & 360.0 & 175 & 3.15 & 3.440 & 17.02 & 0 & 0 & 3 & 2\\\\\n\tDuster 360 & 14.3 & 8 & 360.0 & 245 & 3.21 & 3.570 & 15.84 & 0 & 0 & 3 & 4\\\\\n\tMerc 450SE & 16.4 & 8 & 275.8 & 180 & 3.07 & 4.070 & 17.40 & 0 & 0 & 3 & 3\\\\\n\tMerc 450SL & 17.3 & 8 & 275.8 & 180 & 3.07 & 3.730 & 17.60 & 0 & 0 & 3 & 3\\\\\n\tMerc 450SLC & 15.2 & 8 & 275.8 & 180 & 3.07 & 3.780 & 18.00 & 0 & 0 & 3 & 3\\\\\n\tCadillac Fleetwood & 10.4 & 8 & 472.0 & 205 & 2.93 & 5.250 & 17.98 & 0 & 0 & 3 & 4\\\\\n\tLincoln Continental & 10.4 & 8 & 460.0 & 215 & 3.00 & 5.424 & 17.82 & 0 & 0 & 3 & 4\\\\\n\tChrysler Imperial & 14.7 & 8 & 440.0 & 230 & 3.23 & 5.345 & 17.42 & 0 & 0 & 3 & 4\\\\\n\tDodge Challenger & 15.5 & 8 & 318.0 & 150 & 2.76 & 3.520 & 16.87 & 0 & 0 & 3 & 2\\\\\n\tAMC Javelin & 15.2 & 8 & 304.0 & 150 & 3.15 & 3.435 & 17.30 & 0 & 0 & 3 & 2\\\\\n\tCamaro Z28 & 13.3 & 8 & 350.0 & 245 & 3.73 & 3.840 & 15.41 & 0 & 0 & 3 & 4\\\\\n\tPontiac Firebird & 19.2 & 8 & 400.0 & 175 & 3.08 & 3.845 & 17.05 & 0 & 0 & 3 & 2\\\\\n\tFord Pantera L & 15.8 & 8 & 351.0 & 264 & 4.22 & 3.170 & 14.50 & 0 & 1 & 5 & 4\\\\\n\tMaserati Bora & 15.0 & 8 & 301.0 & 335 & 3.54 & 3.570 & 14.60 & 0 & 1 & 5 & 8\\\\\n\\end{tabular}\n\n\\end{description}\n",
            "text/markdown": "$`4`\n:   \nA data.frame: 11 × 11\n\n| <!--/--> | mpg &lt;dbl&gt; | cyl &lt;dbl&gt; | disp &lt;dbl&gt; | hp &lt;dbl&gt; | drat &lt;dbl&gt; | wt &lt;dbl&gt; | qsec &lt;dbl&gt; | vs &lt;dbl&gt; | am &lt;dbl&gt; | gear &lt;dbl&gt; | carb &lt;dbl&gt; |\n|---|---|---|---|---|---|---|---|---|---|---|---|\n| Datsun 710 | 22.8 | 4 | 108.0 |  93 | 3.85 | 2.320 | 18.61 | 1 | 1 | 4 | 1 |\n| Merc 240D | 24.4 | 4 | 146.7 |  62 | 3.69 | 3.190 | 20.00 | 1 | 0 | 4 | 2 |\n| Merc 230 | 22.8 | 4 | 140.8 |  95 | 3.92 | 3.150 | 22.90 | 1 | 0 | 4 | 2 |\n| Fiat 128 | 32.4 | 4 |  78.7 |  66 | 4.08 | 2.200 | 19.47 | 1 | 1 | 4 | 1 |\n| Honda Civic | 30.4 | 4 |  75.7 |  52 | 4.93 | 1.615 | 18.52 | 1 | 1 | 4 | 2 |\n| Toyota Corolla | 33.9 | 4 |  71.1 |  65 | 4.22 | 1.835 | 19.90 | 1 | 1 | 4 | 1 |\n| Toyota Corona | 21.5 | 4 | 120.1 |  97 | 3.70 | 2.465 | 20.01 | 1 | 0 | 3 | 1 |\n| Fiat X1-9 | 27.3 | 4 |  79.0 |  66 | 4.08 | 1.935 | 18.90 | 1 | 1 | 4 | 1 |\n| Porsche 914-2 | 26.0 | 4 | 120.3 |  91 | 4.43 | 2.140 | 16.70 | 0 | 1 | 5 | 2 |\n| Lotus Europa | 30.4 | 4 |  95.1 | 113 | 3.77 | 1.513 | 16.90 | 1 | 1 | 5 | 2 |\n| Volvo 142E | 21.4 | 4 | 121.0 | 109 | 4.11 | 2.780 | 18.60 | 1 | 1 | 4 | 2 |\n\n\n$`6`\n:   \nA data.frame: 7 × 11\n\n| <!--/--> | mpg &lt;dbl&gt; | cyl &lt;dbl&gt; | disp &lt;dbl&gt; | hp &lt;dbl&gt; | drat &lt;dbl&gt; | wt &lt;dbl&gt; | qsec &lt;dbl&gt; | vs &lt;dbl&gt; | am &lt;dbl&gt; | gear &lt;dbl&gt; | carb &lt;dbl&gt; |\n|---|---|---|---|---|---|---|---|---|---|---|---|\n| Mazda RX4 | 21.0 | 6 | 160.0 | 110 | 3.90 | 2.620 | 16.46 | 0 | 1 | 4 | 4 |\n| Mazda RX4 Wag | 21.0 | 6 | 160.0 | 110 | 3.90 | 2.875 | 17.02 | 0 | 1 | 4 | 4 |\n| Hornet 4 Drive | 21.4 | 6 | 258.0 | 110 | 3.08 | 3.215 | 19.44 | 1 | 0 | 3 | 1 |\n| Valiant | 18.1 | 6 | 225.0 | 105 | 2.76 | 3.460 | 20.22 | 1 | 0 | 3 | 1 |\n| Merc 280 | 19.2 | 6 | 167.6 | 123 | 3.92 | 3.440 | 18.30 | 1 | 0 | 4 | 4 |\n| Merc 280C | 17.8 | 6 | 167.6 | 123 | 3.92 | 3.440 | 18.90 | 1 | 0 | 4 | 4 |\n| Ferrari Dino | 19.7 | 6 | 145.0 | 175 | 3.62 | 2.770 | 15.50 | 0 | 1 | 5 | 6 |\n\n\n$`8`\n:   \nA data.frame: 14 × 11\n\n| <!--/--> | mpg &lt;dbl&gt; | cyl &lt;dbl&gt; | disp &lt;dbl&gt; | hp &lt;dbl&gt; | drat &lt;dbl&gt; | wt &lt;dbl&gt; | qsec &lt;dbl&gt; | vs &lt;dbl&gt; | am &lt;dbl&gt; | gear &lt;dbl&gt; | carb &lt;dbl&gt; |\n|---|---|---|---|---|---|---|---|---|---|---|---|\n| Hornet Sportabout | 18.7 | 8 | 360.0 | 175 | 3.15 | 3.440 | 17.02 | 0 | 0 | 3 | 2 |\n| Duster 360 | 14.3 | 8 | 360.0 | 245 | 3.21 | 3.570 | 15.84 | 0 | 0 | 3 | 4 |\n| Merc 450SE | 16.4 | 8 | 275.8 | 180 | 3.07 | 4.070 | 17.40 | 0 | 0 | 3 | 3 |\n| Merc 450SL | 17.3 | 8 | 275.8 | 180 | 3.07 | 3.730 | 17.60 | 0 | 0 | 3 | 3 |\n| Merc 450SLC | 15.2 | 8 | 275.8 | 180 | 3.07 | 3.780 | 18.00 | 0 | 0 | 3 | 3 |\n| Cadillac Fleetwood | 10.4 | 8 | 472.0 | 205 | 2.93 | 5.250 | 17.98 | 0 | 0 | 3 | 4 |\n| Lincoln Continental | 10.4 | 8 | 460.0 | 215 | 3.00 | 5.424 | 17.82 | 0 | 0 | 3 | 4 |\n| Chrysler Imperial | 14.7 | 8 | 440.0 | 230 | 3.23 | 5.345 | 17.42 | 0 | 0 | 3 | 4 |\n| Dodge Challenger | 15.5 | 8 | 318.0 | 150 | 2.76 | 3.520 | 16.87 | 0 | 0 | 3 | 2 |\n| AMC Javelin | 15.2 | 8 | 304.0 | 150 | 3.15 | 3.435 | 17.30 | 0 | 0 | 3 | 2 |\n| Camaro Z28 | 13.3 | 8 | 350.0 | 245 | 3.73 | 3.840 | 15.41 | 0 | 0 | 3 | 4 |\n| Pontiac Firebird | 19.2 | 8 | 400.0 | 175 | 3.08 | 3.845 | 17.05 | 0 | 0 | 3 | 2 |\n| Ford Pantera L | 15.8 | 8 | 351.0 | 264 | 4.22 | 3.170 | 14.50 | 0 | 1 | 5 | 4 |\n| Maserati Bora | 15.0 | 8 | 301.0 | 335 | 3.54 | 3.570 | 14.60 | 0 | 1 | 5 | 8 |\n\n\n\n\n",
            "text/html": [
              "<dl>\n",
              "\t<dt>$`4`</dt>\n",
              "\t\t<dd><table class=\"dataframe\">\n",
              "<caption>A data.frame: 11 × 11</caption>\n",
              "<thead>\n",
              "\t<tr><th></th><th scope=col>mpg</th><th scope=col>cyl</th><th scope=col>disp</th><th scope=col>hp</th><th scope=col>drat</th><th scope=col>wt</th><th scope=col>qsec</th><th scope=col>vs</th><th scope=col>am</th><th scope=col>gear</th><th scope=col>carb</th></tr>\n",
              "\t<tr><th></th><th scope=col>&lt;dbl&gt;</th><th scope=col>&lt;dbl&gt;</th><th scope=col>&lt;dbl&gt;</th><th scope=col>&lt;dbl&gt;</th><th scope=col>&lt;dbl&gt;</th><th scope=col>&lt;dbl&gt;</th><th scope=col>&lt;dbl&gt;</th><th scope=col>&lt;dbl&gt;</th><th scope=col>&lt;dbl&gt;</th><th scope=col>&lt;dbl&gt;</th><th scope=col>&lt;dbl&gt;</th></tr>\n",
              "</thead>\n",
              "<tbody>\n",
              "\t<tr><th scope=row>Datsun 710</th><td>22.8</td><td>4</td><td>108.0</td><td> 93</td><td>3.85</td><td>2.320</td><td>18.61</td><td>1</td><td>1</td><td>4</td><td>1</td></tr>\n",
              "\t<tr><th scope=row>Merc 240D</th><td>24.4</td><td>4</td><td>146.7</td><td> 62</td><td>3.69</td><td>3.190</td><td>20.00</td><td>1</td><td>0</td><td>4</td><td>2</td></tr>\n",
              "\t<tr><th scope=row>Merc 230</th><td>22.8</td><td>4</td><td>140.8</td><td> 95</td><td>3.92</td><td>3.150</td><td>22.90</td><td>1</td><td>0</td><td>4</td><td>2</td></tr>\n",
              "\t<tr><th scope=row>Fiat 128</th><td>32.4</td><td>4</td><td> 78.7</td><td> 66</td><td>4.08</td><td>2.200</td><td>19.47</td><td>1</td><td>1</td><td>4</td><td>1</td></tr>\n",
              "\t<tr><th scope=row>Honda Civic</th><td>30.4</td><td>4</td><td> 75.7</td><td> 52</td><td>4.93</td><td>1.615</td><td>18.52</td><td>1</td><td>1</td><td>4</td><td>2</td></tr>\n",
              "\t<tr><th scope=row>Toyota Corolla</th><td>33.9</td><td>4</td><td> 71.1</td><td> 65</td><td>4.22</td><td>1.835</td><td>19.90</td><td>1</td><td>1</td><td>4</td><td>1</td></tr>\n",
              "\t<tr><th scope=row>Toyota Corona</th><td>21.5</td><td>4</td><td>120.1</td><td> 97</td><td>3.70</td><td>2.465</td><td>20.01</td><td>1</td><td>0</td><td>3</td><td>1</td></tr>\n",
              "\t<tr><th scope=row>Fiat X1-9</th><td>27.3</td><td>4</td><td> 79.0</td><td> 66</td><td>4.08</td><td>1.935</td><td>18.90</td><td>1</td><td>1</td><td>4</td><td>1</td></tr>\n",
              "\t<tr><th scope=row>Porsche 914-2</th><td>26.0</td><td>4</td><td>120.3</td><td> 91</td><td>4.43</td><td>2.140</td><td>16.70</td><td>0</td><td>1</td><td>5</td><td>2</td></tr>\n",
              "\t<tr><th scope=row>Lotus Europa</th><td>30.4</td><td>4</td><td> 95.1</td><td>113</td><td>3.77</td><td>1.513</td><td>16.90</td><td>1</td><td>1</td><td>5</td><td>2</td></tr>\n",
              "\t<tr><th scope=row>Volvo 142E</th><td>21.4</td><td>4</td><td>121.0</td><td>109</td><td>4.11</td><td>2.780</td><td>18.60</td><td>1</td><td>1</td><td>4</td><td>2</td></tr>\n",
              "</tbody>\n",
              "</table>\n",
              "</dd>\n",
              "\t<dt>$`6`</dt>\n",
              "\t\t<dd><table class=\"dataframe\">\n",
              "<caption>A data.frame: 7 × 11</caption>\n",
              "<thead>\n",
              "\t<tr><th></th><th scope=col>mpg</th><th scope=col>cyl</th><th scope=col>disp</th><th scope=col>hp</th><th scope=col>drat</th><th scope=col>wt</th><th scope=col>qsec</th><th scope=col>vs</th><th scope=col>am</th><th scope=col>gear</th><th scope=col>carb</th></tr>\n",
              "\t<tr><th></th><th scope=col>&lt;dbl&gt;</th><th scope=col>&lt;dbl&gt;</th><th scope=col>&lt;dbl&gt;</th><th scope=col>&lt;dbl&gt;</th><th scope=col>&lt;dbl&gt;</th><th scope=col>&lt;dbl&gt;</th><th scope=col>&lt;dbl&gt;</th><th scope=col>&lt;dbl&gt;</th><th scope=col>&lt;dbl&gt;</th><th scope=col>&lt;dbl&gt;</th><th scope=col>&lt;dbl&gt;</th></tr>\n",
              "</thead>\n",
              "<tbody>\n",
              "\t<tr><th scope=row>Mazda RX4</th><td>21.0</td><td>6</td><td>160.0</td><td>110</td><td>3.90</td><td>2.620</td><td>16.46</td><td>0</td><td>1</td><td>4</td><td>4</td></tr>\n",
              "\t<tr><th scope=row>Mazda RX4 Wag</th><td>21.0</td><td>6</td><td>160.0</td><td>110</td><td>3.90</td><td>2.875</td><td>17.02</td><td>0</td><td>1</td><td>4</td><td>4</td></tr>\n",
              "\t<tr><th scope=row>Hornet 4 Drive</th><td>21.4</td><td>6</td><td>258.0</td><td>110</td><td>3.08</td><td>3.215</td><td>19.44</td><td>1</td><td>0</td><td>3</td><td>1</td></tr>\n",
              "\t<tr><th scope=row>Valiant</th><td>18.1</td><td>6</td><td>225.0</td><td>105</td><td>2.76</td><td>3.460</td><td>20.22</td><td>1</td><td>0</td><td>3</td><td>1</td></tr>\n",
              "\t<tr><th scope=row>Merc 280</th><td>19.2</td><td>6</td><td>167.6</td><td>123</td><td>3.92</td><td>3.440</td><td>18.30</td><td>1</td><td>0</td><td>4</td><td>4</td></tr>\n",
              "\t<tr><th scope=row>Merc 280C</th><td>17.8</td><td>6</td><td>167.6</td><td>123</td><td>3.92</td><td>3.440</td><td>18.90</td><td>1</td><td>0</td><td>4</td><td>4</td></tr>\n",
              "\t<tr><th scope=row>Ferrari Dino</th><td>19.7</td><td>6</td><td>145.0</td><td>175</td><td>3.62</td><td>2.770</td><td>15.50</td><td>0</td><td>1</td><td>5</td><td>6</td></tr>\n",
              "</tbody>\n",
              "</table>\n",
              "</dd>\n",
              "\t<dt>$`8`</dt>\n",
              "\t\t<dd><table class=\"dataframe\">\n",
              "<caption>A data.frame: 14 × 11</caption>\n",
              "<thead>\n",
              "\t<tr><th></th><th scope=col>mpg</th><th scope=col>cyl</th><th scope=col>disp</th><th scope=col>hp</th><th scope=col>drat</th><th scope=col>wt</th><th scope=col>qsec</th><th scope=col>vs</th><th scope=col>am</th><th scope=col>gear</th><th scope=col>carb</th></tr>\n",
              "\t<tr><th></th><th scope=col>&lt;dbl&gt;</th><th scope=col>&lt;dbl&gt;</th><th scope=col>&lt;dbl&gt;</th><th scope=col>&lt;dbl&gt;</th><th scope=col>&lt;dbl&gt;</th><th scope=col>&lt;dbl&gt;</th><th scope=col>&lt;dbl&gt;</th><th scope=col>&lt;dbl&gt;</th><th scope=col>&lt;dbl&gt;</th><th scope=col>&lt;dbl&gt;</th><th scope=col>&lt;dbl&gt;</th></tr>\n",
              "</thead>\n",
              "<tbody>\n",
              "\t<tr><th scope=row>Hornet Sportabout</th><td>18.7</td><td>8</td><td>360.0</td><td>175</td><td>3.15</td><td>3.440</td><td>17.02</td><td>0</td><td>0</td><td>3</td><td>2</td></tr>\n",
              "\t<tr><th scope=row>Duster 360</th><td>14.3</td><td>8</td><td>360.0</td><td>245</td><td>3.21</td><td>3.570</td><td>15.84</td><td>0</td><td>0</td><td>3</td><td>4</td></tr>\n",
              "\t<tr><th scope=row>Merc 450SE</th><td>16.4</td><td>8</td><td>275.8</td><td>180</td><td>3.07</td><td>4.070</td><td>17.40</td><td>0</td><td>0</td><td>3</td><td>3</td></tr>\n",
              "\t<tr><th scope=row>Merc 450SL</th><td>17.3</td><td>8</td><td>275.8</td><td>180</td><td>3.07</td><td>3.730</td><td>17.60</td><td>0</td><td>0</td><td>3</td><td>3</td></tr>\n",
              "\t<tr><th scope=row>Merc 450SLC</th><td>15.2</td><td>8</td><td>275.8</td><td>180</td><td>3.07</td><td>3.780</td><td>18.00</td><td>0</td><td>0</td><td>3</td><td>3</td></tr>\n",
              "\t<tr><th scope=row>Cadillac Fleetwood</th><td>10.4</td><td>8</td><td>472.0</td><td>205</td><td>2.93</td><td>5.250</td><td>17.98</td><td>0</td><td>0</td><td>3</td><td>4</td></tr>\n",
              "\t<tr><th scope=row>Lincoln Continental</th><td>10.4</td><td>8</td><td>460.0</td><td>215</td><td>3.00</td><td>5.424</td><td>17.82</td><td>0</td><td>0</td><td>3</td><td>4</td></tr>\n",
              "\t<tr><th scope=row>Chrysler Imperial</th><td>14.7</td><td>8</td><td>440.0</td><td>230</td><td>3.23</td><td>5.345</td><td>17.42</td><td>0</td><td>0</td><td>3</td><td>4</td></tr>\n",
              "\t<tr><th scope=row>Dodge Challenger</th><td>15.5</td><td>8</td><td>318.0</td><td>150</td><td>2.76</td><td>3.520</td><td>16.87</td><td>0</td><td>0</td><td>3</td><td>2</td></tr>\n",
              "\t<tr><th scope=row>AMC Javelin</th><td>15.2</td><td>8</td><td>304.0</td><td>150</td><td>3.15</td><td>3.435</td><td>17.30</td><td>0</td><td>0</td><td>3</td><td>2</td></tr>\n",
              "\t<tr><th scope=row>Camaro Z28</th><td>13.3</td><td>8</td><td>350.0</td><td>245</td><td>3.73</td><td>3.840</td><td>15.41</td><td>0</td><td>0</td><td>3</td><td>4</td></tr>\n",
              "\t<tr><th scope=row>Pontiac Firebird</th><td>19.2</td><td>8</td><td>400.0</td><td>175</td><td>3.08</td><td>3.845</td><td>17.05</td><td>0</td><td>0</td><td>3</td><td>2</td></tr>\n",
              "\t<tr><th scope=row>Ford Pantera L</th><td>15.8</td><td>8</td><td>351.0</td><td>264</td><td>4.22</td><td>3.170</td><td>14.50</td><td>0</td><td>1</td><td>5</td><td>4</td></tr>\n",
              "\t<tr><th scope=row>Maserati Bora</th><td>15.0</td><td>8</td><td>301.0</td><td>335</td><td>3.54</td><td>3.570</td><td>14.60</td><td>0</td><td>1</td><td>5</td><td>8</td></tr>\n",
              "</tbody>\n",
              "</table>\n",
              "</dd>\n",
              "</dl>\n"
            ]
          },
          "metadata": {
            "tags": []
          }
        }
      ]
    },
    {
      "cell_type": "markdown",
      "metadata": {
        "id": "n6Srx5BFUraC"
      },
      "source": [
        "You can define a function in map"
      ]
    },
    {
      "cell_type": "code",
      "metadata": {
        "id": "7VjH2IZTUcbG",
        "outputId": "7317f74d-936f-4a92-d971-ff2de4ddb99b",
        "colab": {
          "base_uri": "https://localhost:8080/",
          "height": 527
        }
      },
      "source": [
        "mtcars %>% \n",
        "  split(.$cyl) %>% \n",
        "  map(function(df) lm(mpg ~ wt, data = df))\n"
      ],
      "execution_count": 55,
      "outputs": [
        {
          "output_type": "display_data",
          "data": {
            "text/plain": [
              "$`4`\n",
              "\n",
              "Call:\n",
              "lm(formula = mpg ~ wt, data = df)\n",
              "\n",
              "Coefficients:\n",
              "(Intercept)           wt  \n",
              "     39.571       -5.647  \n",
              "\n",
              "\n",
              "$`6`\n",
              "\n",
              "Call:\n",
              "lm(formula = mpg ~ wt, data = df)\n",
              "\n",
              "Coefficients:\n",
              "(Intercept)           wt  \n",
              "      28.41        -2.78  \n",
              "\n",
              "\n",
              "$`8`\n",
              "\n",
              "Call:\n",
              "lm(formula = mpg ~ wt, data = df)\n",
              "\n",
              "Coefficients:\n",
              "(Intercept)           wt  \n",
              "     23.868       -2.192  \n",
              "\n"
            ]
          },
          "metadata": {
            "tags": []
          }
        }
      ]
    },
    {
      "cell_type": "code",
      "metadata": {
        "id": "mVtUbq1_UcPv",
        "outputId": "c7fd33eb-9db6-4875-c00f-cb02c31a4124",
        "colab": {
          "base_uri": "https://localhost:8080/",
          "height": 527
        }
      },
      "source": [
        "f1 <- function(df) {\n",
        "  lm(mpg ~ wt, data = df)\n",
        "}\n",
        "mtcars %>% \n",
        "  split(.$cyl) %>% \n",
        "  map(f1)"
      ],
      "execution_count": 56,
      "outputs": [
        {
          "output_type": "display_data",
          "data": {
            "text/plain": [
              "$`4`\n",
              "\n",
              "Call:\n",
              "lm(formula = mpg ~ wt, data = df)\n",
              "\n",
              "Coefficients:\n",
              "(Intercept)           wt  \n",
              "     39.571       -5.647  \n",
              "\n",
              "\n",
              "$`6`\n",
              "\n",
              "Call:\n",
              "lm(formula = mpg ~ wt, data = df)\n",
              "\n",
              "Coefficients:\n",
              "(Intercept)           wt  \n",
              "      28.41        -2.78  \n",
              "\n",
              "\n",
              "$`8`\n",
              "\n",
              "Call:\n",
              "lm(formula = mpg ~ wt, data = df)\n",
              "\n",
              "Coefficients:\n",
              "(Intercept)           wt  \n",
              "     23.868       -2.192  \n",
              "\n"
            ]
          },
          "metadata": {
            "tags": []
          }
        }
      ]
    },
    {
      "cell_type": "code",
      "metadata": {
        "id": "i7gSsRAbUcEf",
        "outputId": "8fe19d26-eec1-4d31-9255-8a46b480059a",
        "colab": {
          "base_uri": "https://localhost:8080/",
          "height": 527
        }
      },
      "source": [
        "mtcars %>% \n",
        "  split(.$cyl) %>% \n",
        "  map(~lm(mpg ~ wt, data = .))\n"
      ],
      "execution_count": 57,
      "outputs": [
        {
          "output_type": "display_data",
          "data": {
            "text/plain": [
              "$`4`\n",
              "\n",
              "Call:\n",
              "lm(formula = mpg ~ wt, data = .)\n",
              "\n",
              "Coefficients:\n",
              "(Intercept)           wt  \n",
              "     39.571       -5.647  \n",
              "\n",
              "\n",
              "$`6`\n",
              "\n",
              "Call:\n",
              "lm(formula = mpg ~ wt, data = .)\n",
              "\n",
              "Coefficients:\n",
              "(Intercept)           wt  \n",
              "      28.41        -2.78  \n",
              "\n",
              "\n",
              "$`8`\n",
              "\n",
              "Call:\n",
              "lm(formula = mpg ~ wt, data = .)\n",
              "\n",
              "Coefficients:\n",
              "(Intercept)           wt  \n",
              "     23.868       -2.192  \n",
              "\n"
            ]
          },
          "metadata": {
            "tags": []
          }
        }
      ]
    },
    {
      "cell_type": "markdown",
      "metadata": {
        "id": "6QObZEBrVPyB"
      },
      "source": [
        "## Extract Component"
      ]
    },
    {
      "cell_type": "code",
      "metadata": {
        "id": "RjhdIZugUb4h",
        "outputId": "115d3ad3-a292-41a3-e5b6-d665503d5a1a",
        "colab": {
          "base_uri": "https://localhost:8080/",
          "height": 34
        }
      },
      "source": [
        "mtcars %>% \n",
        "  split(.$cyl) %>% \n",
        "  map(~lm(mpg ~ wt, data = .)) %>% \n",
        "  map(summary) %>% \n",
        "  map_dbl(~.$r.squared)\n"
      ],
      "execution_count": 58,
      "outputs": [
        {
          "output_type": "display_data",
          "data": {
            "text/plain": [
              "        4         6         8 \n",
              "0.5086326 0.4645102 0.4229655 "
            ],
            "text/latex": "\\begin{description*}\n\\item[4] 0.50863259632314\n\\item[6] 0.464510150550548\n\\item[8] 0.422965536496111\n\\end{description*}\n",
            "text/markdown": "4\n:   0.508632596323146\n:   0.4645101505505488\n:   0.422965536496111\n\n",
            "text/html": [
              "<style>\n",
              ".dl-inline {width: auto; margin:0; padding: 0}\n",
              ".dl-inline>dt, .dl-inline>dd {float: none; width: auto; display: inline-block}\n",
              ".dl-inline>dt::after {content: \":\\0020\"; padding-right: .5ex}\n",
              ".dl-inline>dt:not(:first-of-type) {padding-left: .5ex}\n",
              "</style><dl class=dl-inline><dt>4</dt><dd>0.50863259632314</dd><dt>6</dt><dd>0.464510150550548</dd><dt>8</dt><dd>0.422965536496111</dd></dl>\n"
            ]
          },
          "metadata": {
            "tags": []
          }
        }
      ]
    },
    {
      "cell_type": "code",
      "metadata": {
        "id": "2o5geQ5RVUVt",
        "outputId": "3d5df1a8-3396-4bab-fb5e-6cc7858eceb4",
        "colab": {
          "base_uri": "https://localhost:8080/",
          "height": 34
        }
      },
      "source": [
        "mtcars %>% \n",
        "  split(.$cyl) %>% \n",
        "  map(~lm(mpg ~ wt, data = .)) %>% \n",
        "  map(summary) %>% \n",
        "  map_dbl('r.squared')\n"
      ],
      "execution_count": 59,
      "outputs": [
        {
          "output_type": "display_data",
          "data": {
            "text/plain": [
              "        4         6         8 \n",
              "0.5086326 0.4645102 0.4229655 "
            ],
            "text/latex": "\\begin{description*}\n\\item[4] 0.50863259632314\n\\item[6] 0.464510150550548\n\\item[8] 0.422965536496111\n\\end{description*}\n",
            "text/markdown": "4\n:   0.508632596323146\n:   0.4645101505505488\n:   0.422965536496111\n\n",
            "text/html": [
              "<style>\n",
              ".dl-inline {width: auto; margin:0; padding: 0}\n",
              ".dl-inline>dt, .dl-inline>dd {float: none; width: auto; display: inline-block}\n",
              ".dl-inline>dt::after {content: \":\\0020\"; padding-right: .5ex}\n",
              ".dl-inline>dt:not(:first-of-type) {padding-left: .5ex}\n",
              "</style><dl class=dl-inline><dt>4</dt><dd>0.50863259632314</dd><dt>6</dt><dd>0.464510150550548</dd><dt>8</dt><dd>0.422965536496111</dd></dl>\n"
            ]
          },
          "metadata": {
            "tags": []
          }
        }
      ]
    },
    {
      "cell_type": "markdown",
      "metadata": {
        "id": "FAOULT0-Vy_k"
      },
      "source": [
        "You can also use an integer to select elements by position"
      ]
    },
    {
      "cell_type": "code",
      "metadata": {
        "id": "JDOtIgsyVjju",
        "outputId": "42b85825-c460-430c-89d0-e95e69a803f2",
        "colab": {
          "base_uri": "https://localhost:8080/",
          "height": 34
        }
      },
      "source": [
        "x <- list(list(1, 2, 3), list(4, 5, 6), list(7, 8, 9))\n",
        "x %>% map_dbl(2)\n",
        "#> [1] 2 5 8\n"
      ],
      "execution_count": 60,
      "outputs": [
        {
          "output_type": "display_data",
          "data": {
            "text/plain": [
              "[1] 2 5 8"
            ],
            "text/latex": "\\begin{enumerate*}\n\\item 2\n\\item 5\n\\item 8\n\\end{enumerate*}\n",
            "text/markdown": "1. 2\n2. 5\n3. 8\n\n\n",
            "text/html": [
              "<style>\n",
              ".list-inline {list-style: none; margin:0; padding: 0}\n",
              ".list-inline>li {display: inline-block}\n",
              ".list-inline>li:not(:last-child)::after {content: \"\\00b7\"; padding: 0 .5ex}\n",
              "</style>\n",
              "<ol class=list-inline><li>2</li><li>5</li><li>8</li></ol>\n"
            ]
          },
          "metadata": {
            "tags": []
          }
        }
      ]
    },
    {
      "cell_type": "code",
      "metadata": {
        "id": "HX2eRbamVjZI"
      },
      "source": [
        ""
      ],
      "execution_count": null,
      "outputs": []
    },
    {
      "cell_type": "code",
      "metadata": {
        "id": "1IdJCeWrVjQp"
      },
      "source": [
        ""
      ],
      "execution_count": null,
      "outputs": []
    },
    {
      "cell_type": "markdown",
      "metadata": {
        "id": "2Lk6MKBCV2ru"
      },
      "source": [
        "Functional Programming is memory efficient by not saving internal calculations. Easier to understand if you get used to it. \n",
        "\n",
        "Is it fater as well? "
      ]
    },
    {
      "cell_type": "code",
      "metadata": {
        "id": "WrOi6XEJTl3G"
      },
      "source": [
        "n_len = 10"
      ],
      "execution_count": 44,
      "outputs": []
    },
    {
      "cell_type": "code",
      "metadata": {
        "id": "g-KTb1qwSzvP",
        "outputId": "86e5904f-ede6-4d82-b5ad-e89795bca8a2",
        "colab": {
          "base_uri": "https://localhost:8080/",
          "height": 213
        }
      },
      "source": [
        "rep(10,n_len) %>% map(~rnorm(.))"
      ],
      "execution_count": 76,
      "outputs": [
        {
          "output_type": "display_data",
          "data": {
            "text/plain": [
              "[[1]]\n",
              " [1] -0.620625243 -1.141787132 -0.006952783  0.446649942  0.526272676\n",
              " [6]  2.278689871 -1.508959494 -0.860789113  0.428609095 -1.707651559\n",
              "\n",
              "[[2]]\n",
              " [1]  0.7998747  0.9569886  1.7916040  0.1266525 -0.1619761 -1.1691381\n",
              " [7]  0.1006099 -0.5524879 -1.1164518  1.3787980\n",
              "\n",
              "[[3]]\n",
              " [1]  1.6846490  0.6176711 -0.6382445 -1.0196952 -0.1772727  1.4146699\n",
              " [7] -0.1742150 -1.8847253 -1.5578388  0.9840497\n",
              "\n",
              "[[4]]\n",
              " [1] -0.3835769 -1.1733821 -1.8190088  1.0133304  0.5102566  0.8192509\n",
              " [7]  1.6089589  0.2545779  0.6575944 -2.1838724\n",
              "\n",
              "[[5]]\n",
              " [1] -1.27345562 -0.56837765 -1.28540217 -0.02671293 -0.82078155 -1.34066579\n",
              " [7]  0.15326443 -0.54017233 -0.80793905  1.43340105\n",
              "\n",
              "[[6]]\n",
              " [1]  0.4399499  0.3721792 -0.4681555  1.3477394  0.4301470 -1.7902340\n",
              " [7] -1.0010885  0.2177110  0.8625184  0.1831015\n",
              "\n",
              "[[7]]\n",
              " [1] -0.1766674  1.7112873  0.5036757  2.3258085  0.3748951 -1.7750306\n",
              " [7] -0.8101724  0.9865936 -0.3659252 -0.9912502\n",
              "\n",
              "[[8]]\n",
              " [1]  1.70663662 -0.74385790  0.09483476 -1.15760711 -1.35443907 -0.33770244\n",
              " [7]  1.10469018  0.47264774 -0.47670174 -0.97289190\n",
              "\n",
              "[[9]]\n",
              " [1] -1.3836700  1.1368431 -0.2831043 -0.6149405  0.6851618  1.0845667\n",
              " [7] -1.4095657 -1.2225481 -1.0840080 -1.2302792\n",
              "\n",
              "[[10]]\n",
              " [1] -1.1409895 -1.1116034  1.5900022 -0.7809938 -0.3491565 -1.5682664\n",
              " [7] -0.5097589  0.3811424  1.2630146  1.8014303\n"
            ],
            "text/latex": "\\begin{enumerate}\n\\item \\begin{enumerate*}\n\\item -0.620625243224256\n\\item -1.14178713239701\n\\item -0.00695278269668465\n\\item 0.446649941950918\n\\item 0.526272675679177\n\\item 2.27868987063919\n\\item -1.50895949445649\n\\item -0.860789112519175\n\\item 0.42860909459813\n\\item -1.70765155910353\n\\end{enumerate*}\n\n\\item \\begin{enumerate*}\n\\item 0.799874693782358\n\\item 0.956988552459879\n\\item 1.79160400786622\n\\item 0.126652514763998\n\\item -0.161976125094562\n\\item -1.16913811928421\n\\item 0.100609948742042\n\\item -0.552487937845745\n\\item -1.11645178001581\n\\item 1.37879799381664\n\\end{enumerate*}\n\n\\item \\begin{enumerate*}\n\\item 1.6846490110545\n\\item 0.61767107650175\n\\item -0.638244460273427\n\\item -1.01969519247531\n\\item -0.177272736380138\n\\item 1.41466989608429\n\\item -0.174214970638163\n\\item -1.88472533385932\n\\item -1.55783875192473\n\\item 0.984049663722626\n\\end{enumerate*}\n\n\\item \\begin{enumerate*}\n\\item -0.383576902402025\n\\item -1.17338211674204\n\\item -1.8190087598299\n\\item 1.0133303854706\n\\item 0.510256571912745\n\\item 0.819250912279373\n\\item 1.60895888901473\n\\item 0.254577917565391\n\\item 0.657594364750659\n\\item -2.18387238045134\n\\end{enumerate*}\n\n\\item \\begin{enumerate*}\n\\item -1.27345562373665\n\\item -0.568377649965881\n\\item -1.28540216531587\n\\item -0.0267129344079209\n\\item -0.820781550736169\n\\item -1.34066579427616\n\\item 0.15326443100737\n\\item -0.540172333849902\n\\item -0.807939050432059\n\\item 1.43340104594639\n\\end{enumerate*}\n\n\\item \\begin{enumerate*}\n\\item 0.439949859486971\n\\item 0.372179223341545\n\\item -0.468155499292152\n\\item 1.3477393842459\n\\item 0.430146982560796\n\\item -1.79023398835332\n\\item -1.00108849264508\n\\item 0.21771096021133\n\\item 0.86251842289888\n\\item 0.183101452561936\n\\end{enumerate*}\n\n\\item \\begin{enumerate*}\n\\item -0.176667366009671\n\\item 1.71128729654172\n\\item 0.503675725331406\n\\item 2.32580845287643\n\\item 0.374895138694464\n\\item -1.77503058679883\n\\item -0.810172352797998\n\\item 0.986593607067633\n\\item -0.365925243988235\n\\item -0.991250177525673\n\\end{enumerate*}\n\n\\item \\begin{enumerate*}\n\\item 1.70663662490756\n\\item -0.743857896592621\n\\item 0.0948347630721062\n\\item -1.15760711274764\n\\item -1.35443907263299\n\\item -0.33770244418053\n\\item 1.10469018288437\n\\item 0.472647742176316\n\\item -0.476701744585574\n\\item -0.972891899999513\n\\end{enumerate*}\n\n\\item \\begin{enumerate*}\n\\item -1.38367003683422\n\\item 1.13684313253391\n\\item -0.283104271402363\n\\item -0.614940504672509\n\\item 0.685161843387583\n\\item 1.08456665443836\n\\item -1.40956568844393\n\\item -1.22254810271485\n\\item -1.08400797570227\n\\item -1.23027921287271\n\\end{enumerate*}\n\n\\item \\begin{enumerate*}\n\\item -1.14098946597414\n\\item -1.11160339258598\n\\item 1.59000216504832\n\\item -0.780993844254624\n\\item -0.349156525209382\n\\item -1.56826637757634\n\\item -0.509758897163055\n\\item 0.38114238509376\n\\item 1.26301457829702\n\\item 1.80143029111157\n\\end{enumerate*}\n\n\\end{enumerate}\n",
            "text/markdown": "1. 1. -0.620625243224256\n2. -1.14178713239701\n3. -0.00695278269668465\n4. 0.446649941950918\n5. 0.526272675679177\n6. 2.27868987063919\n7. -1.50895949445649\n8. -0.860789112519175\n9. 0.42860909459813\n10. -1.70765155910353\n\n\n\n2. 1. 0.799874693782358\n2. 0.956988552459879\n3. 1.79160400786622\n4. 0.126652514763998\n5. -0.161976125094562\n6. -1.16913811928421\n7. 0.100609948742042\n8. -0.552487937845745\n9. -1.11645178001581\n10. 1.37879799381664\n\n\n\n3. 1. 1.6846490110545\n2. 0.61767107650175\n3. -0.638244460273427\n4. -1.01969519247531\n5. -0.177272736380138\n6. 1.41466989608429\n7. -0.174214970638163\n8. -1.88472533385932\n9. -1.55783875192473\n10. 0.984049663722626\n\n\n\n4. 1. -0.383576902402025\n2. -1.17338211674204\n3. -1.8190087598299\n4. 1.0133303854706\n5. 0.510256571912745\n6. 0.819250912279373\n7. 1.60895888901473\n8. 0.254577917565391\n9. 0.657594364750659\n10. -2.18387238045134\n\n\n\n5. 1. -1.27345562373665\n2. -0.568377649965881\n3. -1.28540216531587\n4. -0.0267129344079209\n5. -0.820781550736169\n6. -1.34066579427616\n7. 0.15326443100737\n8. -0.540172333849902\n9. -0.807939050432059\n10. 1.43340104594639\n\n\n\n6. 1. 0.439949859486971\n2. 0.372179223341545\n3. -0.468155499292152\n4. 1.3477393842459\n5. 0.430146982560796\n6. -1.79023398835332\n7. -1.00108849264508\n8. 0.21771096021133\n9. 0.86251842289888\n10. 0.183101452561936\n\n\n\n7. 1. -0.176667366009671\n2. 1.71128729654172\n3. 0.503675725331406\n4. 2.32580845287643\n5. 0.374895138694464\n6. -1.77503058679883\n7. -0.810172352797998\n8. 0.986593607067633\n9. -0.365925243988235\n10. -0.991250177525673\n\n\n\n8. 1. 1.70663662490756\n2. -0.743857896592621\n3. 0.0948347630721062\n4. -1.15760711274764\n5. -1.35443907263299\n6. -0.33770244418053\n7. 1.10469018288437\n8. 0.472647742176316\n9. -0.476701744585574\n10. -0.972891899999513\n\n\n\n9. 1. -1.38367003683422\n2. 1.13684313253391\n3. -0.283104271402363\n4. -0.614940504672509\n5. 0.685161843387583\n6. 1.08456665443836\n7. -1.40956568844393\n8. -1.22254810271485\n9. -1.08400797570227\n10. -1.23027921287271\n\n\n\n10. 1. -1.14098946597414\n2. -1.11160339258598\n3. 1.59000216504832\n4. -0.780993844254624\n5. -0.349156525209382\n6. -1.56826637757634\n7. -0.509758897163055\n8. 0.38114238509376\n9. 1.26301457829702\n10. 1.80143029111157\n\n\n\n\n\n",
            "text/html": [
              "<ol>\n",
              "\t<li><style>\n",
              ".list-inline {list-style: none; margin:0; padding: 0}\n",
              ".list-inline>li {display: inline-block}\n",
              ".list-inline>li:not(:last-child)::after {content: \"\\00b7\"; padding: 0 .5ex}\n",
              "</style>\n",
              "<ol class=list-inline><li>-0.620625243224256</li><li>-1.14178713239701</li><li>-0.00695278269668465</li><li>0.446649941950918</li><li>0.526272675679177</li><li>2.27868987063919</li><li>-1.50895949445649</li><li>-0.860789112519175</li><li>0.42860909459813</li><li>-1.70765155910353</li></ol>\n",
              "</li>\n",
              "\t<li><style>\n",
              ".list-inline {list-style: none; margin:0; padding: 0}\n",
              ".list-inline>li {display: inline-block}\n",
              ".list-inline>li:not(:last-child)::after {content: \"\\00b7\"; padding: 0 .5ex}\n",
              "</style>\n",
              "<ol class=list-inline><li>0.799874693782358</li><li>0.956988552459879</li><li>1.79160400786622</li><li>0.126652514763998</li><li>-0.161976125094562</li><li>-1.16913811928421</li><li>0.100609948742042</li><li>-0.552487937845745</li><li>-1.11645178001581</li><li>1.37879799381664</li></ol>\n",
              "</li>\n",
              "\t<li><style>\n",
              ".list-inline {list-style: none; margin:0; padding: 0}\n",
              ".list-inline>li {display: inline-block}\n",
              ".list-inline>li:not(:last-child)::after {content: \"\\00b7\"; padding: 0 .5ex}\n",
              "</style>\n",
              "<ol class=list-inline><li>1.6846490110545</li><li>0.61767107650175</li><li>-0.638244460273427</li><li>-1.01969519247531</li><li>-0.177272736380138</li><li>1.41466989608429</li><li>-0.174214970638163</li><li>-1.88472533385932</li><li>-1.55783875192473</li><li>0.984049663722626</li></ol>\n",
              "</li>\n",
              "\t<li><style>\n",
              ".list-inline {list-style: none; margin:0; padding: 0}\n",
              ".list-inline>li {display: inline-block}\n",
              ".list-inline>li:not(:last-child)::after {content: \"\\00b7\"; padding: 0 .5ex}\n",
              "</style>\n",
              "<ol class=list-inline><li>-0.383576902402025</li><li>-1.17338211674204</li><li>-1.8190087598299</li><li>1.0133303854706</li><li>0.510256571912745</li><li>0.819250912279373</li><li>1.60895888901473</li><li>0.254577917565391</li><li>0.657594364750659</li><li>-2.18387238045134</li></ol>\n",
              "</li>\n",
              "\t<li><style>\n",
              ".list-inline {list-style: none; margin:0; padding: 0}\n",
              ".list-inline>li {display: inline-block}\n",
              ".list-inline>li:not(:last-child)::after {content: \"\\00b7\"; padding: 0 .5ex}\n",
              "</style>\n",
              "<ol class=list-inline><li>-1.27345562373665</li><li>-0.568377649965881</li><li>-1.28540216531587</li><li>-0.0267129344079209</li><li>-0.820781550736169</li><li>-1.34066579427616</li><li>0.15326443100737</li><li>-0.540172333849902</li><li>-0.807939050432059</li><li>1.43340104594639</li></ol>\n",
              "</li>\n",
              "\t<li><style>\n",
              ".list-inline {list-style: none; margin:0; padding: 0}\n",
              ".list-inline>li {display: inline-block}\n",
              ".list-inline>li:not(:last-child)::after {content: \"\\00b7\"; padding: 0 .5ex}\n",
              "</style>\n",
              "<ol class=list-inline><li>0.439949859486971</li><li>0.372179223341545</li><li>-0.468155499292152</li><li>1.3477393842459</li><li>0.430146982560796</li><li>-1.79023398835332</li><li>-1.00108849264508</li><li>0.21771096021133</li><li>0.86251842289888</li><li>0.183101452561936</li></ol>\n",
              "</li>\n",
              "\t<li><style>\n",
              ".list-inline {list-style: none; margin:0; padding: 0}\n",
              ".list-inline>li {display: inline-block}\n",
              ".list-inline>li:not(:last-child)::after {content: \"\\00b7\"; padding: 0 .5ex}\n",
              "</style>\n",
              "<ol class=list-inline><li>-0.176667366009671</li><li>1.71128729654172</li><li>0.503675725331406</li><li>2.32580845287643</li><li>0.374895138694464</li><li>-1.77503058679883</li><li>-0.810172352797998</li><li>0.986593607067633</li><li>-0.365925243988235</li><li>-0.991250177525673</li></ol>\n",
              "</li>\n",
              "\t<li><style>\n",
              ".list-inline {list-style: none; margin:0; padding: 0}\n",
              ".list-inline>li {display: inline-block}\n",
              ".list-inline>li:not(:last-child)::after {content: \"\\00b7\"; padding: 0 .5ex}\n",
              "</style>\n",
              "<ol class=list-inline><li>1.70663662490756</li><li>-0.743857896592621</li><li>0.0948347630721062</li><li>-1.15760711274764</li><li>-1.35443907263299</li><li>-0.33770244418053</li><li>1.10469018288437</li><li>0.472647742176316</li><li>-0.476701744585574</li><li>-0.972891899999513</li></ol>\n",
              "</li>\n",
              "\t<li><style>\n",
              ".list-inline {list-style: none; margin:0; padding: 0}\n",
              ".list-inline>li {display: inline-block}\n",
              ".list-inline>li:not(:last-child)::after {content: \"\\00b7\"; padding: 0 .5ex}\n",
              "</style>\n",
              "<ol class=list-inline><li>-1.38367003683422</li><li>1.13684313253391</li><li>-0.283104271402363</li><li>-0.614940504672509</li><li>0.685161843387583</li><li>1.08456665443836</li><li>-1.40956568844393</li><li>-1.22254810271485</li><li>-1.08400797570227</li><li>-1.23027921287271</li></ol>\n",
              "</li>\n",
              "\t<li><style>\n",
              ".list-inline {list-style: none; margin:0; padding: 0}\n",
              ".list-inline>li {display: inline-block}\n",
              ".list-inline>li:not(:last-child)::after {content: \"\\00b7\"; padding: 0 .5ex}\n",
              "</style>\n",
              "<ol class=list-inline><li>-1.14098946597414</li><li>-1.11160339258598</li><li>1.59000216504832</li><li>-0.780993844254624</li><li>-0.349156525209382</li><li>-1.56826637757634</li><li>-0.509758897163055</li><li>0.38114238509376</li><li>1.26301457829702</li><li>1.80143029111157</li></ol>\n",
              "</li>\n",
              "</ol>\n"
            ]
          },
          "metadata": {
            "tags": []
          }
        }
      ]
    },
    {
      "cell_type": "code",
      "metadata": {
        "id": "RcPq9l-jTfUA",
        "outputId": "2d3a17ee-1e4a-4506-f7e5-7ec08ed3a570",
        "colab": {
          "base_uri": "https://localhost:8080/",
          "height": 230
        }
      },
      "source": [
        "df2 <- vector(mode = \"list\", length = n_len)\n",
        "for (i in 1:n_len)\n",
        "  df2[[i]] <- rnorm(10)\n",
        "df2"
      ],
      "execution_count": 47,
      "outputs": [
        {
          "output_type": "display_data",
          "data": {
            "text/plain": [
              "[[1]]\n",
              " [1]  0.52743505 -0.90886269  1.03574372  0.22652611 -0.88963669  0.72808485\n",
              " [7]  0.07468877  0.93831708 -1.21445971  0.69366390\n",
              "\n",
              "[[2]]\n",
              " [1] -0.8991981  1.3794527 -0.1630155 -0.8610476  1.3932738  1.8208133\n",
              " [7] -1.7513283  1.3299391 -2.1452046  1.9997852\n",
              "\n",
              "[[3]]\n",
              " [1]  0.3140859  0.9923112 -0.1759633 -1.4956647 -0.5351259 -0.5675641\n",
              " [7]  1.6307535  0.1683051  1.9075010 -0.4206986\n",
              "\n",
              "[[4]]\n",
              " [1] -0.6201247  1.6502121 -0.1464198  0.8662909  0.1941911 -0.9192513\n",
              " [7]  0.1374188  1.3628337  1.4666813 -1.4221725\n",
              "\n",
              "[[5]]\n",
              " [1] -1.4378453 -0.1232300 -0.7473429  1.7292908 -1.8621292 -1.3026652\n",
              " [7] -0.4851520  0.7450059  2.5731727  0.2617644\n",
              "\n",
              "[[6]]\n",
              " [1]  0.9918919  0.8194098  0.6537751  1.5731232  2.5049935 -0.8119337\n",
              " [7]  0.1107102  0.7552333 -1.4451167  0.9113512\n",
              "\n",
              "[[7]]\n",
              " [1] -1.7480207 -0.4536697 -0.5805534 -0.2680587 -0.9421824  0.5934837\n",
              " [7]  0.1768781  0.8551443 -0.2033591  1.2810124\n",
              "\n",
              "[[8]]\n",
              " [1] -0.9987953 -0.1471029  1.7755825 -0.5204478  1.3944090 -0.5084039\n",
              " [7] -0.9704586  1.9228476 -0.1769407 -2.2861610\n",
              "\n",
              "[[9]]\n",
              " [1] -0.6937698 -0.1350995 -0.3956007  0.5873083  0.2357904  0.1712018\n",
              " [7]  0.5829747  1.2848006  1.3651692 -0.7767127\n",
              "\n",
              "[[10]]\n",
              " [1] -0.32778981  0.38849485 -0.07921878  1.87462633 -0.95527718 -1.03441315\n",
              " [7] -1.18534636 -0.09218413 -1.07912081  1.97505778\n"
            ],
            "text/latex": "\\begin{enumerate}\n\\item \\begin{enumerate*}\n\\item 0.527435052767475\n\\item -0.908862694447949\n\\item 1.03574371506578\n\\item 0.226526109629489\n\\item -0.889636691854561\n\\item 0.728084854090474\n\\item 0.0746887683207823\n\\item 0.938317080193134\n\\item -1.21445970513375\n\\item 0.693663899454911\n\\end{enumerate*}\n\n\\item \\begin{enumerate*}\n\\item -0.899198138705106\n\\item 1.37945273153438\n\\item -0.163015509552398\n\\item -0.861047568809364\n\\item 1.3932737658112\n\\item 1.82081326105313\n\\item -1.75132830530048\n\\item 1.32993909730363\n\\item -2.145204553213\n\\item 1.99978524720786\n\\end{enumerate*}\n\n\\item \\begin{enumerate*}\n\\item 0.314085888503658\n\\item 0.992311198113056\n\\item -0.175963278768759\n\\item -1.49566469743604\n\\item -0.535125938541176\n\\item -0.567564066776378\n\\item 1.63075352706431\n\\item 0.168305105027333\n\\item 1.907500976623\n\\item -0.420698576850405\n\\end{enumerate*}\n\n\\item \\begin{enumerate*}\n\\item -0.620124655557571\n\\item 1.65021210191044\n\\item -0.146419789944267\n\\item 0.866290933749949\n\\item 0.194191127594865\n\\item -0.919251332797795\n\\item 0.137418760515851\n\\item 1.36283374469187\n\\item 1.46668127142908\n\\item -1.42217253112927\n\\end{enumerate*}\n\n\\item \\begin{enumerate*}\n\\item -1.4378452702579\n\\item -0.123229967375678\n\\item -0.747342880789488\n\\item 1.72929075216771\n\\item -1.86212915268207\n\\item -1.30266518565335\n\\item -0.485151954257331\n\\item 0.745005860765211\n\\item 2.57317272702701\n\\item 0.261764399971645\n\\end{enumerate*}\n\n\\item \\begin{enumerate*}\n\\item 0.991891911639004\n\\item 0.819409797126876\n\\item 0.653775108198827\n\\item 1.57312319375892\n\\item 2.50499353804159\n\\item -0.811933725574801\n\\item 0.110710208318701\n\\item 0.755233309305973\n\\item -1.44511673074853\n\\item 0.911351155774232\n\\end{enumerate*}\n\n\\item \\begin{enumerate*}\n\\item -1.74802068938921\n\\item -0.453669694881376\n\\item -0.580553414848766\n\\item -0.268058698509477\n\\item -0.942182387999814\n\\item 0.593483691237192\n\\item 0.176878069476597\n\\item 0.855144268816518\n\\item -0.203359131955351\n\\item 1.28101239385991\n\\end{enumerate*}\n\n\\item \\begin{enumerate*}\n\\item -0.998795319473758\n\\item -0.14710293158676\n\\item 1.77558251177631\n\\item -0.520447778936392\n\\item 1.39440903916614\n\\item -0.508403873721444\n\\item -0.970458588384363\n\\item 1.92284764745021\n\\item -0.176940731220448\n\\item -2.28616096240891\n\\end{enumerate*}\n\n\\item \\begin{enumerate*}\n\\item -0.693769823791779\n\\item -0.13509951481118\n\\item -0.395600674540698\n\\item 0.58730828671504\n\\item 0.23579035409848\n\\item 0.171201830334755\n\\item 0.582974748344629\n\\item 1.28480055117971\n\\item 1.36516915673918\n\\item -0.776712692792774\n\\end{enumerate*}\n\n\\item \\begin{enumerate*}\n\\item -0.327789807274742\n\\item 0.388494853538806\n\\item -0.0792187794404616\n\\item 1.8746263295525\n\\item -0.955277175400311\n\\item -1.03441315182976\n\\item -1.18534635615574\n\\item -0.0921841281192054\n\\item -1.07912081228517\n\\item 1.97505777896894\n\\end{enumerate*}\n\n\\end{enumerate}\n",
            "text/markdown": "1. 1. 0.527435052767475\n2. -0.908862694447949\n3. 1.03574371506578\n4. 0.226526109629489\n5. -0.889636691854561\n6. 0.728084854090474\n7. 0.0746887683207823\n8. 0.938317080193134\n9. -1.21445970513375\n10. 0.693663899454911\n\n\n\n2. 1. -0.899198138705106\n2. 1.37945273153438\n3. -0.163015509552398\n4. -0.861047568809364\n5. 1.3932737658112\n6. 1.82081326105313\n7. -1.75132830530048\n8. 1.32993909730363\n9. -2.145204553213\n10. 1.99978524720786\n\n\n\n3. 1. 0.314085888503658\n2. 0.992311198113056\n3. -0.175963278768759\n4. -1.49566469743604\n5. -0.535125938541176\n6. -0.567564066776378\n7. 1.63075352706431\n8. 0.168305105027333\n9. 1.907500976623\n10. -0.420698576850405\n\n\n\n4. 1. -0.620124655557571\n2. 1.65021210191044\n3. -0.146419789944267\n4. 0.866290933749949\n5. 0.194191127594865\n6. -0.919251332797795\n7. 0.137418760515851\n8. 1.36283374469187\n9. 1.46668127142908\n10. -1.42217253112927\n\n\n\n5. 1. -1.4378452702579\n2. -0.123229967375678\n3. -0.747342880789488\n4. 1.72929075216771\n5. -1.86212915268207\n6. -1.30266518565335\n7. -0.485151954257331\n8. 0.745005860765211\n9. 2.57317272702701\n10. 0.261764399971645\n\n\n\n6. 1. 0.991891911639004\n2. 0.819409797126876\n3. 0.653775108198827\n4. 1.57312319375892\n5. 2.50499353804159\n6. -0.811933725574801\n7. 0.110710208318701\n8. 0.755233309305973\n9. -1.44511673074853\n10. 0.911351155774232\n\n\n\n7. 1. -1.74802068938921\n2. -0.453669694881376\n3. -0.580553414848766\n4. -0.268058698509477\n5. -0.942182387999814\n6. 0.593483691237192\n7. 0.176878069476597\n8. 0.855144268816518\n9. -0.203359131955351\n10. 1.28101239385991\n\n\n\n8. 1. -0.998795319473758\n2. -0.14710293158676\n3. 1.77558251177631\n4. -0.520447778936392\n5. 1.39440903916614\n6. -0.508403873721444\n7. -0.970458588384363\n8. 1.92284764745021\n9. -0.176940731220448\n10. -2.28616096240891\n\n\n\n9. 1. -0.693769823791779\n2. -0.13509951481118\n3. -0.395600674540698\n4. 0.58730828671504\n5. 0.23579035409848\n6. 0.171201830334755\n7. 0.582974748344629\n8. 1.28480055117971\n9. 1.36516915673918\n10. -0.776712692792774\n\n\n\n10. 1. -0.327789807274742\n2. 0.388494853538806\n3. -0.0792187794404616\n4. 1.8746263295525\n5. -0.955277175400311\n6. -1.03441315182976\n7. -1.18534635615574\n8. -0.0921841281192054\n9. -1.07912081228517\n10. 1.97505777896894\n\n\n\n\n\n",
            "text/html": [
              "<ol>\n",
              "\t<li><style>\n",
              ".list-inline {list-style: none; margin:0; padding: 0}\n",
              ".list-inline>li {display: inline-block}\n",
              ".list-inline>li:not(:last-child)::after {content: \"\\00b7\"; padding: 0 .5ex}\n",
              "</style>\n",
              "<ol class=list-inline><li>0.527435052767475</li><li>-0.908862694447949</li><li>1.03574371506578</li><li>0.226526109629489</li><li>-0.889636691854561</li><li>0.728084854090474</li><li>0.0746887683207823</li><li>0.938317080193134</li><li>-1.21445970513375</li><li>0.693663899454911</li></ol>\n",
              "</li>\n",
              "\t<li><style>\n",
              ".list-inline {list-style: none; margin:0; padding: 0}\n",
              ".list-inline>li {display: inline-block}\n",
              ".list-inline>li:not(:last-child)::after {content: \"\\00b7\"; padding: 0 .5ex}\n",
              "</style>\n",
              "<ol class=list-inline><li>-0.899198138705106</li><li>1.37945273153438</li><li>-0.163015509552398</li><li>-0.861047568809364</li><li>1.3932737658112</li><li>1.82081326105313</li><li>-1.75132830530048</li><li>1.32993909730363</li><li>-2.145204553213</li><li>1.99978524720786</li></ol>\n",
              "</li>\n",
              "\t<li><style>\n",
              ".list-inline {list-style: none; margin:0; padding: 0}\n",
              ".list-inline>li {display: inline-block}\n",
              ".list-inline>li:not(:last-child)::after {content: \"\\00b7\"; padding: 0 .5ex}\n",
              "</style>\n",
              "<ol class=list-inline><li>0.314085888503658</li><li>0.992311198113056</li><li>-0.175963278768759</li><li>-1.49566469743604</li><li>-0.535125938541176</li><li>-0.567564066776378</li><li>1.63075352706431</li><li>0.168305105027333</li><li>1.907500976623</li><li>-0.420698576850405</li></ol>\n",
              "</li>\n",
              "\t<li><style>\n",
              ".list-inline {list-style: none; margin:0; padding: 0}\n",
              ".list-inline>li {display: inline-block}\n",
              ".list-inline>li:not(:last-child)::after {content: \"\\00b7\"; padding: 0 .5ex}\n",
              "</style>\n",
              "<ol class=list-inline><li>-0.620124655557571</li><li>1.65021210191044</li><li>-0.146419789944267</li><li>0.866290933749949</li><li>0.194191127594865</li><li>-0.919251332797795</li><li>0.137418760515851</li><li>1.36283374469187</li><li>1.46668127142908</li><li>-1.42217253112927</li></ol>\n",
              "</li>\n",
              "\t<li><style>\n",
              ".list-inline {list-style: none; margin:0; padding: 0}\n",
              ".list-inline>li {display: inline-block}\n",
              ".list-inline>li:not(:last-child)::after {content: \"\\00b7\"; padding: 0 .5ex}\n",
              "</style>\n",
              "<ol class=list-inline><li>-1.4378452702579</li><li>-0.123229967375678</li><li>-0.747342880789488</li><li>1.72929075216771</li><li>-1.86212915268207</li><li>-1.30266518565335</li><li>-0.485151954257331</li><li>0.745005860765211</li><li>2.57317272702701</li><li>0.261764399971645</li></ol>\n",
              "</li>\n",
              "\t<li><style>\n",
              ".list-inline {list-style: none; margin:0; padding: 0}\n",
              ".list-inline>li {display: inline-block}\n",
              ".list-inline>li:not(:last-child)::after {content: \"\\00b7\"; padding: 0 .5ex}\n",
              "</style>\n",
              "<ol class=list-inline><li>0.991891911639004</li><li>0.819409797126876</li><li>0.653775108198827</li><li>1.57312319375892</li><li>2.50499353804159</li><li>-0.811933725574801</li><li>0.110710208318701</li><li>0.755233309305973</li><li>-1.44511673074853</li><li>0.911351155774232</li></ol>\n",
              "</li>\n",
              "\t<li><style>\n",
              ".list-inline {list-style: none; margin:0; padding: 0}\n",
              ".list-inline>li {display: inline-block}\n",
              ".list-inline>li:not(:last-child)::after {content: \"\\00b7\"; padding: 0 .5ex}\n",
              "</style>\n",
              "<ol class=list-inline><li>-1.74802068938921</li><li>-0.453669694881376</li><li>-0.580553414848766</li><li>-0.268058698509477</li><li>-0.942182387999814</li><li>0.593483691237192</li><li>0.176878069476597</li><li>0.855144268816518</li><li>-0.203359131955351</li><li>1.28101239385991</li></ol>\n",
              "</li>\n",
              "\t<li><style>\n",
              ".list-inline {list-style: none; margin:0; padding: 0}\n",
              ".list-inline>li {display: inline-block}\n",
              ".list-inline>li:not(:last-child)::after {content: \"\\00b7\"; padding: 0 .5ex}\n",
              "</style>\n",
              "<ol class=list-inline><li>-0.998795319473758</li><li>-0.14710293158676</li><li>1.77558251177631</li><li>-0.520447778936392</li><li>1.39440903916614</li><li>-0.508403873721444</li><li>-0.970458588384363</li><li>1.92284764745021</li><li>-0.176940731220448</li><li>-2.28616096240891</li></ol>\n",
              "</li>\n",
              "\t<li><style>\n",
              ".list-inline {list-style: none; margin:0; padding: 0}\n",
              ".list-inline>li {display: inline-block}\n",
              ".list-inline>li:not(:last-child)::after {content: \"\\00b7\"; padding: 0 .5ex}\n",
              "</style>\n",
              "<ol class=list-inline><li>-0.693769823791779</li><li>-0.13509951481118</li><li>-0.395600674540698</li><li>0.58730828671504</li><li>0.23579035409848</li><li>0.171201830334755</li><li>0.582974748344629</li><li>1.28480055117971</li><li>1.36516915673918</li><li>-0.776712692792774</li></ol>\n",
              "</li>\n",
              "\t<li><style>\n",
              ".list-inline {list-style: none; margin:0; padding: 0}\n",
              ".list-inline>li {display: inline-block}\n",
              ".list-inline>li:not(:last-child)::after {content: \"\\00b7\"; padding: 0 .5ex}\n",
              "</style>\n",
              "<ol class=list-inline><li>-0.327789807274742</li><li>0.388494853538806</li><li>-0.0792187794404616</li><li>1.8746263295525</li><li>-0.955277175400311</li><li>-1.03441315182976</li><li>-1.18534635615574</li><li>-0.0921841281192054</li><li>-1.07912081228517</li><li>1.97505777896894</li></ol>\n",
              "</li>\n",
              "</ol>\n"
            ]
          },
          "metadata": {
            "tags": []
          }
        }
      ]
    },
    {
      "cell_type": "code",
      "metadata": {
        "id": "y-y-UswHT3HE"
      },
      "source": [
        "gen1 <- function(n_len) {\n",
        "  rep(10,n_len) %>% map(~rnorm(.))\n",
        "}"
      ],
      "execution_count": 78,
      "outputs": []
    },
    {
      "cell_type": "code",
      "metadata": {
        "id": "UWQUYdJBT28N"
      },
      "source": [
        "gen2 <- function(n_len) {\n",
        "  df2 <- vector(mode = \"list\", length = n_len)\n",
        "  for (i in 1:n_len)\n",
        "    df2[[i]] <- rnorm(10)\n",
        "  df2\n",
        "}"
      ],
      "execution_count": 79,
      "outputs": []
    },
    {
      "cell_type": "code",
      "metadata": {
        "id": "8rTxkSrwWzIt"
      },
      "source": [
        "gen3 <- function(n_len) {\n",
        "  lapply(rep(10,n_len), rnorm )\n",
        "}"
      ],
      "execution_count": 80,
      "outputs": []
    },
    {
      "cell_type": "code",
      "metadata": {
        "id": "yg90aScAUEAV",
        "outputId": "32cfe8ce-4052-4cde-cb33-5ae60a91904f",
        "colab": {
          "base_uri": "https://localhost:8080/",
          "height": 162
        }
      },
      "source": [
        "gen1(5)"
      ],
      "execution_count": 77,
      "outputs": [
        {
          "output_type": "display_data",
          "data": {
            "text/plain": [
              "[[1]]\n",
              " [1] -0.49712861  0.05091309 -0.44606287  1.29916012 -0.75930663 -0.74310399\n",
              " [7]  0.07484685  1.39902817  0.59695194  0.90814706\n",
              "\n",
              "[[2]]\n",
              " [1]  0.7431012 -0.8041339  0.3037484  0.1008956  0.5447449 -0.7322523\n",
              " [7] -0.1037679 -1.6007440 -1.0930806  1.2337762\n",
              "\n",
              "[[3]]\n",
              " [1]  0.6262720  0.5761060  1.0666356  0.2129407  0.7748447  0.1972533\n",
              " [7] -1.1542661 -0.3049017  0.3102966  0.8163364\n",
              "\n",
              "[[4]]\n",
              " [1] -0.61274376  0.13759164 -0.62081090  0.17898726  0.95804661  2.60610471\n",
              " [7] -0.47801363 -0.04396463 -0.25997366  0.22741581\n",
              "\n",
              "[[5]]\n",
              " [1]  0.1387129 -0.4904658  1.0748251 -0.2250626  0.4380025  0.2567294\n",
              " [7]  0.1306778 -1.3091760  1.9178766 -0.9971336\n"
            ],
            "text/latex": "\\begin{enumerate}\n\\item \\begin{enumerate*}\n\\item -0.497128608619249\n\\item 0.0509130942867015\n\\item -0.446062871456562\n\\item 1.29916011572344\n\\item -0.759306626609855\n\\item -0.743103986699506\n\\item 0.0748468545719339\n\\item 1.39902816610634\n\\item 0.596951937755438\n\\item 0.908147057570533\n\\end{enumerate*}\n\n\\item \\begin{enumerate*}\n\\item 0.743101242794835\n\\item -0.804133878681423\n\\item 0.303748379237407\n\\item 0.100895555204902\n\\item 0.544744917169434\n\\item -0.732252334872067\n\\item -0.103767948078647\n\\item -1.60074399111085\n\\item -1.09308059408694\n\\item 1.23377623299207\n\\end{enumerate*}\n\n\\item \\begin{enumerate*}\n\\item 0.62627200404655\n\\item 0.576106007400459\n\\item 1.06663558833378\n\\item 0.212940724022339\n\\item 0.774844658371706\n\\item 0.197253302768039\n\\item -1.15426612031909\n\\item -0.304901684762027\n\\item 0.310296564738383\n\\item 0.816336421214581\n\\end{enumerate*}\n\n\\item \\begin{enumerate*}\n\\item -0.612743764579685\n\\item 0.137591644208506\n\\item -0.620810902391252\n\\item 0.178987258017408\n\\item 0.958046610562724\n\\item 2.60610471331167\n\\item -0.478013625650206\n\\item -0.0439646348900331\n\\item -0.25997365600816\n\\item 0.227415806325745\n\\end{enumerate*}\n\n\\item \\begin{enumerate*}\n\\item 0.13871285136749\n\\item -0.490465776068886\n\\item 1.07482505217783\n\\item -0.225062602374196\n\\item 0.438002472175346\n\\item 0.256729405611795\n\\item 0.130677806893343\n\\item -1.30917598059997\n\\item 1.91787657286492\n\\item -0.997133566006147\n\\end{enumerate*}\n\n\\end{enumerate}\n",
            "text/markdown": "1. 1. -0.497128608619249\n2. 0.0509130942867015\n3. -0.446062871456562\n4. 1.29916011572344\n5. -0.759306626609855\n6. -0.743103986699506\n7. 0.0748468545719339\n8. 1.39902816610634\n9. 0.596951937755438\n10. 0.908147057570533\n\n\n\n2. 1. 0.743101242794835\n2. -0.804133878681423\n3. 0.303748379237407\n4. 0.100895555204902\n5. 0.544744917169434\n6. -0.732252334872067\n7. -0.103767948078647\n8. -1.60074399111085\n9. -1.09308059408694\n10. 1.23377623299207\n\n\n\n3. 1. 0.62627200404655\n2. 0.576106007400459\n3. 1.06663558833378\n4. 0.212940724022339\n5. 0.774844658371706\n6. 0.197253302768039\n7. -1.15426612031909\n8. -0.304901684762027\n9. 0.310296564738383\n10. 0.816336421214581\n\n\n\n4. 1. -0.612743764579685\n2. 0.137591644208506\n3. -0.620810902391252\n4. 0.178987258017408\n5. 0.958046610562724\n6. 2.60610471331167\n7. -0.478013625650206\n8. -0.0439646348900331\n9. -0.25997365600816\n10. 0.227415806325745\n\n\n\n5. 1. 0.13871285136749\n2. -0.490465776068886\n3. 1.07482505217783\n4. -0.225062602374196\n5. 0.438002472175346\n6. 0.256729405611795\n7. 0.130677806893343\n8. -1.30917598059997\n9. 1.91787657286492\n10. -0.997133566006147\n\n\n\n\n\n",
            "text/html": [
              "<ol>\n",
              "\t<li><style>\n",
              ".list-inline {list-style: none; margin:0; padding: 0}\n",
              ".list-inline>li {display: inline-block}\n",
              ".list-inline>li:not(:last-child)::after {content: \"\\00b7\"; padding: 0 .5ex}\n",
              "</style>\n",
              "<ol class=list-inline><li>-0.497128608619249</li><li>0.0509130942867015</li><li>-0.446062871456562</li><li>1.29916011572344</li><li>-0.759306626609855</li><li>-0.743103986699506</li><li>0.0748468545719339</li><li>1.39902816610634</li><li>0.596951937755438</li><li>0.908147057570533</li></ol>\n",
              "</li>\n",
              "\t<li><style>\n",
              ".list-inline {list-style: none; margin:0; padding: 0}\n",
              ".list-inline>li {display: inline-block}\n",
              ".list-inline>li:not(:last-child)::after {content: \"\\00b7\"; padding: 0 .5ex}\n",
              "</style>\n",
              "<ol class=list-inline><li>0.743101242794835</li><li>-0.804133878681423</li><li>0.303748379237407</li><li>0.100895555204902</li><li>0.544744917169434</li><li>-0.732252334872067</li><li>-0.103767948078647</li><li>-1.60074399111085</li><li>-1.09308059408694</li><li>1.23377623299207</li></ol>\n",
              "</li>\n",
              "\t<li><style>\n",
              ".list-inline {list-style: none; margin:0; padding: 0}\n",
              ".list-inline>li {display: inline-block}\n",
              ".list-inline>li:not(:last-child)::after {content: \"\\00b7\"; padding: 0 .5ex}\n",
              "</style>\n",
              "<ol class=list-inline><li>0.62627200404655</li><li>0.576106007400459</li><li>1.06663558833378</li><li>0.212940724022339</li><li>0.774844658371706</li><li>0.197253302768039</li><li>-1.15426612031909</li><li>-0.304901684762027</li><li>0.310296564738383</li><li>0.816336421214581</li></ol>\n",
              "</li>\n",
              "\t<li><style>\n",
              ".list-inline {list-style: none; margin:0; padding: 0}\n",
              ".list-inline>li {display: inline-block}\n",
              ".list-inline>li:not(:last-child)::after {content: \"\\00b7\"; padding: 0 .5ex}\n",
              "</style>\n",
              "<ol class=list-inline><li>-0.612743764579685</li><li>0.137591644208506</li><li>-0.620810902391252</li><li>0.178987258017408</li><li>0.958046610562724</li><li>2.60610471331167</li><li>-0.478013625650206</li><li>-0.0439646348900331</li><li>-0.25997365600816</li><li>0.227415806325745</li></ol>\n",
              "</li>\n",
              "\t<li><style>\n",
              ".list-inline {list-style: none; margin:0; padding: 0}\n",
              ".list-inline>li {display: inline-block}\n",
              ".list-inline>li:not(:last-child)::after {content: \"\\00b7\"; padding: 0 .5ex}\n",
              "</style>\n",
              "<ol class=list-inline><li>0.13871285136749</li><li>-0.490465776068886</li><li>1.07482505217783</li><li>-0.225062602374196</li><li>0.438002472175346</li><li>0.256729405611795</li><li>0.130677806893343</li><li>-1.30917598059997</li><li>1.91787657286492</li><li>-0.997133566006147</li></ol>\n",
              "</li>\n",
              "</ol>\n"
            ]
          },
          "metadata": {
            "tags": []
          }
        }
      ]
    },
    {
      "cell_type": "code",
      "metadata": {
        "id": "iVM7W9qZUD2i",
        "outputId": "70c6151e-99d3-4a15-cb34-f097d27740fe",
        "colab": {
          "base_uri": "https://localhost:8080/",
          "height": 182
        }
      },
      "source": [
        "benchmark(\"fc1\"=gen1(1000),\n",
        "          \"fc2\"=gen2(1000),\n",
        "          \"fc3\"=gen3(1000),\n",
        "          replications=100,\n",
        "          columns=c('test', 'elapsed', 'replications'))"
      ],
      "execution_count": 81,
      "outputs": [
        {
          "output_type": "display_data",
          "data": {
            "text/plain": [
              "  test elapsed replications\n",
              "1 fc1  0.577   100         \n",
              "2 fc2  0.405   100         \n",
              "3 fc3  0.423   100         "
            ],
            "text/latex": "A data.frame: 3 × 3\n\\begin{tabular}{r|lll}\n  & test & elapsed & replications\\\\\n  & <chr> & <dbl> & <int>\\\\\n\\hline\n\t1 & fc1 & 0.577 & 100\\\\\n\t2 & fc2 & 0.405 & 100\\\\\n\t3 & fc3 & 0.423 & 100\\\\\n\\end{tabular}\n",
            "text/markdown": "\nA data.frame: 3 × 3\n\n| <!--/--> | test &lt;chr&gt; | elapsed &lt;dbl&gt; | replications &lt;int&gt; |\n|---|---|---|---|\n| 1 | fc1 | 0.577 | 100 |\n| 2 | fc2 | 0.405 | 100 |\n| 3 | fc3 | 0.423 | 100 |\n\n",
            "text/html": [
              "<table class=\"dataframe\">\n",
              "<caption>A data.frame: 3 × 3</caption>\n",
              "<thead>\n",
              "\t<tr><th></th><th scope=col>test</th><th scope=col>elapsed</th><th scope=col>replications</th></tr>\n",
              "\t<tr><th></th><th scope=col>&lt;chr&gt;</th><th scope=col>&lt;dbl&gt;</th><th scope=col>&lt;int&gt;</th></tr>\n",
              "</thead>\n",
              "<tbody>\n",
              "\t<tr><th scope=row>1</th><td>fc1</td><td>0.577</td><td>100</td></tr>\n",
              "\t<tr><th scope=row>2</th><td>fc2</td><td>0.405</td><td>100</td></tr>\n",
              "\t<tr><th scope=row>3</th><td>fc3</td><td>0.423</td><td>100</td></tr>\n",
              "</tbody>\n",
              "</table>\n"
            ]
          },
          "metadata": {
            "tags": []
          }
        }
      ]
    },
    {
      "cell_type": "code",
      "metadata": {
        "id": "eLXStW40Sp_r"
      },
      "source": [
        ""
      ],
      "execution_count": null,
      "outputs": []
    },
    {
      "cell_type": "markdown",
      "metadata": {
        "id": "4c-cFefpX1mz"
      },
      "source": [
        "# Something useful"
      ]
    },
    {
      "cell_type": "code",
      "metadata": {
        "id": "CjmJpt_QSpyd",
        "outputId": "9c54dc96-66df-4e90-a649-1f705461293b",
        "colab": {
          "base_uri": "https://localhost:8080/",
          "height": 1000
        }
      },
      "source": [
        "diamonds"
      ],
      "execution_count": 82,
      "outputs": [
        {
          "output_type": "display_data",
          "data": {
            "text/plain": [
              "      carat cut       color clarity depth table price x    y    z   \n",
              "1     0.23  Ideal     E     SI2     61.5  55    326   3.95 3.98 2.43\n",
              "2     0.21  Premium   E     SI1     59.8  61    326   3.89 3.84 2.31\n",
              "3     0.23  Good      E     VS1     56.9  65    327   4.05 4.07 2.31\n",
              "4     0.29  Premium   I     VS2     62.4  58    334   4.20 4.23 2.63\n",
              "5     0.31  Good      J     SI2     63.3  58    335   4.34 4.35 2.75\n",
              "6     0.24  Very Good J     VVS2    62.8  57    336   3.94 3.96 2.48\n",
              "7     0.24  Very Good I     VVS1    62.3  57    336   3.95 3.98 2.47\n",
              "8     0.26  Very Good H     SI1     61.9  55    337   4.07 4.11 2.53\n",
              "9     0.22  Fair      E     VS2     65.1  61    337   3.87 3.78 2.49\n",
              "10    0.23  Very Good H     VS1     59.4  61    338   4.00 4.05 2.39\n",
              "11    0.30  Good      J     SI1     64.0  55    339   4.25 4.28 2.73\n",
              "12    0.23  Ideal     J     VS1     62.8  56    340   3.93 3.90 2.46\n",
              "13    0.22  Premium   F     SI1     60.4  61    342   3.88 3.84 2.33\n",
              "14    0.31  Ideal     J     SI2     62.2  54    344   4.35 4.37 2.71\n",
              "15    0.20  Premium   E     SI2     60.2  62    345   3.79 3.75 2.27\n",
              "16    0.32  Premium   E     I1      60.9  58    345   4.38 4.42 2.68\n",
              "17    0.30  Ideal     I     SI2     62.0  54    348   4.31 4.34 2.68\n",
              "18    0.30  Good      J     SI1     63.4  54    351   4.23 4.29 2.70\n",
              "19    0.30  Good      J     SI1     63.8  56    351   4.23 4.26 2.71\n",
              "20    0.30  Very Good J     SI1     62.7  59    351   4.21 4.27 2.66\n",
              "21    0.30  Good      I     SI2     63.3  56    351   4.26 4.30 2.71\n",
              "22    0.23  Very Good E     VS2     63.8  55    352   3.85 3.92 2.48\n",
              "23    0.23  Very Good H     VS1     61.0  57    353   3.94 3.96 2.41\n",
              "24    0.31  Very Good J     SI1     59.4  62    353   4.39 4.43 2.62\n",
              "25    0.31  Very Good J     SI1     58.1  62    353   4.44 4.47 2.59\n",
              "26    0.23  Very Good G     VVS2    60.4  58    354   3.97 4.01 2.41\n",
              "27    0.24  Premium   I     VS1     62.5  57    355   3.97 3.94 2.47\n",
              "28    0.30  Very Good J     VS2     62.2  57    357   4.28 4.30 2.67\n",
              "29    0.23  Very Good D     VS2     60.5  61    357   3.96 3.97 2.40\n",
              "30    0.23  Very Good F     VS1     60.9  57    357   3.96 3.99 2.42\n",
              "⋮     ⋮     ⋮         ⋮     ⋮       ⋮     ⋮     ⋮     ⋮    ⋮    ⋮   \n",
              "53911 0.70  Premium   E     SI1     60.5  58    2753  5.74 5.77 3.48\n",
              "53912 0.57  Premium   E     IF      59.8  60    2753  5.43 5.38 3.23\n",
              "53913 0.61  Premium   F     VVS1    61.8  59    2753  5.48 5.40 3.36\n",
              "53914 0.80  Good      G     VS2     64.2  58    2753  5.84 5.81 3.74\n",
              "53915 0.84  Good      I     VS1     63.7  59    2753  5.94 5.90 3.77\n",
              "53916 0.77  Ideal     E     SI2     62.1  56    2753  5.84 5.86 3.63\n",
              "53917 0.74  Good      D     SI1     63.1  59    2753  5.71 5.74 3.61\n",
              "53918 0.90  Very Good J     SI1     63.2  60    2753  6.12 6.09 3.86\n",
              "53919 0.76  Premium   I     VS1     59.3  62    2753  5.93 5.85 3.49\n",
              "53920 0.76  Ideal     I     VVS1    62.2  55    2753  5.89 5.87 3.66\n",
              "53921 0.70  Very Good E     VS2     62.4  60    2755  5.57 5.61 3.49\n",
              "53922 0.70  Very Good E     VS2     62.8  60    2755  5.59 5.65 3.53\n",
              "53923 0.70  Very Good D     VS1     63.1  59    2755  5.67 5.58 3.55\n",
              "53924 0.73  Ideal     I     VS2     61.3  56    2756  5.80 5.84 3.57\n",
              "53925 0.73  Ideal     I     VS2     61.6  55    2756  5.82 5.84 3.59\n",
              "53926 0.79  Ideal     I     SI1     61.6  56    2756  5.95 5.97 3.67\n",
              "53927 0.71  Ideal     E     SI1     61.9  56    2756  5.71 5.73 3.54\n",
              "53928 0.79  Good      F     SI1     58.1  59    2756  6.06 6.13 3.54\n",
              "53929 0.79  Premium   E     SI2     61.4  58    2756  6.03 5.96 3.68\n",
              "53930 0.71  Ideal     G     VS1     61.4  56    2756  5.76 5.73 3.53\n",
              "53931 0.71  Premium   E     SI1     60.5  55    2756  5.79 5.74 3.49\n",
              "53932 0.71  Premium   F     SI1     59.8  62    2756  5.74 5.73 3.43\n",
              "53933 0.70  Very Good E     VS2     60.5  59    2757  5.71 5.76 3.47\n",
              "53934 0.70  Very Good E     VS2     61.2  59    2757  5.69 5.72 3.49\n",
              "53935 0.72  Premium   D     SI1     62.7  59    2757  5.69 5.73 3.58\n",
              "53936 0.72  Ideal     D     SI1     60.8  57    2757  5.75 5.76 3.50\n",
              "53937 0.72  Good      D     SI1     63.1  55    2757  5.69 5.75 3.61\n",
              "53938 0.70  Very Good D     SI1     62.8  60    2757  5.66 5.68 3.56\n",
              "53939 0.86  Premium   H     SI2     61.0  58    2757  6.15 6.12 3.74\n",
              "53940 0.75  Ideal     D     SI2     62.2  55    2757  5.83 5.87 3.64"
            ],
            "text/latex": "A tibble: 53940 × 10\n\\begin{tabular}{llllllllll}\n carat & cut & color & clarity & depth & table & price & x & y & z\\\\\n <dbl> & <ord> & <ord> & <ord> & <dbl> & <dbl> & <int> & <dbl> & <dbl> & <dbl>\\\\\n\\hline\n\t 0.23 & Ideal     & E & SI2  & 61.5 & 55 & 326 & 3.95 & 3.98 & 2.43\\\\\n\t 0.21 & Premium   & E & SI1  & 59.8 & 61 & 326 & 3.89 & 3.84 & 2.31\\\\\n\t 0.23 & Good      & E & VS1  & 56.9 & 65 & 327 & 4.05 & 4.07 & 2.31\\\\\n\t 0.29 & Premium   & I & VS2  & 62.4 & 58 & 334 & 4.20 & 4.23 & 2.63\\\\\n\t 0.31 & Good      & J & SI2  & 63.3 & 58 & 335 & 4.34 & 4.35 & 2.75\\\\\n\t 0.24 & Very Good & J & VVS2 & 62.8 & 57 & 336 & 3.94 & 3.96 & 2.48\\\\\n\t 0.24 & Very Good & I & VVS1 & 62.3 & 57 & 336 & 3.95 & 3.98 & 2.47\\\\\n\t 0.26 & Very Good & H & SI1  & 61.9 & 55 & 337 & 4.07 & 4.11 & 2.53\\\\\n\t 0.22 & Fair      & E & VS2  & 65.1 & 61 & 337 & 3.87 & 3.78 & 2.49\\\\\n\t 0.23 & Very Good & H & VS1  & 59.4 & 61 & 338 & 4.00 & 4.05 & 2.39\\\\\n\t 0.30 & Good      & J & SI1  & 64.0 & 55 & 339 & 4.25 & 4.28 & 2.73\\\\\n\t 0.23 & Ideal     & J & VS1  & 62.8 & 56 & 340 & 3.93 & 3.90 & 2.46\\\\\n\t 0.22 & Premium   & F & SI1  & 60.4 & 61 & 342 & 3.88 & 3.84 & 2.33\\\\\n\t 0.31 & Ideal     & J & SI2  & 62.2 & 54 & 344 & 4.35 & 4.37 & 2.71\\\\\n\t 0.20 & Premium   & E & SI2  & 60.2 & 62 & 345 & 3.79 & 3.75 & 2.27\\\\\n\t 0.32 & Premium   & E & I1   & 60.9 & 58 & 345 & 4.38 & 4.42 & 2.68\\\\\n\t 0.30 & Ideal     & I & SI2  & 62.0 & 54 & 348 & 4.31 & 4.34 & 2.68\\\\\n\t 0.30 & Good      & J & SI1  & 63.4 & 54 & 351 & 4.23 & 4.29 & 2.70\\\\\n\t 0.30 & Good      & J & SI1  & 63.8 & 56 & 351 & 4.23 & 4.26 & 2.71\\\\\n\t 0.30 & Very Good & J & SI1  & 62.7 & 59 & 351 & 4.21 & 4.27 & 2.66\\\\\n\t 0.30 & Good      & I & SI2  & 63.3 & 56 & 351 & 4.26 & 4.30 & 2.71\\\\\n\t 0.23 & Very Good & E & VS2  & 63.8 & 55 & 352 & 3.85 & 3.92 & 2.48\\\\\n\t 0.23 & Very Good & H & VS1  & 61.0 & 57 & 353 & 3.94 & 3.96 & 2.41\\\\\n\t 0.31 & Very Good & J & SI1  & 59.4 & 62 & 353 & 4.39 & 4.43 & 2.62\\\\\n\t 0.31 & Very Good & J & SI1  & 58.1 & 62 & 353 & 4.44 & 4.47 & 2.59\\\\\n\t 0.23 & Very Good & G & VVS2 & 60.4 & 58 & 354 & 3.97 & 4.01 & 2.41\\\\\n\t 0.24 & Premium   & I & VS1  & 62.5 & 57 & 355 & 3.97 & 3.94 & 2.47\\\\\n\t 0.30 & Very Good & J & VS2  & 62.2 & 57 & 357 & 4.28 & 4.30 & 2.67\\\\\n\t 0.23 & Very Good & D & VS2  & 60.5 & 61 & 357 & 3.96 & 3.97 & 2.40\\\\\n\t 0.23 & Very Good & F & VS1  & 60.9 & 57 & 357 & 3.96 & 3.99 & 2.42\\\\\n\t ⋮ & ⋮ & ⋮ & ⋮ & ⋮ & ⋮ & ⋮ & ⋮ & ⋮ & ⋮\\\\\n\t 0.70 & Premium   & E & SI1  & 60.5 & 58 & 2753 & 5.74 & 5.77 & 3.48\\\\\n\t 0.57 & Premium   & E & IF   & 59.8 & 60 & 2753 & 5.43 & 5.38 & 3.23\\\\\n\t 0.61 & Premium   & F & VVS1 & 61.8 & 59 & 2753 & 5.48 & 5.40 & 3.36\\\\\n\t 0.80 & Good      & G & VS2  & 64.2 & 58 & 2753 & 5.84 & 5.81 & 3.74\\\\\n\t 0.84 & Good      & I & VS1  & 63.7 & 59 & 2753 & 5.94 & 5.90 & 3.77\\\\\n\t 0.77 & Ideal     & E & SI2  & 62.1 & 56 & 2753 & 5.84 & 5.86 & 3.63\\\\\n\t 0.74 & Good      & D & SI1  & 63.1 & 59 & 2753 & 5.71 & 5.74 & 3.61\\\\\n\t 0.90 & Very Good & J & SI1  & 63.2 & 60 & 2753 & 6.12 & 6.09 & 3.86\\\\\n\t 0.76 & Premium   & I & VS1  & 59.3 & 62 & 2753 & 5.93 & 5.85 & 3.49\\\\\n\t 0.76 & Ideal     & I & VVS1 & 62.2 & 55 & 2753 & 5.89 & 5.87 & 3.66\\\\\n\t 0.70 & Very Good & E & VS2  & 62.4 & 60 & 2755 & 5.57 & 5.61 & 3.49\\\\\n\t 0.70 & Very Good & E & VS2  & 62.8 & 60 & 2755 & 5.59 & 5.65 & 3.53\\\\\n\t 0.70 & Very Good & D & VS1  & 63.1 & 59 & 2755 & 5.67 & 5.58 & 3.55\\\\\n\t 0.73 & Ideal     & I & VS2  & 61.3 & 56 & 2756 & 5.80 & 5.84 & 3.57\\\\\n\t 0.73 & Ideal     & I & VS2  & 61.6 & 55 & 2756 & 5.82 & 5.84 & 3.59\\\\\n\t 0.79 & Ideal     & I & SI1  & 61.6 & 56 & 2756 & 5.95 & 5.97 & 3.67\\\\\n\t 0.71 & Ideal     & E & SI1  & 61.9 & 56 & 2756 & 5.71 & 5.73 & 3.54\\\\\n\t 0.79 & Good      & F & SI1  & 58.1 & 59 & 2756 & 6.06 & 6.13 & 3.54\\\\\n\t 0.79 & Premium   & E & SI2  & 61.4 & 58 & 2756 & 6.03 & 5.96 & 3.68\\\\\n\t 0.71 & Ideal     & G & VS1  & 61.4 & 56 & 2756 & 5.76 & 5.73 & 3.53\\\\\n\t 0.71 & Premium   & E & SI1  & 60.5 & 55 & 2756 & 5.79 & 5.74 & 3.49\\\\\n\t 0.71 & Premium   & F & SI1  & 59.8 & 62 & 2756 & 5.74 & 5.73 & 3.43\\\\\n\t 0.70 & Very Good & E & VS2  & 60.5 & 59 & 2757 & 5.71 & 5.76 & 3.47\\\\\n\t 0.70 & Very Good & E & VS2  & 61.2 & 59 & 2757 & 5.69 & 5.72 & 3.49\\\\\n\t 0.72 & Premium   & D & SI1  & 62.7 & 59 & 2757 & 5.69 & 5.73 & 3.58\\\\\n\t 0.72 & Ideal     & D & SI1  & 60.8 & 57 & 2757 & 5.75 & 5.76 & 3.50\\\\\n\t 0.72 & Good      & D & SI1  & 63.1 & 55 & 2757 & 5.69 & 5.75 & 3.61\\\\\n\t 0.70 & Very Good & D & SI1  & 62.8 & 60 & 2757 & 5.66 & 5.68 & 3.56\\\\\n\t 0.86 & Premium   & H & SI2  & 61.0 & 58 & 2757 & 6.15 & 6.12 & 3.74\\\\\n\t 0.75 & Ideal     & D & SI2  & 62.2 & 55 & 2757 & 5.83 & 5.87 & 3.64\\\\\n\\end{tabular}\n",
            "text/markdown": "\nA tibble: 53940 × 10\n\n| carat &lt;dbl&gt; | cut &lt;ord&gt; | color &lt;ord&gt; | clarity &lt;ord&gt; | depth &lt;dbl&gt; | table &lt;dbl&gt; | price &lt;int&gt; | x &lt;dbl&gt; | y &lt;dbl&gt; | z &lt;dbl&gt; |\n|---|---|---|---|---|---|---|---|---|---|\n| 0.23 | Ideal     | E | SI2  | 61.5 | 55 | 326 | 3.95 | 3.98 | 2.43 |\n| 0.21 | Premium   | E | SI1  | 59.8 | 61 | 326 | 3.89 | 3.84 | 2.31 |\n| 0.23 | Good      | E | VS1  | 56.9 | 65 | 327 | 4.05 | 4.07 | 2.31 |\n| 0.29 | Premium   | I | VS2  | 62.4 | 58 | 334 | 4.20 | 4.23 | 2.63 |\n| 0.31 | Good      | J | SI2  | 63.3 | 58 | 335 | 4.34 | 4.35 | 2.75 |\n| 0.24 | Very Good | J | VVS2 | 62.8 | 57 | 336 | 3.94 | 3.96 | 2.48 |\n| 0.24 | Very Good | I | VVS1 | 62.3 | 57 | 336 | 3.95 | 3.98 | 2.47 |\n| 0.26 | Very Good | H | SI1  | 61.9 | 55 | 337 | 4.07 | 4.11 | 2.53 |\n| 0.22 | Fair      | E | VS2  | 65.1 | 61 | 337 | 3.87 | 3.78 | 2.49 |\n| 0.23 | Very Good | H | VS1  | 59.4 | 61 | 338 | 4.00 | 4.05 | 2.39 |\n| 0.30 | Good      | J | SI1  | 64.0 | 55 | 339 | 4.25 | 4.28 | 2.73 |\n| 0.23 | Ideal     | J | VS1  | 62.8 | 56 | 340 | 3.93 | 3.90 | 2.46 |\n| 0.22 | Premium   | F | SI1  | 60.4 | 61 | 342 | 3.88 | 3.84 | 2.33 |\n| 0.31 | Ideal     | J | SI2  | 62.2 | 54 | 344 | 4.35 | 4.37 | 2.71 |\n| 0.20 | Premium   | E | SI2  | 60.2 | 62 | 345 | 3.79 | 3.75 | 2.27 |\n| 0.32 | Premium   | E | I1   | 60.9 | 58 | 345 | 4.38 | 4.42 | 2.68 |\n| 0.30 | Ideal     | I | SI2  | 62.0 | 54 | 348 | 4.31 | 4.34 | 2.68 |\n| 0.30 | Good      | J | SI1  | 63.4 | 54 | 351 | 4.23 | 4.29 | 2.70 |\n| 0.30 | Good      | J | SI1  | 63.8 | 56 | 351 | 4.23 | 4.26 | 2.71 |\n| 0.30 | Very Good | J | SI1  | 62.7 | 59 | 351 | 4.21 | 4.27 | 2.66 |\n| 0.30 | Good      | I | SI2  | 63.3 | 56 | 351 | 4.26 | 4.30 | 2.71 |\n| 0.23 | Very Good | E | VS2  | 63.8 | 55 | 352 | 3.85 | 3.92 | 2.48 |\n| 0.23 | Very Good | H | VS1  | 61.0 | 57 | 353 | 3.94 | 3.96 | 2.41 |\n| 0.31 | Very Good | J | SI1  | 59.4 | 62 | 353 | 4.39 | 4.43 | 2.62 |\n| 0.31 | Very Good | J | SI1  | 58.1 | 62 | 353 | 4.44 | 4.47 | 2.59 |\n| 0.23 | Very Good | G | VVS2 | 60.4 | 58 | 354 | 3.97 | 4.01 | 2.41 |\n| 0.24 | Premium   | I | VS1  | 62.5 | 57 | 355 | 3.97 | 3.94 | 2.47 |\n| 0.30 | Very Good | J | VS2  | 62.2 | 57 | 357 | 4.28 | 4.30 | 2.67 |\n| 0.23 | Very Good | D | VS2  | 60.5 | 61 | 357 | 3.96 | 3.97 | 2.40 |\n| 0.23 | Very Good | F | VS1  | 60.9 | 57 | 357 | 3.96 | 3.99 | 2.42 |\n| ⋮ | ⋮ | ⋮ | ⋮ | ⋮ | ⋮ | ⋮ | ⋮ | ⋮ | ⋮ |\n| 0.70 | Premium   | E | SI1  | 60.5 | 58 | 2753 | 5.74 | 5.77 | 3.48 |\n| 0.57 | Premium   | E | IF   | 59.8 | 60 | 2753 | 5.43 | 5.38 | 3.23 |\n| 0.61 | Premium   | F | VVS1 | 61.8 | 59 | 2753 | 5.48 | 5.40 | 3.36 |\n| 0.80 | Good      | G | VS2  | 64.2 | 58 | 2753 | 5.84 | 5.81 | 3.74 |\n| 0.84 | Good      | I | VS1  | 63.7 | 59 | 2753 | 5.94 | 5.90 | 3.77 |\n| 0.77 | Ideal     | E | SI2  | 62.1 | 56 | 2753 | 5.84 | 5.86 | 3.63 |\n| 0.74 | Good      | D | SI1  | 63.1 | 59 | 2753 | 5.71 | 5.74 | 3.61 |\n| 0.90 | Very Good | J | SI1  | 63.2 | 60 | 2753 | 6.12 | 6.09 | 3.86 |\n| 0.76 | Premium   | I | VS1  | 59.3 | 62 | 2753 | 5.93 | 5.85 | 3.49 |\n| 0.76 | Ideal     | I | VVS1 | 62.2 | 55 | 2753 | 5.89 | 5.87 | 3.66 |\n| 0.70 | Very Good | E | VS2  | 62.4 | 60 | 2755 | 5.57 | 5.61 | 3.49 |\n| 0.70 | Very Good | E | VS2  | 62.8 | 60 | 2755 | 5.59 | 5.65 | 3.53 |\n| 0.70 | Very Good | D | VS1  | 63.1 | 59 | 2755 | 5.67 | 5.58 | 3.55 |\n| 0.73 | Ideal     | I | VS2  | 61.3 | 56 | 2756 | 5.80 | 5.84 | 3.57 |\n| 0.73 | Ideal     | I | VS2  | 61.6 | 55 | 2756 | 5.82 | 5.84 | 3.59 |\n| 0.79 | Ideal     | I | SI1  | 61.6 | 56 | 2756 | 5.95 | 5.97 | 3.67 |\n| 0.71 | Ideal     | E | SI1  | 61.9 | 56 | 2756 | 5.71 | 5.73 | 3.54 |\n| 0.79 | Good      | F | SI1  | 58.1 | 59 | 2756 | 6.06 | 6.13 | 3.54 |\n| 0.79 | Premium   | E | SI2  | 61.4 | 58 | 2756 | 6.03 | 5.96 | 3.68 |\n| 0.71 | Ideal     | G | VS1  | 61.4 | 56 | 2756 | 5.76 | 5.73 | 3.53 |\n| 0.71 | Premium   | E | SI1  | 60.5 | 55 | 2756 | 5.79 | 5.74 | 3.49 |\n| 0.71 | Premium   | F | SI1  | 59.8 | 62 | 2756 | 5.74 | 5.73 | 3.43 |\n| 0.70 | Very Good | E | VS2  | 60.5 | 59 | 2757 | 5.71 | 5.76 | 3.47 |\n| 0.70 | Very Good | E | VS2  | 61.2 | 59 | 2757 | 5.69 | 5.72 | 3.49 |\n| 0.72 | Premium   | D | SI1  | 62.7 | 59 | 2757 | 5.69 | 5.73 | 3.58 |\n| 0.72 | Ideal     | D | SI1  | 60.8 | 57 | 2757 | 5.75 | 5.76 | 3.50 |\n| 0.72 | Good      | D | SI1  | 63.1 | 55 | 2757 | 5.69 | 5.75 | 3.61 |\n| 0.70 | Very Good | D | SI1  | 62.8 | 60 | 2757 | 5.66 | 5.68 | 3.56 |\n| 0.86 | Premium   | H | SI2  | 61.0 | 58 | 2757 | 6.15 | 6.12 | 3.74 |\n| 0.75 | Ideal     | D | SI2  | 62.2 | 55 | 2757 | 5.83 | 5.87 | 3.64 |\n\n",
            "text/html": [
              "<table class=\"dataframe\">\n",
              "<caption>A tibble: 53940 × 10</caption>\n",
              "<thead>\n",
              "\t<tr><th scope=col>carat</th><th scope=col>cut</th><th scope=col>color</th><th scope=col>clarity</th><th scope=col>depth</th><th scope=col>table</th><th scope=col>price</th><th scope=col>x</th><th scope=col>y</th><th scope=col>z</th></tr>\n",
              "\t<tr><th scope=col>&lt;dbl&gt;</th><th scope=col>&lt;ord&gt;</th><th scope=col>&lt;ord&gt;</th><th scope=col>&lt;ord&gt;</th><th scope=col>&lt;dbl&gt;</th><th scope=col>&lt;dbl&gt;</th><th scope=col>&lt;int&gt;</th><th scope=col>&lt;dbl&gt;</th><th scope=col>&lt;dbl&gt;</th><th scope=col>&lt;dbl&gt;</th></tr>\n",
              "</thead>\n",
              "<tbody>\n",
              "\t<tr><td>0.23</td><td>Ideal    </td><td>E</td><td>SI2 </td><td>61.5</td><td>55</td><td>326</td><td>3.95</td><td>3.98</td><td>2.43</td></tr>\n",
              "\t<tr><td>0.21</td><td>Premium  </td><td>E</td><td>SI1 </td><td>59.8</td><td>61</td><td>326</td><td>3.89</td><td>3.84</td><td>2.31</td></tr>\n",
              "\t<tr><td>0.23</td><td>Good     </td><td>E</td><td>VS1 </td><td>56.9</td><td>65</td><td>327</td><td>4.05</td><td>4.07</td><td>2.31</td></tr>\n",
              "\t<tr><td>0.29</td><td>Premium  </td><td>I</td><td>VS2 </td><td>62.4</td><td>58</td><td>334</td><td>4.20</td><td>4.23</td><td>2.63</td></tr>\n",
              "\t<tr><td>0.31</td><td>Good     </td><td>J</td><td>SI2 </td><td>63.3</td><td>58</td><td>335</td><td>4.34</td><td>4.35</td><td>2.75</td></tr>\n",
              "\t<tr><td>0.24</td><td>Very Good</td><td>J</td><td>VVS2</td><td>62.8</td><td>57</td><td>336</td><td>3.94</td><td>3.96</td><td>2.48</td></tr>\n",
              "\t<tr><td>0.24</td><td>Very Good</td><td>I</td><td>VVS1</td><td>62.3</td><td>57</td><td>336</td><td>3.95</td><td>3.98</td><td>2.47</td></tr>\n",
              "\t<tr><td>0.26</td><td>Very Good</td><td>H</td><td>SI1 </td><td>61.9</td><td>55</td><td>337</td><td>4.07</td><td>4.11</td><td>2.53</td></tr>\n",
              "\t<tr><td>0.22</td><td>Fair     </td><td>E</td><td>VS2 </td><td>65.1</td><td>61</td><td>337</td><td>3.87</td><td>3.78</td><td>2.49</td></tr>\n",
              "\t<tr><td>0.23</td><td>Very Good</td><td>H</td><td>VS1 </td><td>59.4</td><td>61</td><td>338</td><td>4.00</td><td>4.05</td><td>2.39</td></tr>\n",
              "\t<tr><td>0.30</td><td>Good     </td><td>J</td><td>SI1 </td><td>64.0</td><td>55</td><td>339</td><td>4.25</td><td>4.28</td><td>2.73</td></tr>\n",
              "\t<tr><td>0.23</td><td>Ideal    </td><td>J</td><td>VS1 </td><td>62.8</td><td>56</td><td>340</td><td>3.93</td><td>3.90</td><td>2.46</td></tr>\n",
              "\t<tr><td>0.22</td><td>Premium  </td><td>F</td><td>SI1 </td><td>60.4</td><td>61</td><td>342</td><td>3.88</td><td>3.84</td><td>2.33</td></tr>\n",
              "\t<tr><td>0.31</td><td>Ideal    </td><td>J</td><td>SI2 </td><td>62.2</td><td>54</td><td>344</td><td>4.35</td><td>4.37</td><td>2.71</td></tr>\n",
              "\t<tr><td>0.20</td><td>Premium  </td><td>E</td><td>SI2 </td><td>60.2</td><td>62</td><td>345</td><td>3.79</td><td>3.75</td><td>2.27</td></tr>\n",
              "\t<tr><td>0.32</td><td>Premium  </td><td>E</td><td>I1  </td><td>60.9</td><td>58</td><td>345</td><td>4.38</td><td>4.42</td><td>2.68</td></tr>\n",
              "\t<tr><td>0.30</td><td>Ideal    </td><td>I</td><td>SI2 </td><td>62.0</td><td>54</td><td>348</td><td>4.31</td><td>4.34</td><td>2.68</td></tr>\n",
              "\t<tr><td>0.30</td><td>Good     </td><td>J</td><td>SI1 </td><td>63.4</td><td>54</td><td>351</td><td>4.23</td><td>4.29</td><td>2.70</td></tr>\n",
              "\t<tr><td>0.30</td><td>Good     </td><td>J</td><td>SI1 </td><td>63.8</td><td>56</td><td>351</td><td>4.23</td><td>4.26</td><td>2.71</td></tr>\n",
              "\t<tr><td>0.30</td><td>Very Good</td><td>J</td><td>SI1 </td><td>62.7</td><td>59</td><td>351</td><td>4.21</td><td>4.27</td><td>2.66</td></tr>\n",
              "\t<tr><td>0.30</td><td>Good     </td><td>I</td><td>SI2 </td><td>63.3</td><td>56</td><td>351</td><td>4.26</td><td>4.30</td><td>2.71</td></tr>\n",
              "\t<tr><td>0.23</td><td>Very Good</td><td>E</td><td>VS2 </td><td>63.8</td><td>55</td><td>352</td><td>3.85</td><td>3.92</td><td>2.48</td></tr>\n",
              "\t<tr><td>0.23</td><td>Very Good</td><td>H</td><td>VS1 </td><td>61.0</td><td>57</td><td>353</td><td>3.94</td><td>3.96</td><td>2.41</td></tr>\n",
              "\t<tr><td>0.31</td><td>Very Good</td><td>J</td><td>SI1 </td><td>59.4</td><td>62</td><td>353</td><td>4.39</td><td>4.43</td><td>2.62</td></tr>\n",
              "\t<tr><td>0.31</td><td>Very Good</td><td>J</td><td>SI1 </td><td>58.1</td><td>62</td><td>353</td><td>4.44</td><td>4.47</td><td>2.59</td></tr>\n",
              "\t<tr><td>0.23</td><td>Very Good</td><td>G</td><td>VVS2</td><td>60.4</td><td>58</td><td>354</td><td>3.97</td><td>4.01</td><td>2.41</td></tr>\n",
              "\t<tr><td>0.24</td><td>Premium  </td><td>I</td><td>VS1 </td><td>62.5</td><td>57</td><td>355</td><td>3.97</td><td>3.94</td><td>2.47</td></tr>\n",
              "\t<tr><td>0.30</td><td>Very Good</td><td>J</td><td>VS2 </td><td>62.2</td><td>57</td><td>357</td><td>4.28</td><td>4.30</td><td>2.67</td></tr>\n",
              "\t<tr><td>0.23</td><td>Very Good</td><td>D</td><td>VS2 </td><td>60.5</td><td>61</td><td>357</td><td>3.96</td><td>3.97</td><td>2.40</td></tr>\n",
              "\t<tr><td>0.23</td><td>Very Good</td><td>F</td><td>VS1 </td><td>60.9</td><td>57</td><td>357</td><td>3.96</td><td>3.99</td><td>2.42</td></tr>\n",
              "\t<tr><td>⋮</td><td>⋮</td><td>⋮</td><td>⋮</td><td>⋮</td><td>⋮</td><td>⋮</td><td>⋮</td><td>⋮</td><td>⋮</td></tr>\n",
              "\t<tr><td>0.70</td><td>Premium  </td><td>E</td><td>SI1 </td><td>60.5</td><td>58</td><td>2753</td><td>5.74</td><td>5.77</td><td>3.48</td></tr>\n",
              "\t<tr><td>0.57</td><td>Premium  </td><td>E</td><td>IF  </td><td>59.8</td><td>60</td><td>2753</td><td>5.43</td><td>5.38</td><td>3.23</td></tr>\n",
              "\t<tr><td>0.61</td><td>Premium  </td><td>F</td><td>VVS1</td><td>61.8</td><td>59</td><td>2753</td><td>5.48</td><td>5.40</td><td>3.36</td></tr>\n",
              "\t<tr><td>0.80</td><td>Good     </td><td>G</td><td>VS2 </td><td>64.2</td><td>58</td><td>2753</td><td>5.84</td><td>5.81</td><td>3.74</td></tr>\n",
              "\t<tr><td>0.84</td><td>Good     </td><td>I</td><td>VS1 </td><td>63.7</td><td>59</td><td>2753</td><td>5.94</td><td>5.90</td><td>3.77</td></tr>\n",
              "\t<tr><td>0.77</td><td>Ideal    </td><td>E</td><td>SI2 </td><td>62.1</td><td>56</td><td>2753</td><td>5.84</td><td>5.86</td><td>3.63</td></tr>\n",
              "\t<tr><td>0.74</td><td>Good     </td><td>D</td><td>SI1 </td><td>63.1</td><td>59</td><td>2753</td><td>5.71</td><td>5.74</td><td>3.61</td></tr>\n",
              "\t<tr><td>0.90</td><td>Very Good</td><td>J</td><td>SI1 </td><td>63.2</td><td>60</td><td>2753</td><td>6.12</td><td>6.09</td><td>3.86</td></tr>\n",
              "\t<tr><td>0.76</td><td>Premium  </td><td>I</td><td>VS1 </td><td>59.3</td><td>62</td><td>2753</td><td>5.93</td><td>5.85</td><td>3.49</td></tr>\n",
              "\t<tr><td>0.76</td><td>Ideal    </td><td>I</td><td>VVS1</td><td>62.2</td><td>55</td><td>2753</td><td>5.89</td><td>5.87</td><td>3.66</td></tr>\n",
              "\t<tr><td>0.70</td><td>Very Good</td><td>E</td><td>VS2 </td><td>62.4</td><td>60</td><td>2755</td><td>5.57</td><td>5.61</td><td>3.49</td></tr>\n",
              "\t<tr><td>0.70</td><td>Very Good</td><td>E</td><td>VS2 </td><td>62.8</td><td>60</td><td>2755</td><td>5.59</td><td>5.65</td><td>3.53</td></tr>\n",
              "\t<tr><td>0.70</td><td>Very Good</td><td>D</td><td>VS1 </td><td>63.1</td><td>59</td><td>2755</td><td>5.67</td><td>5.58</td><td>3.55</td></tr>\n",
              "\t<tr><td>0.73</td><td>Ideal    </td><td>I</td><td>VS2 </td><td>61.3</td><td>56</td><td>2756</td><td>5.80</td><td>5.84</td><td>3.57</td></tr>\n",
              "\t<tr><td>0.73</td><td>Ideal    </td><td>I</td><td>VS2 </td><td>61.6</td><td>55</td><td>2756</td><td>5.82</td><td>5.84</td><td>3.59</td></tr>\n",
              "\t<tr><td>0.79</td><td>Ideal    </td><td>I</td><td>SI1 </td><td>61.6</td><td>56</td><td>2756</td><td>5.95</td><td>5.97</td><td>3.67</td></tr>\n",
              "\t<tr><td>0.71</td><td>Ideal    </td><td>E</td><td>SI1 </td><td>61.9</td><td>56</td><td>2756</td><td>5.71</td><td>5.73</td><td>3.54</td></tr>\n",
              "\t<tr><td>0.79</td><td>Good     </td><td>F</td><td>SI1 </td><td>58.1</td><td>59</td><td>2756</td><td>6.06</td><td>6.13</td><td>3.54</td></tr>\n",
              "\t<tr><td>0.79</td><td>Premium  </td><td>E</td><td>SI2 </td><td>61.4</td><td>58</td><td>2756</td><td>6.03</td><td>5.96</td><td>3.68</td></tr>\n",
              "\t<tr><td>0.71</td><td>Ideal    </td><td>G</td><td>VS1 </td><td>61.4</td><td>56</td><td>2756</td><td>5.76</td><td>5.73</td><td>3.53</td></tr>\n",
              "\t<tr><td>0.71</td><td>Premium  </td><td>E</td><td>SI1 </td><td>60.5</td><td>55</td><td>2756</td><td>5.79</td><td>5.74</td><td>3.49</td></tr>\n",
              "\t<tr><td>0.71</td><td>Premium  </td><td>F</td><td>SI1 </td><td>59.8</td><td>62</td><td>2756</td><td>5.74</td><td>5.73</td><td>3.43</td></tr>\n",
              "\t<tr><td>0.70</td><td>Very Good</td><td>E</td><td>VS2 </td><td>60.5</td><td>59</td><td>2757</td><td>5.71</td><td>5.76</td><td>3.47</td></tr>\n",
              "\t<tr><td>0.70</td><td>Very Good</td><td>E</td><td>VS2 </td><td>61.2</td><td>59</td><td>2757</td><td>5.69</td><td>5.72</td><td>3.49</td></tr>\n",
              "\t<tr><td>0.72</td><td>Premium  </td><td>D</td><td>SI1 </td><td>62.7</td><td>59</td><td>2757</td><td>5.69</td><td>5.73</td><td>3.58</td></tr>\n",
              "\t<tr><td>0.72</td><td>Ideal    </td><td>D</td><td>SI1 </td><td>60.8</td><td>57</td><td>2757</td><td>5.75</td><td>5.76</td><td>3.50</td></tr>\n",
              "\t<tr><td>0.72</td><td>Good     </td><td>D</td><td>SI1 </td><td>63.1</td><td>55</td><td>2757</td><td>5.69</td><td>5.75</td><td>3.61</td></tr>\n",
              "\t<tr><td>0.70</td><td>Very Good</td><td>D</td><td>SI1 </td><td>62.8</td><td>60</td><td>2757</td><td>5.66</td><td>5.68</td><td>3.56</td></tr>\n",
              "\t<tr><td>0.86</td><td>Premium  </td><td>H</td><td>SI2 </td><td>61.0</td><td>58</td><td>2757</td><td>6.15</td><td>6.12</td><td>3.74</td></tr>\n",
              "\t<tr><td>0.75</td><td>Ideal    </td><td>D</td><td>SI2 </td><td>62.2</td><td>55</td><td>2757</td><td>5.83</td><td>5.87</td><td>3.64</td></tr>\n",
              "</tbody>\n",
              "</table>\n"
            ]
          },
          "metadata": {
            "tags": []
          }
        }
      ]
    },
    {
      "cell_type": "code",
      "metadata": {
        "id": "XmxSvXSzPsTr",
        "outputId": "7845367e-4ac9-4065-c540-9aa67258387e",
        "colab": {
          "base_uri": "https://localhost:8080/",
          "height": 437
        }
      },
      "source": [
        "diamonds %>% ggplot(aes(cut, price)) + geom_boxplot()"
      ],
      "execution_count": 86,
      "outputs": [
        {
          "output_type": "display_data",
          "data": {
            "image/png": "[encoded data removed]",
            "text/plain": [
              "plot without title"
            ]
          },
          "metadata": {
            "tags": [],
            "image/png": {
              "width": 420,
              "height": 420
            }
          }
        }
      ]
    },
    {
      "cell_type": "code",
      "metadata": {
        "id": "_TsUN1MrYS3b",
        "outputId": "b3ce795a-3036-4fbc-bd9a-9f70822deb9e",
        "colab": {
          "base_uri": "https://localhost:8080/",
          "height": 437
        }
      },
      "source": [
        "diamonds %>% ggplot(aes(cut, price)) + geom_violin()"
      ],
      "execution_count": 87,
      "outputs": [
        {
          "output_type": "display_data",
          "data": {
            "image/png": "[encoded data removed]",
            "text/plain": [
              "plot without title"
            ]
          },
          "metadata": {
            "tags": [],
            "image/png": {
              "width": 420,
              "height": 420
            }
          }
        }
      ]
    },
    {
      "cell_type": "code",
      "metadata": {
        "id": "QEbFu0PeaEKx"
      },
      "source": [
        ""
      ],
      "execution_count": null,
      "outputs": []
    }
  ]
}