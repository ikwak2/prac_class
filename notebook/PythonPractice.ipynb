{
  "nbformat": 4,
  "nbformat_minor": 0,
  "metadata": {
    "kernelspec": {
      "display_name": "Python [default]",
      "language": "python",
      "name": "python3"
    },
    "language_info": {
      "codemirror_mode": {
        "name": "ipython",
        "version": 3
      },
      "file_extension": ".py",
      "mimetype": "text/x-python",
      "name": "python",
      "nbconvert_exporter": "python",
      "pygments_lexer": "ipython3",
      "version": "3.5.3"
    },
    "colab": {
      "name": "PythonPractice.ipynb",
      "provenance": [],
      "collapsed_sections": [],
      "toc_visible": true,
      "include_colab_link": true
    }
  },
  "cells": [
    {
      "cell_type": "markdown",
      "metadata": {
        "id": "view-in-github",
        "colab_type": "text"
      },
      "source": [
        "<a href=\"https://colab.research.google.com/github/ikwak2/prac_class/blob/main/notebook/PythonPractice.ipynb\" target=\"_parent\"><img src=\"https://colab.research.google.com/assets/colab-badge.svg\" alt=\"Open In Colab\"/></a>"
      ]
    },
    {
      "cell_type": "markdown",
      "metadata": {
        "id": "o3fBnkO71P-Q"
      },
      "source": [
        "# Python Practice "
      ]
    },
    {
      "cell_type": "markdown",
      "metadata": {
        "id": "Ql5pglc_1P-X"
      },
      "source": [
        "## Chapter 2\n",
        "[Jump to Python Ch2](https://wikidocs.net/11)\n",
        "\n",
        "### Numeric operations\n",
        "  - Four fundamental arithmatic orperations(+, -, /, *)\n",
        "  - power(**)\n",
        "  - Quotiant and Remainder (%, //)  \n"
      ]
    },
    {
      "cell_type": "code",
      "metadata": {
        "colab": {
          "base_uri": "https://localhost:8080/"
        },
        "id": "eXK6uMzLIQwi",
        "outputId": "1bce48c9-4519-433d-a817-cc1c8b370459"
      },
      "source": [
        "1 + 1 "
      ],
      "execution_count": null,
      "outputs": [
        {
          "output_type": "execute_result",
          "data": {
            "text/plain": [
              "2"
            ]
          },
          "metadata": {
            "tags": []
          },
          "execution_count": 1
        }
      ]
    },
    {
      "cell_type": "code",
      "metadata": {
        "colab": {
          "base_uri": "https://localhost:8080/"
        },
        "id": "eOaCiW_qPW2n",
        "outputId": "7110bc89-b7cf-46eb-c94c-a80052e6c326"
      },
      "source": [
        "3 - 2"
      ],
      "execution_count": null,
      "outputs": [
        {
          "output_type": "execute_result",
          "data": {
            "text/plain": [
              "1"
            ]
          },
          "metadata": {
            "tags": []
          },
          "execution_count": 2
        }
      ]
    },
    {
      "cell_type": "code",
      "metadata": {
        "colab": {
          "base_uri": "https://localhost:8080/"
        },
        "id": "lGKy5XtEPZWA",
        "outputId": "279b6ad2-1dd4-4177-f962-9e822eb6ad78"
      },
      "source": [
        "3/2"
      ],
      "execution_count": null,
      "outputs": [
        {
          "output_type": "execute_result",
          "data": {
            "text/plain": [
              "1.5"
            ]
          },
          "metadata": {
            "tags": []
          },
          "execution_count": 3
        }
      ]
    },
    {
      "cell_type": "code",
      "metadata": {
        "colab": {
          "base_uri": "https://localhost:8080/"
        },
        "id": "3yCbToQpPY2W",
        "outputId": "ab9be334-0af4-498c-fc09-f4f9d86785e8"
      },
      "source": [
        "3*2"
      ],
      "execution_count": null,
      "outputs": [
        {
          "output_type": "execute_result",
          "data": {
            "text/plain": [
              "6"
            ]
          },
          "metadata": {
            "tags": []
          },
          "execution_count": 4
        }
      ]
    },
    {
      "cell_type": "code",
      "metadata": {
        "colab": {
          "base_uri": "https://localhost:8080/"
        },
        "id": "VK3YkPc1PcFl",
        "outputId": "28e7c960-1a83-494f-f03f-08284b3d1d05"
      },
      "source": [
        "3**2"
      ],
      "execution_count": null,
      "outputs": [
        {
          "output_type": "execute_result",
          "data": {
            "text/plain": [
              "9"
            ]
          },
          "metadata": {
            "tags": []
          },
          "execution_count": 5
        }
      ]
    },
    {
      "cell_type": "code",
      "metadata": {
        "colab": {
          "base_uri": "https://localhost:8080/"
        },
        "id": "nbLJe8BTPbqu",
        "outputId": "1baba781-4d6d-45c4-d553-ef87d1026124"
      },
      "source": [
        "3%2"
      ],
      "execution_count": null,
      "outputs": [
        {
          "output_type": "execute_result",
          "data": {
            "text/plain": [
              "1"
            ]
          },
          "metadata": {
            "tags": []
          },
          "execution_count": 7
        }
      ]
    },
    {
      "cell_type": "code",
      "metadata": {
        "colab": {
          "base_uri": "https://localhost:8080/"
        },
        "id": "EDCBRdB6Pbb6",
        "outputId": "2ecc631b-6a41-412c-9534-bdb7c512feb3"
      },
      "source": [
        "3//2"
      ],
      "execution_count": null,
      "outputs": [
        {
          "output_type": "execute_result",
          "data": {
            "text/plain": [
              "1"
            ]
          },
          "metadata": {
            "tags": []
          },
          "execution_count": 8
        }
      ]
    },
    {
      "cell_type": "code",
      "metadata": {
        "id": "5CSyi00ZPpON"
      },
      "source": [
        ""
      ],
      "execution_count": null,
      "outputs": []
    },
    {
      "cell_type": "markdown",
      "metadata": {
        "id": "RSM0WzWSISOO"
      },
      "source": [
        "### String operations\n",
        "  - How to define string(\"0\", '0', \"\"\"0\"\"\", and '''0''')\n",
        "  - Escape codes\n",
        "  - string operations(+,*)\n",
        "  - Indexing\n",
        "  - formating \n",
        "  - string functions(join, split, upper, lower, strip, ...)\n"
      ]
    },
    {
      "cell_type": "code",
      "metadata": {
        "id": "wJydJh8-Ps_i"
      },
      "source": [
        "str1 = \"this is a string\""
      ],
      "execution_count": null,
      "outputs": []
    },
    {
      "cell_type": "code",
      "metadata": {
        "id": "uYb1_jjmPswq"
      },
      "source": [
        "str1 = \"\"\"a man talked \"hi jain\". 'dfdf' in \\n \\t fdfd  \"\"\""
      ],
      "execution_count": null,
      "outputs": []
    },
    {
      "cell_type": "code",
      "metadata": {
        "colab": {
          "base_uri": "https://localhost:8080/"
        },
        "id": "LkK-8qqhPshC",
        "outputId": "4637fabb-5208-4731-cef8-482274bb75d0"
      },
      "source": [
        "print(str1)"
      ],
      "execution_count": null,
      "outputs": [
        {
          "output_type": "stream",
          "text": [
            "a man talked \"hi jain\". 'dfdf' in \n",
            " \t fdfd  \n"
          ],
          "name": "stdout"
        }
      ]
    },
    {
      "cell_type": "code",
      "metadata": {
        "id": "NBXaEafjQEyQ"
      },
      "source": [
        "str = \"aab\" \n",
        "strB = \"ccd\""
      ],
      "execution_count": null,
      "outputs": []
    },
    {
      "cell_type": "code",
      "metadata": {
        "colab": {
          "base_uri": "https://localhost:8080/",
          "height": 35
        },
        "id": "cty1PWUYQbOu",
        "outputId": "99cdb99e-52c3-422e-e8be-8400daf01963"
      },
      "source": [
        "str+strB"
      ],
      "execution_count": null,
      "outputs": [
        {
          "output_type": "execute_result",
          "data": {
            "application/vnd.google.colaboratory.intrinsic+json": {
              "type": "string"
            },
            "text/plain": [
              "'aabccd'"
            ]
          },
          "metadata": {
            "tags": []
          },
          "execution_count": 26
        }
      ]
    },
    {
      "cell_type": "code",
      "metadata": {
        "colab": {
          "base_uri": "https://localhost:8080/",
          "height": 35
        },
        "id": "AUZX9nRkQbBs",
        "outputId": "878e5522-4894-4a06-fa53-334cfe6eca60"
      },
      "source": [
        "str*3"
      ],
      "execution_count": null,
      "outputs": [
        {
          "output_type": "execute_result",
          "data": {
            "application/vnd.google.colaboratory.intrinsic+json": {
              "type": "string"
            },
            "text/plain": [
              "'aabaabaab'"
            ]
          },
          "metadata": {
            "tags": []
          },
          "execution_count": 27
        }
      ]
    },
    {
      "cell_type": "code",
      "metadata": {
        "id": "hnnx8hBmQa1D"
      },
      "source": [
        "str = \"aabccd\" \n"
      ],
      "execution_count": null,
      "outputs": []
    },
    {
      "cell_type": "code",
      "metadata": {
        "colab": {
          "base_uri": "https://localhost:8080/",
          "height": 35
        },
        "id": "uGPdgbrMQo_t",
        "outputId": "fef20bdb-de6d-46ce-899d-c52b05de9e0f"
      },
      "source": [
        "str[1:3]"
      ],
      "execution_count": null,
      "outputs": [
        {
          "output_type": "execute_result",
          "data": {
            "application/vnd.google.colaboratory.intrinsic+json": {
              "type": "string"
            },
            "text/plain": [
              "'ab'"
            ]
          },
          "metadata": {
            "tags": []
          },
          "execution_count": 34
        }
      ]
    },
    {
      "cell_type": "code",
      "metadata": {
        "colab": {
          "base_uri": "https://localhost:8080/",
          "height": 35
        },
        "id": "aR-wYwecQoxG",
        "outputId": "05ad5b12-6439-4ee1-cc8c-fee14d5c7595"
      },
      "source": [
        "a = \"40\"\n",
        "\n",
        "\"varible A: {}\".format(a)"
      ],
      "execution_count": null,
      "outputs": [
        {
          "output_type": "execute_result",
          "data": {
            "application/vnd.google.colaboratory.intrinsic+json": {
              "type": "string"
            },
            "text/plain": [
              "'varible A: 40'"
            ]
          },
          "metadata": {
            "tags": []
          },
          "execution_count": 35
        }
      ]
    },
    {
      "cell_type": "code",
      "metadata": {
        "colab": {
          "base_uri": "https://localhost:8080/"
        },
        "id": "Np3HPg1dREQ9",
        "outputId": "4d15a3c6-28e1-4874-887b-d94e35cf96b4"
      },
      "source": [
        "print( \"varible A: {}\".format(a) )"
      ],
      "execution_count": null,
      "outputs": [
        {
          "output_type": "stream",
          "text": [
            "varible A: 40\n"
          ],
          "name": "stdout"
        }
      ]
    },
    {
      "cell_type": "code",
      "metadata": {
        "colab": {
          "base_uri": "https://localhost:8080/"
        },
        "id": "O57ONLHuRECw",
        "outputId": "7d96a137-0b6e-4da0-c845-27bd97b1c3b8"
      },
      "source": [
        "alist = [\"a\",\"b\",\"c\"]\n",
        "alist"
      ],
      "execution_count": null,
      "outputs": [
        {
          "output_type": "execute_result",
          "data": {
            "text/plain": [
              "['a', 'b', 'c']"
            ]
          },
          "metadata": {
            "tags": []
          },
          "execution_count": 38
        }
      ]
    },
    {
      "cell_type": "code",
      "metadata": {
        "colab": {
          "base_uri": "https://localhost:8080/",
          "height": 35
        },
        "id": "gLJLlvZoReLf",
        "outputId": "639f1890-3840-4946-86a1-98fadc834048"
      },
      "source": [
        "b = \" \".join(alist)\n",
        "b"
      ],
      "execution_count": null,
      "outputs": [
        {
          "output_type": "execute_result",
          "data": {
            "application/vnd.google.colaboratory.intrinsic+json": {
              "type": "string"
            },
            "text/plain": [
              "'a b c'"
            ]
          },
          "metadata": {
            "tags": []
          },
          "execution_count": 44
        }
      ]
    },
    {
      "cell_type": "code",
      "metadata": {
        "colab": {
          "base_uri": "https://localhost:8080/"
        },
        "id": "RIYKlt-bRdyX",
        "outputId": "6e03dc7e-3b27-434a-e5ee-87bd321f6c91"
      },
      "source": [
        "b.split()"
      ],
      "execution_count": null,
      "outputs": [
        {
          "output_type": "execute_result",
          "data": {
            "text/plain": [
              "['a', 'b', 'c']"
            ]
          },
          "metadata": {
            "tags": []
          },
          "execution_count": 45
        }
      ]
    },
    {
      "cell_type": "code",
      "metadata": {
        "colab": {
          "base_uri": "https://localhost:8080/",
          "height": 35
        },
        "id": "P17bWHU3R1Vw",
        "outputId": "2eadcd1c-f634-4dd3-8df3-42f259b6a8df"
      },
      "source": [
        "b.upper()."
      ],
      "execution_count": null,
      "outputs": [
        {
          "output_type": "execute_result",
          "data": {
            "application/vnd.google.colaboratory.intrinsic+json": {
              "type": "string"
            },
            "text/plain": [
              "'A B C'"
            ]
          },
          "metadata": {
            "tags": []
          },
          "execution_count": 47
        }
      ]
    },
    {
      "cell_type": "code",
      "metadata": {
        "colab": {
          "base_uri": "https://localhost:8080/"
        },
        "id": "tLsp8TkOR1Ju",
        "outputId": "0c850651-e396-4515-c390-15e90106aaa9"
      },
      "source": [
        "c = \"a,b,c\"\n",
        "\n",
        "c.split(',')"
      ],
      "execution_count": null,
      "outputs": [
        {
          "output_type": "execute_result",
          "data": {
            "text/plain": [
              "['a', 'b', 'c']"
            ]
          },
          "metadata": {
            "tags": []
          },
          "execution_count": 49
        }
      ]
    },
    {
      "cell_type": "markdown",
      "metadata": {
        "id": "sXfiRhQpId3Q"
      },
      "source": [
        "### List \n",
        "  - How to define a list\n",
        "  - Indexing\n",
        "  - List operations (+, *, len )\n",
        "  - Some functions with list (append, sort, reverse, ...)"
      ]
    },
    {
      "cell_type": "code",
      "metadata": {
        "id": "G9dLNewzJEJc",
        "colab": {
          "base_uri": "https://localhost:8080/"
        },
        "outputId": "ffeffbab-71a0-4c61-efa7-60d9bdef2833"
      },
      "source": [
        "a = [1,2,3,4,0,-1]\n",
        "a"
      ],
      "execution_count": null,
      "outputs": [
        {
          "output_type": "execute_result",
          "data": {
            "text/plain": [
              "[1, 2, 3, 4, 0, -1]"
            ]
          },
          "metadata": {
            "tags": []
          },
          "execution_count": 64
        }
      ]
    },
    {
      "cell_type": "code",
      "metadata": {
        "colab": {
          "base_uri": "https://localhost:8080/"
        },
        "id": "wl63Du3LTHLi",
        "outputId": "4380546e-30e1-462e-8fe0-0b4eacb1b294"
      },
      "source": [
        "b = [1,2, \"ab\", 4]\n",
        "b"
      ],
      "execution_count": null,
      "outputs": [
        {
          "output_type": "execute_result",
          "data": {
            "text/plain": [
              "[1, 2, 'ab', 4]"
            ]
          },
          "metadata": {
            "tags": []
          },
          "execution_count": 52
        }
      ]
    },
    {
      "cell_type": "code",
      "metadata": {
        "colab": {
          "base_uri": "https://localhost:8080/"
        },
        "id": "0mOyt064TMC4",
        "outputId": "85be2136-a145-460e-c63c-66ba20599d87"
      },
      "source": [
        "c = [1,2,[1,2], [1,2,[1,2,3]]]\n",
        "c"
      ],
      "execution_count": null,
      "outputs": [
        {
          "output_type": "execute_result",
          "data": {
            "text/plain": [
              "[1, 2, [1, 2], [1, 2, [1, 2, 3]]]"
            ]
          },
          "metadata": {
            "tags": []
          },
          "execution_count": 54
        }
      ]
    },
    {
      "cell_type": "code",
      "metadata": {
        "colab": {
          "base_uri": "https://localhost:8080/"
        },
        "id": "poA7WIFhTTw0",
        "outputId": "5781f43b-721c-4916-cbab-97d9be7b275c"
      },
      "source": [
        "c[2][1]"
      ],
      "execution_count": null,
      "outputs": [
        {
          "output_type": "execute_result",
          "data": {
            "text/plain": [
              "2"
            ]
          },
          "metadata": {
            "tags": []
          },
          "execution_count": 58
        }
      ]
    },
    {
      "cell_type": "code",
      "metadata": {
        "colab": {
          "base_uri": "https://localhost:8080/"
        },
        "id": "e4eiKxBXTTeQ",
        "outputId": "ce6a5411-142a-464f-ff23-67f06ee575a9"
      },
      "source": [
        "c[3][2][0]"
      ],
      "execution_count": null,
      "outputs": [
        {
          "output_type": "execute_result",
          "data": {
            "text/plain": [
              "1"
            ]
          },
          "metadata": {
            "tags": []
          },
          "execution_count": 59
        }
      ]
    },
    {
      "cell_type": "code",
      "metadata": {
        "colab": {
          "base_uri": "https://localhost:8080/"
        },
        "id": "ZOu-gNC8TTPi",
        "outputId": "8bef0b94-d47f-4369-dc66-5c4eeff46c4b"
      },
      "source": [
        "len(c)"
      ],
      "execution_count": null,
      "outputs": [
        {
          "output_type": "execute_result",
          "data": {
            "text/plain": [
              "4"
            ]
          },
          "metadata": {
            "tags": []
          },
          "execution_count": 60
        }
      ]
    },
    {
      "cell_type": "code",
      "metadata": {
        "colab": {
          "base_uri": "https://localhost:8080/"
        },
        "id": "BF3iTO9wTsZk",
        "outputId": "75cd36d3-9ed8-42ff-ba77-2e542d9a2341"
      },
      "source": [
        "b+c"
      ],
      "execution_count": null,
      "outputs": [
        {
          "output_type": "execute_result",
          "data": {
            "text/plain": [
              "[1, 2, 'ab', 4, 1, 2, [1, 2], [1, 2, [1, 2, 3]]]"
            ]
          },
          "metadata": {
            "tags": []
          },
          "execution_count": 61
        }
      ]
    },
    {
      "cell_type": "code",
      "metadata": {
        "colab": {
          "base_uri": "https://localhost:8080/"
        },
        "id": "1LyO2aUATydr",
        "outputId": "baffd181-567f-4901-f412-e49b7ef16565"
      },
      "source": [
        "b*3"
      ],
      "execution_count": null,
      "outputs": [
        {
          "output_type": "execute_result",
          "data": {
            "text/plain": [
              "[1, 2, 'ab', 4, 1, 2, 'ab', 4, 1, 2, 'ab', 4]"
            ]
          },
          "metadata": {
            "tags": []
          },
          "execution_count": 62
        }
      ]
    },
    {
      "cell_type": "code",
      "metadata": {
        "colab": {
          "base_uri": "https://localhost:8080/"
        },
        "id": "XipBBjq9T8OU",
        "outputId": "dd2060fc-5131-4c52-cd20-0aa06dd9a004"
      },
      "source": [
        "a.sort()\n",
        "a"
      ],
      "execution_count": null,
      "outputs": [
        {
          "output_type": "execute_result",
          "data": {
            "text/plain": [
              "[-1, 0, 1, 2, 3, 4]"
            ]
          },
          "metadata": {
            "tags": []
          },
          "execution_count": 66
        }
      ]
    },
    {
      "cell_type": "code",
      "metadata": {
        "id": "un7JI1J1T_fo"
      },
      "source": [
        "a.append(10)"
      ],
      "execution_count": null,
      "outputs": []
    },
    {
      "cell_type": "code",
      "metadata": {
        "colab": {
          "base_uri": "https://localhost:8080/"
        },
        "id": "DXEmbSDjT_RL",
        "outputId": "acd16c51-84a9-49a8-e2b6-9b324e91ccc1"
      },
      "source": [
        "a"
      ],
      "execution_count": null,
      "outputs": [
        {
          "output_type": "execute_result",
          "data": {
            "text/plain": [
              "[-1, 0, 1, 2, 3, 4, 10]"
            ]
          },
          "metadata": {
            "tags": []
          },
          "execution_count": 68
        }
      ]
    },
    {
      "cell_type": "code",
      "metadata": {
        "colab": {
          "base_uri": "https://localhost:8080/"
        },
        "id": "4xXf8Sj3UFl0",
        "outputId": "7271a6a1-e510-4e9d-a27b-0dcf6cd6905c"
      },
      "source": [
        "a.reverse()\n",
        "a"
      ],
      "execution_count": null,
      "outputs": [
        {
          "output_type": "execute_result",
          "data": {
            "text/plain": [
              "[10, 4, 3, 2, 1, 0, -1]"
            ]
          },
          "metadata": {
            "tags": []
          },
          "execution_count": 69
        }
      ]
    },
    {
      "cell_type": "markdown",
      "metadata": {
        "id": "2JFm7HHSJGat"
      },
      "source": [
        "### Dictionary\n",
        "- How to define a dictionary\n",
        "- functions(keys, values, items, get, in)"
      ]
    },
    {
      "cell_type": "code",
      "metadata": {
        "id": "SZmD3mY7JuFL"
      },
      "source": [
        "dic = {'name':'pey', 'phone':'0119993323', 'birth': '1118'}"
      ],
      "execution_count": null,
      "outputs": []
    },
    {
      "cell_type": "code",
      "metadata": {
        "colab": {
          "base_uri": "https://localhost:8080/"
        },
        "id": "G2nNBEgGUNJf",
        "outputId": "0da63f2f-d804-493c-bf84-ddfc84107d0d"
      },
      "source": [
        "dic"
      ],
      "execution_count": null,
      "outputs": [
        {
          "output_type": "execute_result",
          "data": {
            "text/plain": [
              "{'birth': '1118', 'name': 'pey', 'phone': '0119993323'}"
            ]
          },
          "metadata": {
            "tags": []
          },
          "execution_count": 71
        }
      ]
    },
    {
      "cell_type": "code",
      "metadata": {
        "colab": {
          "base_uri": "https://localhost:8080/",
          "height": 35
        },
        "id": "1azGrhCwUM9n",
        "outputId": "127229e0-5391-4d5c-d6f6-af089d40a83b"
      },
      "source": [
        "dic['birth']"
      ],
      "execution_count": null,
      "outputs": [
        {
          "output_type": "execute_result",
          "data": {
            "application/vnd.google.colaboratory.intrinsic+json": {
              "type": "string"
            },
            "text/plain": [
              "'1118'"
            ]
          },
          "metadata": {
            "tags": []
          },
          "execution_count": 72
        }
      ]
    },
    {
      "cell_type": "code",
      "metadata": {
        "id": "KXS5muUeUMvc"
      },
      "source": [
        "dic['newkey1'] = 123"
      ],
      "execution_count": null,
      "outputs": []
    },
    {
      "cell_type": "code",
      "metadata": {
        "colab": {
          "base_uri": "https://localhost:8080/"
        },
        "id": "2LT5D7WjUMgX",
        "outputId": "fe92a729-ecc0-4b27-e76f-77672cba2a3d"
      },
      "source": [
        "dic"
      ],
      "execution_count": null,
      "outputs": [
        {
          "output_type": "execute_result",
          "data": {
            "text/plain": [
              "{'birth': '1118', 'name': 'pey', 'newkey1': 123, 'phone': '0119993323'}"
            ]
          },
          "metadata": {
            "tags": []
          },
          "execution_count": 74
        }
      ]
    },
    {
      "cell_type": "code",
      "metadata": {
        "colab": {
          "base_uri": "https://localhost:8080/"
        },
        "id": "Oyf_r0OBUMQc",
        "outputId": "e50d3920-23e4-43c4-9bfa-48389a922274"
      },
      "source": [
        "dic.items()"
      ],
      "execution_count": null,
      "outputs": [
        {
          "output_type": "execute_result",
          "data": {
            "text/plain": [
              "dict_items([('name', 'pey'), ('phone', '0119993323'), ('birth', '1118'), ('newkey1', 123)])"
            ]
          },
          "metadata": {
            "tags": []
          },
          "execution_count": 77
        }
      ]
    },
    {
      "cell_type": "code",
      "metadata": {
        "colab": {
          "base_uri": "https://localhost:8080/"
        },
        "id": "BBAEyIfoUmdx",
        "outputId": "0ccbda1a-109e-49ae-d78c-ebe9cfecf4cf"
      },
      "source": [
        "for (key,value) in dic.items() : \n",
        "  print(\"key:{}, value:{}\".format(key,value))\n"
      ],
      "execution_count": null,
      "outputs": [
        {
          "output_type": "stream",
          "text": [
            "key:name, value:pey\n",
            "key:phone, value:0119993323\n",
            "key:birth, value:1118\n",
            "key:newkey1, value:123\n"
          ],
          "name": "stdout"
        }
      ]
    },
    {
      "cell_type": "code",
      "metadata": {
        "colab": {
          "base_uri": "https://localhost:8080/",
          "height": 35
        },
        "id": "as5KELuVUmN-",
        "outputId": "7d47b6c5-ec0e-4d25-d78f-0d56b15e1d16"
      },
      "source": [
        "dic.get('name')"
      ],
      "execution_count": null,
      "outputs": [
        {
          "output_type": "execute_result",
          "data": {
            "application/vnd.google.colaboratory.intrinsic+json": {
              "type": "string"
            },
            "text/plain": [
              "'pey'"
            ]
          },
          "metadata": {
            "tags": []
          },
          "execution_count": 79
        }
      ]
    },
    {
      "cell_type": "code",
      "metadata": {
        "colab": {
          "base_uri": "https://localhost:8080/",
          "height": 35
        },
        "id": "_65xEXK6U_xj",
        "outputId": "7c394cce-60bf-4cf1-8883-b9ad7e14a313"
      },
      "source": [
        "dic['name']"
      ],
      "execution_count": null,
      "outputs": [
        {
          "output_type": "execute_result",
          "data": {
            "application/vnd.google.colaboratory.intrinsic+json": {
              "type": "string"
            },
            "text/plain": [
              "'pey'"
            ]
          },
          "metadata": {
            "tags": []
          },
          "execution_count": 80
        }
      ]
    },
    {
      "cell_type": "code",
      "metadata": {
        "id": "32uojWEpU_kS"
      },
      "source": [
        "dic.get('namename')"
      ],
      "execution_count": null,
      "outputs": []
    },
    {
      "cell_type": "code",
      "metadata": {
        "colab": {
          "base_uri": "https://localhost:8080/",
          "height": 169
        },
        "id": "Mrtp9V8xVJEp",
        "outputId": "4d6fd0f7-92d1-464a-f3c5-c0ec79b34b86"
      },
      "source": [
        "dic['namename']"
      ],
      "execution_count": null,
      "outputs": [
        {
          "output_type": "error",
          "ename": "KeyError",
          "evalue": "ignored",
          "traceback": [
            "\u001b[0;31m---------------------------------------------------------------------------\u001b[0m",
            "\u001b[0;31mKeyError\u001b[0m                                  Traceback (most recent call last)",
            "\u001b[0;32m<ipython-input-82-55b3bd297c64>\u001b[0m in \u001b[0;36m<module>\u001b[0;34m()\u001b[0m\n\u001b[0;32m----> 1\u001b[0;31m \u001b[0mdic\u001b[0m\u001b[0;34m[\u001b[0m\u001b[0;34m'namename'\u001b[0m\u001b[0;34m]\u001b[0m\u001b[0;34m\u001b[0m\u001b[0;34m\u001b[0m\u001b[0m\n\u001b[0m",
            "\u001b[0;31mKeyError\u001b[0m: 'namename'"
          ]
        }
      ]
    },
    {
      "cell_type": "code",
      "metadata": {
        "colab": {
          "base_uri": "https://localhost:8080/"
        },
        "id": "nA6s3d3AVJAy",
        "outputId": "b4d88912-9af0-4aa0-fb71-b20246d36bf7"
      },
      "source": [
        "'name' in ['name', 'aaa']"
      ],
      "execution_count": null,
      "outputs": [
        {
          "output_type": "execute_result",
          "data": {
            "text/plain": [
              "True"
            ]
          },
          "metadata": {
            "tags": []
          },
          "execution_count": 85
        }
      ]
    },
    {
      "cell_type": "code",
      "metadata": {
        "id": "W4Q2o_ujVI61"
      },
      "source": [
        ""
      ],
      "execution_count": null,
      "outputs": []
    },
    {
      "cell_type": "markdown",
      "metadata": {
        "id": "zxjhG12BJuiB"
      },
      "source": [
        ""
      ]
    },
    {
      "cell_type": "markdown",
      "metadata": {
        "id": "jBEJXx-e1P-Z"
      },
      "source": [
        "### chapter 2 practice\n",
        "\n",
        "1) Remove duplicates\n",
        "``` python \n",
        ">>> a = [1, 1, 1, 2, 2, 3, 3, 3, 4, 4, 5]\n",
        "```\n",
        "\n",
        "2) How to extract 'A' and 'B' from the list 'a'?\n",
        "``` python\n",
        ">>> a = {'A':90, 'B':80, 'C':70}\n",
        "```\n",
        "\n",
        "3) What is the result? \n",
        "``` python\n",
        ">>> a = b = [1, 2, 3]\n",
        ">>> a[1] = 4\n",
        ">>> print(b)\n",
        "```"
      ]
    },
    {
      "cell_type": "code",
      "metadata": {
        "colab": {
          "base_uri": "https://localhost:8080/"
        },
        "id": "7J65jfGJVoID",
        "outputId": "fafce78c-46a1-4998-d152-fdf1a0593c0e"
      },
      "source": [
        "a = [1, 1, 1, 2, 2, 3, 3, 3, 4, 4, 5]\n",
        "list(set(a))"
      ],
      "execution_count": null,
      "outputs": [
        {
          "output_type": "execute_result",
          "data": {
            "text/plain": [
              "[1, 2, 3, 4, 5]"
            ]
          },
          "metadata": {
            "tags": []
          },
          "execution_count": 87
        }
      ]
    },
    {
      "cell_type": "code",
      "metadata": {
        "id": "RD9q2EPrVn81"
      },
      "source": [
        "a = {'A':90, 'B':80, 'C':70}"
      ],
      "execution_count": null,
      "outputs": []
    },
    {
      "cell_type": "code",
      "metadata": {
        "colab": {
          "base_uri": "https://localhost:8080/"
        },
        "id": "XEv-4RJbVnug",
        "outputId": "858c7871-8ead-4fa5-d55c-0f0cd04126a7"
      },
      "source": [
        "a['A']"
      ],
      "execution_count": null,
      "outputs": [
        {
          "output_type": "execute_result",
          "data": {
            "text/plain": [
              "90"
            ]
          },
          "metadata": {
            "tags": []
          },
          "execution_count": 89
        }
      ]
    },
    {
      "cell_type": "code",
      "metadata": {
        "id": "UpRwNbrCV3Mx"
      },
      "source": [
        "a = b = [1, 2, 3]\n",
        "a[1] = 4\n",
        "print(b)"
      ],
      "execution_count": null,
      "outputs": []
    },
    {
      "cell_type": "code",
      "metadata": {
        "id": "zbIs3fweV26B"
      },
      "source": [
        "a = [1, 2, 3]\n"
      ],
      "execution_count": null,
      "outputs": []
    },
    {
      "cell_type": "code",
      "metadata": {
        "id": "fMn533pqWal0"
      },
      "source": [
        "b = a"
      ],
      "execution_count": null,
      "outputs": []
    },
    {
      "cell_type": "code",
      "metadata": {
        "colab": {
          "base_uri": "https://localhost:8080/"
        },
        "id": "mKyD8He1V_tX",
        "outputId": "7d204265-e2bd-47f6-f40d-684680f35fa4"
      },
      "source": [
        "a[1] = 4\n",
        "a"
      ],
      "execution_count": null,
      "outputs": [
        {
          "output_type": "execute_result",
          "data": {
            "text/plain": [
              "[1, 4, 3]"
            ]
          },
          "metadata": {
            "tags": []
          },
          "execution_count": 99
        }
      ]
    },
    {
      "cell_type": "code",
      "metadata": {
        "colab": {
          "base_uri": "https://localhost:8080/"
        },
        "id": "x2Y6D-C7V_gF",
        "outputId": "8082689c-52e1-4d4a-ca22-09b9c2636e5f"
      },
      "source": [
        "print(b)"
      ],
      "execution_count": null,
      "outputs": [
        {
          "output_type": "stream",
          "text": [
            "[1, 4, 3]\n"
          ],
          "name": "stdout"
        }
      ]
    },
    {
      "cell_type": "code",
      "metadata": {
        "id": "YStXzbisWNsV"
      },
      "source": [
        "a = [1,2,3]"
      ],
      "execution_count": null,
      "outputs": []
    },
    {
      "cell_type": "code",
      "metadata": {
        "id": "xzdf6N9OWNgG"
      },
      "source": [
        "b = a.copy()"
      ],
      "execution_count": null,
      "outputs": []
    },
    {
      "cell_type": "code",
      "metadata": {
        "colab": {
          "base_uri": "https://localhost:8080/"
        },
        "id": "aOXqaIVZWSYa",
        "outputId": "87f96c06-8a87-4be9-c424-78af16087179"
      },
      "source": [
        "a[1] = 4\n",
        "a"
      ],
      "execution_count": null,
      "outputs": [
        {
          "output_type": "execute_result",
          "data": {
            "text/plain": [
              "[1, 4, 3]"
            ]
          },
          "metadata": {
            "tags": []
          },
          "execution_count": 95
        }
      ]
    },
    {
      "cell_type": "code",
      "metadata": {
        "colab": {
          "base_uri": "https://localhost:8080/"
        },
        "id": "bEgVs2hvWSNw",
        "outputId": "d5132210-fb17-46cb-e104-e42db259be6a"
      },
      "source": [
        "print(b)"
      ],
      "execution_count": null,
      "outputs": [
        {
          "output_type": "stream",
          "text": [
            "[1, 2, 3]\n"
          ],
          "name": "stdout"
        }
      ]
    },
    {
      "cell_type": "markdown",
      "metadata": {
        "id": "vIKYgaEw1P-Z"
      },
      "source": [
        "## Chapter 3\n",
        "\n",
        "[Jump to python ch3](https://wikidocs.net/19)"
      ]
    },
    {
      "cell_type": "markdown",
      "metadata": {
        "id": "TMCnpomIJ0mi"
      },
      "source": [
        "### If else \n"
      ]
    },
    {
      "cell_type": "code",
      "metadata": {
        "id": "vsybgs9PJ9Ga",
        "colab": {
          "base_uri": "https://localhost:8080/"
        },
        "outputId": "e68e21aa-7f6c-4d98-c59f-4c991507688f"
      },
      "source": [
        "if 1 :\n",
        "  print(\"Do it\")\n",
        "else :\n",
        "  print(\"cond not true\")"
      ],
      "execution_count": null,
      "outputs": [
        {
          "output_type": "stream",
          "text": [
            "Do it\n"
          ],
          "name": "stdout"
        }
      ]
    },
    {
      "cell_type": "code",
      "metadata": {
        "colab": {
          "base_uri": "https://localhost:8080/"
        },
        "id": "0tDaxnscXsFc",
        "outputId": "ac1abbe5-c260-4c19-9ee6-9359ae7b58c5"
      },
      "source": [
        "if 0 :\n",
        "  print(\"Do it\")\n",
        "else :\n",
        "  print(\"cond not true\")"
      ],
      "execution_count": null,
      "outputs": [
        {
          "output_type": "stream",
          "text": [
            "cond not true\n"
          ],
          "name": "stdout"
        }
      ]
    },
    {
      "cell_type": "code",
      "metadata": {
        "id": "s2Mo8-A8X0Jq"
      },
      "source": [
        "a = 10; b = 0"
      ],
      "execution_count": null,
      "outputs": []
    },
    {
      "cell_type": "code",
      "metadata": {
        "colab": {
          "base_uri": "https://localhost:8080/"
        },
        "id": "xXkcmjCCXyUn",
        "outputId": "403a94ab-e5d2-42b2-8937-e073403edfbc"
      },
      "source": [
        "if a > 0 :\n",
        "  print(\"Do it\")\n",
        "else :\n",
        "  print(\"cond not true\")"
      ],
      "execution_count": null,
      "outputs": [
        {
          "output_type": "stream",
          "text": [
            "Do it\n"
          ],
          "name": "stdout"
        }
      ]
    },
    {
      "cell_type": "code",
      "metadata": {
        "colab": {
          "base_uri": "https://localhost:8080/"
        },
        "id": "zZ73qqhbXyNo",
        "outputId": "b0e71514-728d-43ca-93d8-92fae6c784e1"
      },
      "source": [
        "if a > 0 or b > 2 :\n",
        "  print(\"Do it\")\n",
        "else :\n",
        "  print(\"cond not true\")"
      ],
      "execution_count": null,
      "outputs": [
        {
          "output_type": "stream",
          "text": [
            "Do it\n"
          ],
          "name": "stdout"
        }
      ]
    },
    {
      "cell_type": "code",
      "metadata": {
        "id": "wbK-PQjYYXlb"
      },
      "source": [
        "name = 'Tom'; listofnames = ['Tom', 'Jane', 'Karl']"
      ],
      "execution_count": null,
      "outputs": []
    },
    {
      "cell_type": "code",
      "metadata": {
        "colab": {
          "base_uri": "https://localhost:8080/"
        },
        "id": "93DkkHYaXx6S",
        "outputId": "84039d12-02b9-46eb-804c-6e458b843564"
      },
      "source": [
        "if name not in listofnames :\n",
        "  print(\"Do it\")\n",
        "else :\n",
        "  print(\"cond not true\")"
      ],
      "execution_count": null,
      "outputs": [
        {
          "output_type": "stream",
          "text": [
            "cond not true\n"
          ],
          "name": "stdout"
        }
      ]
    },
    {
      "cell_type": "markdown",
      "metadata": {
        "id": "sN_iyspWJ9jS"
      },
      "source": [
        "### For loop"
      ]
    },
    {
      "cell_type": "code",
      "metadata": {
        "id": "4QgTPVhlKC1m",
        "colab": {
          "base_uri": "https://localhost:8080/"
        },
        "outputId": "f3a44152-7af3-4949-9e2d-0597fe3eeb2b"
      },
      "source": [
        "for i in range(5) :\n",
        "  print(i)"
      ],
      "execution_count": null,
      "outputs": [
        {
          "output_type": "stream",
          "text": [
            "0\n",
            "1\n",
            "2\n",
            "3\n",
            "4\n"
          ],
          "name": "stdout"
        }
      ]
    },
    {
      "cell_type": "code",
      "metadata": {
        "colab": {
          "base_uri": "https://localhost:8080/"
        },
        "id": "tt89xnVCYq0U",
        "outputId": "b337d13f-fbfb-4415-84f2-d22840f1ea33"
      },
      "source": [
        "for name in listofnames :\n",
        "  print(name)"
      ],
      "execution_count": null,
      "outputs": [
        {
          "output_type": "stream",
          "text": [
            "Tom\n",
            "Jane\n",
            "Karl\n"
          ],
          "name": "stdout"
        }
      ]
    },
    {
      "cell_type": "code",
      "metadata": {
        "colab": {
          "base_uri": "https://localhost:8080/"
        },
        "id": "Jh9x1rehY9qH",
        "outputId": "00a9404e-7c50-4ea1-c7e9-61fa666ba6dc"
      },
      "source": [
        "dic"
      ],
      "execution_count": null,
      "outputs": [
        {
          "output_type": "execute_result",
          "data": {
            "text/plain": [
              "{'birth': '1118', 'name': 'pey', 'newkey1': 123, 'phone': '0119993323'}"
            ]
          },
          "metadata": {
            "tags": []
          },
          "execution_count": 114
        }
      ]
    },
    {
      "cell_type": "code",
      "metadata": {
        "colab": {
          "base_uri": "https://localhost:8080/"
        },
        "id": "fD2BWImxY9e0",
        "outputId": "d2d3e18f-2d4f-40f4-d0a4-bbe589b024f9"
      },
      "source": [
        "for (key,value) in dic.items() :\n",
        "  print(key, value)"
      ],
      "execution_count": null,
      "outputs": [
        {
          "output_type": "stream",
          "text": [
            "name pey\n",
            "phone 0119993323\n",
            "birth 1118\n",
            "newkey1 123\n"
          ],
          "name": "stdout"
        }
      ]
    },
    {
      "cell_type": "code",
      "metadata": {
        "id": "R32DN2DpYqnj"
      },
      "source": [
        ""
      ],
      "execution_count": null,
      "outputs": []
    },
    {
      "cell_type": "code",
      "metadata": {
        "id": "PjFa-AsXYqaE"
      },
      "source": [
        ""
      ],
      "execution_count": null,
      "outputs": []
    },
    {
      "cell_type": "markdown",
      "metadata": {
        "id": "LhzY_RJHKDYi"
      },
      "source": [
        ""
      ]
    },
    {
      "cell_type": "markdown",
      "metadata": {
        "id": "i4j4U6Bh1P-a"
      },
      "source": [
        "### Chapter 3, Practice \n",
        "\n",
        "1) Interprete the code below. What is the result?\n",
        "``` python\n",
        "a = \"Life is too short, you need python\"\n",
        "\n",
        "if \"wife\" in a: print(\"wife\")\n",
        "elif \"python\" in a and \"you\" not in a: print(\"python\")\n",
        "elif \"shirt\" not in a: print(\"shirt\")\n",
        "elif \"need\" in a: print(\"need\")\n",
        "else: print(\"none\")\n",
        "```"
      ]
    },
    {
      "cell_type": "code",
      "metadata": {
        "colab": {
          "base_uri": "https://localhost:8080/"
        },
        "id": "ZZckP2wFZVWL",
        "outputId": "8db32a06-3900-47de-d61b-e81460904544"
      },
      "source": [
        "a = \"Life is too short, you need python\"\n",
        " \n",
        "if \"wife\" in a: print(\"wife\")\n",
        "elif \"python\" in a and \"you\" not in a: print(\"python\")\n",
        "elif \"shirt\" not in a: print(\"shirt\")\n",
        "elif \"need\" in a: print(\"need\")\n",
        "else: print(\"none\")"
      ],
      "execution_count": null,
      "outputs": [
        {
          "output_type": "stream",
          "text": [
            "shirt\n"
          ],
          "name": "stdout"
        }
      ]
    },
    {
      "cell_type": "markdown",
      "metadata": {
        "id": "CWrUj3wJ1P-a"
      },
      "source": [
        "2) print numbers 1 to 100 using for loop"
      ]
    },
    {
      "cell_type": "markdown",
      "metadata": {
        "id": "SSN-DcF71P-a"
      },
      "source": [
        "3) Do the same thing Using list compression \n",
        "``` python\n",
        "numbers = [1, 2, 3, 4, 5]\n",
        "result = []\n",
        "for n in numbers:\n",
        "    if n % 2 == 1:\n",
        "        result.append(n*2)\n",
        "```"
      ]
    },
    {
      "cell_type": "code",
      "metadata": {
        "id": "Tf5-8HAWZsNF"
      },
      "source": [
        "numbers = [1, 2, 3, 4, 5]\n",
        "result = []\n",
        "for n in numbers:\n",
        "    if n % 2 == 1:\n",
        "        result.append(n*2)"
      ],
      "execution_count": null,
      "outputs": []
    },
    {
      "cell_type": "code",
      "metadata": {
        "colab": {
          "base_uri": "https://localhost:8080/"
        },
        "id": "0gntWj_8Zxa0",
        "outputId": "310223c2-ccd6-4c18-f8b4-0e876c0d5fdc"
      },
      "source": [
        "result"
      ],
      "execution_count": null,
      "outputs": [
        {
          "output_type": "execute_result",
          "data": {
            "text/plain": [
              "[2, 6, 10]"
            ]
          },
          "metadata": {
            "tags": []
          },
          "execution_count": 119
        }
      ]
    },
    {
      "cell_type": "code",
      "metadata": {
        "colab": {
          "base_uri": "https://localhost:8080/"
        },
        "id": "CgP8cwzcZxOG",
        "outputId": "ddf49019-af97-4645-85dd-4ab81e3b93fd"
      },
      "source": [
        "[ n*2  for n in numbers if n % 2 == 1 ]"
      ],
      "execution_count": null,
      "outputs": [
        {
          "output_type": "execute_result",
          "data": {
            "text/plain": [
              "[2, 6, 10]"
            ]
          },
          "metadata": {
            "tags": []
          },
          "execution_count": 120
        }
      ]
    },
    {
      "cell_type": "code",
      "metadata": {
        "colab": {
          "base_uri": "https://localhost:8080/"
        },
        "id": "E7gbJtuoZw-J",
        "outputId": "6e63d18a-f1d0-46a1-bfb6-6915705b82fe"
      },
      "source": [
        "[ n*2 if n%2 ==1 else n*2+1 for n in numbers  ]"
      ],
      "execution_count": null,
      "outputs": [
        {
          "output_type": "execute_result",
          "data": {
            "text/plain": [
              "[2, 5, 6, 9, 10]"
            ]
          },
          "metadata": {
            "tags": []
          },
          "execution_count": 121
        }
      ]
    },
    {
      "cell_type": "markdown",
      "metadata": {
        "id": "ZuYHc77P1P-b"
      },
      "source": [
        "## Chapter 4 \n",
        "\n",
        "[Jump to python ch4](https://wikidocs.net/26) "
      ]
    },
    {
      "cell_type": "markdown",
      "metadata": {
        "id": "xknd62C4KFzg"
      },
      "source": [
        "### Function"
      ]
    },
    {
      "cell_type": "code",
      "metadata": {
        "id": "iZVux3SfbE0j"
      },
      "source": [
        "afunc <- function(a,b) {\n",
        "    xdfdsfdsfd\n",
        "\n",
        "    return (a+b)\n",
        "}"
      ],
      "execution_count": null,
      "outputs": []
    },
    {
      "cell_type": "code",
      "metadata": {
        "colab": {
          "base_uri": "https://localhost:8080/"
        },
        "id": "8UdV4EB0bXCI",
        "outputId": "92504dab-7bc2-4581-b512-e1094ef21cfb"
      },
      "source": [
        "if 0 :\n",
        "  print(\"hi\")\n",
        "  print(\"bye\")\n",
        "print(\"2\")"
      ],
      "execution_count": null,
      "outputs": [
        {
          "output_type": "stream",
          "text": [
            "2\n"
          ],
          "name": "stdout"
        }
      ]
    },
    {
      "cell_type": "code",
      "metadata": {
        "id": "OrBr2tjea5x7"
      },
      "source": [
        "def add(a, b):\n",
        "  return a+b\n",
        "\n",
        "\n"
      ],
      "execution_count": null,
      "outputs": []
    },
    {
      "cell_type": "code",
      "metadata": {
        "id": "RKjLAtC_KSBe",
        "colab": {
          "base_uri": "https://localhost:8080/"
        },
        "outputId": "da3542d1-a271-4507-e38d-68c3711dc7c7"
      },
      "source": [
        "\n",
        "print(add(3, 4))  "
      ],
      "execution_count": null,
      "outputs": [
        {
          "output_type": "stream",
          "text": [
            "7\n"
          ],
          "name": "stdout"
        }
      ]
    },
    {
      "cell_type": "markdown",
      "metadata": {
        "id": "qAaNLiWZKSzM"
      },
      "source": [
        "### File read and write"
      ]
    },
    {
      "cell_type": "code",
      "metadata": {
        "collapsed": true,
        "id": "9zTlhdp-1P-c"
      },
      "source": [
        "with open('ids.txt', 'w') as f :\n",
        "    f.write('ID\\nJohn\\nKarl\\nAndy\\nTim\\n')\n"
      ],
      "execution_count": null,
      "outputs": []
    },
    {
      "cell_type": "code",
      "metadata": {
        "collapsed": true,
        "id": "dHPxyzXk1P-c"
      },
      "source": [
        "with open('data1.txt', 'w') as f :\n",
        "    f.write('ID\\tfield1\\tfield2\\tfield3\\nTom\\t1\\t3\\t1\\nJohn\\t1\\t3\\t3\\nTom\\t1\\t1\\t1\\nKarl\\t1\\t1\\t2\\nKarl\\t1\\t3\\t2\\nKarl\\t2\\t2\\t2\\nAndy\\t1\\t2\\t3')\n"
      ],
      "execution_count": null,
      "outputs": []
    },
    {
      "cell_type": "code",
      "metadata": {
        "collapsed": true,
        "id": "AOtZvqvp1P-c"
      },
      "source": [
        "with open('data2.txt', 'w') as f :\n",
        "    f.write('ID\\tfield1\\tfield2\\tfield3\\nTom\\t2\\t3\\t1\\nJane\\t1\\t1\\t3\\nJane\\t2\\t2\\t1\\nMax\\t3\\t1\\t2\\nKarl\\t1\\t4\\t2\\nMax\\t3\\t2\\t2\\nMax\\t2\\t2\\t1\\nTom\\t2\\t3\\t1\\nJane\\t1\\t1\\t3\\nJane\\t2\\t2\\t1\\nMax\\t3\\t1\\t2\\nKarl\\t1\\t4\\t2\\nMax\\t3\\t2\\t2\\nMax\\t2\\t2\\t1')\n"
      ],
      "execution_count": null,
      "outputs": []
    },
    {
      "cell_type": "code",
      "metadata": {
        "collapsed": true,
        "id": "LCjkKA5_1P-d"
      },
      "source": [
        ""
      ],
      "execution_count": null,
      "outputs": []
    },
    {
      "cell_type": "markdown",
      "metadata": {
        "id": "wUZPO4hj1P-d"
      },
      "source": [
        "#### Read Data"
      ]
    },
    {
      "cell_type": "code",
      "metadata": {
        "collapsed": true,
        "id": "5y0Ssdvy1P-d"
      },
      "source": [
        "ids = []\n",
        "with open('ids.txt', 'r') as f :\n",
        "    for line in f :\n",
        "#        print(line)\n",
        "        ids.append(line.strip())\n"
      ],
      "execution_count": null,
      "outputs": []
    },
    {
      "cell_type": "code",
      "metadata": {
        "colab": {
          "base_uri": "https://localhost:8080/"
        },
        "id": "yPxVYruOcJpK",
        "outputId": "5832200d-9a05-4083-9fce-94af340b9458"
      },
      "source": [
        "ids"
      ],
      "execution_count": null,
      "outputs": [
        {
          "output_type": "execute_result",
          "data": {
            "text/plain": [
              "['ID', 'John', 'Karl', 'Andy', 'Tim']"
            ]
          },
          "metadata": {
            "tags": []
          },
          "execution_count": 134
        }
      ]
    },
    {
      "cell_type": "code",
      "metadata": {
        "colab": {
          "base_uri": "https://localhost:8080/"
        },
        "id": "sJRBEMkS1P-e",
        "outputId": "761bebde-1908-4b0e-a557-9b55a6127190"
      },
      "source": [
        "%%time\n",
        "\n",
        "ids = []\n",
        "V1s = []\n",
        "with open('data1.txt', 'r', encoding='utf-8') as f :\n",
        "    for item in f :\n",
        "        print(item)\n",
        "        ID, field1, _, _ = item.strip().split()\n",
        "        ids.append(ID)\n",
        "        V1s.append(field1)"
      ],
      "execution_count": null,
      "outputs": [
        {
          "output_type": "stream",
          "text": [
            "ID\tfield1\tfield2\tfield3\n",
            "\n",
            "Tom\t1\t3\t1\n",
            "\n",
            "John\t1\t3\t3\n",
            "\n",
            "Tom\t1\t1\t1\n",
            "\n",
            "Karl\t1\t1\t2\n",
            "\n",
            "Karl\t1\t3\t2\n",
            "\n",
            "Karl\t2\t2\t2\n",
            "\n",
            "Andy\t1\t2\t3\n",
            "CPU times: user 2.08 ms, sys: 0 ns, total: 2.08 ms\n",
            "Wall time: 2.09 ms\n"
          ],
          "name": "stdout"
        }
      ]
    },
    {
      "cell_type": "code",
      "metadata": {
        "collapsed": true,
        "id": "ggqcJ_ex1P-f",
        "colab": {
          "base_uri": "https://localhost:8080/"
        },
        "outputId": "c09628c3-2caf-4713-e74e-a367642abb9b"
      },
      "source": [
        "V1s"
      ],
      "execution_count": null,
      "outputs": [
        {
          "output_type": "execute_result",
          "data": {
            "text/plain": [
              "['field1', '1', '1', '1', '1', '1', '2', '1']"
            ]
          },
          "metadata": {
            "tags": []
          },
          "execution_count": 138
        }
      ]
    },
    {
      "cell_type": "markdown",
      "metadata": {
        "id": "tXwXHrZz1P-g"
      },
      "source": [
        "## Data Generator "
      ]
    },
    {
      "cell_type": "markdown",
      "metadata": {
        "id": "JaXHDGaf1P-g"
      },
      "source": [
        "generator from data file"
      ]
    },
    {
      "cell_type": "code",
      "metadata": {
        "id": "lO47O565gIUt"
      },
      "source": [
        "import sys"
      ],
      "execution_count": null,
      "outputs": []
    },
    {
      "cell_type": "code",
      "metadata": {
        "collapsed": true,
        "id": "i29vpOE91P-g"
      },
      "source": [
        "fnm = 'data2.txt'"
      ],
      "execution_count": null,
      "outputs": []
    },
    {
      "cell_type": "code",
      "metadata": {
        "collapsed": true,
        "id": "lNUFvCnm1P-g"
      },
      "source": [
        "def fgenerator(fnm, iter_option = 0) :\n",
        "    with open(fnm, 'r', encoding='utf-8') as f :\n",
        "        for idx, item in enumerate(f) :\n",
        "            ID, V1, V2, V3 = item.strip().split()\n",
        "            if iter_option == 0 :\n",
        "                yield ID\n",
        "            elif iter_option == 1 :\n",
        "                yield V1\n",
        "            elif iter_option == 2 :\n",
        "                yield V2\n",
        "            else :\n",
        "                yield V3\n"
      ],
      "execution_count": null,
      "outputs": []
    },
    {
      "cell_type": "code",
      "metadata": {
        "id": "dDAQ3oTJ1P-g"
      },
      "source": [
        "gen_from_file = fgenerator(fnm)"
      ],
      "execution_count": null,
      "outputs": []
    },
    {
      "cell_type": "code",
      "metadata": {
        "colab": {
          "base_uri": "https://localhost:8080/",
          "height": 35
        },
        "id": "NDKSmq3_1P-h",
        "outputId": "d582ef5a-bee6-4636-f184-9a211e5fbf98"
      },
      "source": [
        "next(gen_from_file)"
      ],
      "execution_count": null,
      "outputs": [
        {
          "output_type": "execute_result",
          "data": {
            "application/vnd.google.colaboratory.intrinsic+json": {
              "type": "string"
            },
            "text/plain": [
              "'Max'"
            ]
          },
          "metadata": {
            "tags": []
          },
          "execution_count": 164
        }
      ]
    },
    {
      "cell_type": "code",
      "metadata": {
        "colab": {
          "base_uri": "https://localhost:8080/"
        },
        "id": "pwQj2feCh5WZ",
        "outputId": "4d41bc08-688d-4cf2-ecc9-8b126c06b3be"
      },
      "source": [
        "for i in gen_from_file :\n",
        "  print(i)"
      ],
      "execution_count": null,
      "outputs": [
        {
          "output_type": "stream",
          "text": [
            "ID\n",
            "Tom\n",
            "Jane\n",
            "Jane\n",
            "Max\n",
            "Karl\n",
            "Max\n",
            "Max\n",
            "Tom\n",
            "Jane\n",
            "Jane\n",
            "Max\n",
            "Karl\n",
            "Max\n",
            "Max\n"
          ],
          "name": "stdout"
        }
      ]
    },
    {
      "cell_type": "code",
      "metadata": {
        "id": "ggcrmYAR1P-h",
        "colab": {
          "base_uri": "https://localhost:8080/"
        },
        "outputId": "f79307b6-8e2c-4484-bfe9-a6bf697691f8"
      },
      "source": [
        "sys.getsizeof(gen_from_file)"
      ],
      "execution_count": null,
      "outputs": [
        {
          "output_type": "execute_result",
          "data": {
            "text/plain": [
              "128"
            ]
          },
          "metadata": {
            "tags": []
          },
          "execution_count": 168
        }
      ]
    },
    {
      "cell_type": "code",
      "metadata": {
        "collapsed": true,
        "id": "SBrCuwPu1P-i"
      },
      "source": [
        "def freader(fnm, iter_option = 0) :\n",
        "    IDs = []\n",
        "    with open(fnm, 'r', encoding='utf-8') as f :\n",
        "        for idx, item in enumerate(f) :\n",
        "            ID, V1, V2, V3 = item.strip().split()\n",
        "            if iter_option == 0 :\n",
        "                IDs.append(ID)\n",
        "            elif iter_option == 1 :\n",
        "                IDs.append(V1)\n",
        "            elif iter_option == 2 :\n",
        "                IDs.append(V2)\n",
        "            else :\n",
        "                IDs.append(V3)\n",
        "    return IDs"
      ],
      "execution_count": null,
      "outputs": []
    },
    {
      "cell_type": "code",
      "metadata": {
        "colab": {
          "base_uri": "https://localhost:8080/"
        },
        "id": "Cl8y93sC1P-i",
        "outputId": "09a150af-b3b1-452f-89c6-6d2365cad220"
      },
      "source": [
        "%%time\n",
        "res = freader(fnm, 0)"
      ],
      "execution_count": null,
      "outputs": [
        {
          "output_type": "stream",
          "text": [
            "CPU times: user 1.44 ms, sys: 43 µs, total: 1.48 ms\n",
            "Wall time: 3.98 ms\n"
          ],
          "name": "stdout"
        }
      ]
    },
    {
      "cell_type": "code",
      "metadata": {
        "colab": {
          "base_uri": "https://localhost:8080/"
        },
        "id": "WV4L22a5iHzr",
        "outputId": "b7247c2a-e18e-4fe5-bb36-37f6e7b3baef"
      },
      "source": [
        "res"
      ],
      "execution_count": null,
      "outputs": [
        {
          "output_type": "execute_result",
          "data": {
            "text/plain": [
              "['ID',\n",
              " 'Tom',\n",
              " 'Jane',\n",
              " 'Jane',\n",
              " 'Max',\n",
              " 'Karl',\n",
              " 'Max',\n",
              " 'Max',\n",
              " 'Tom',\n",
              " 'Jane',\n",
              " 'Jane',\n",
              " 'Max',\n",
              " 'Karl',\n",
              " 'Max',\n",
              " 'Max']"
            ]
          },
          "metadata": {
            "tags": []
          },
          "execution_count": 173
        }
      ]
    },
    {
      "cell_type": "code",
      "metadata": {
        "colab": {
          "base_uri": "https://localhost:8080/"
        },
        "id": "s0busaib1P-i",
        "outputId": "b53091c8-bb78-46d4-f60c-87b31cc8f506"
      },
      "source": [
        "sys.getsizeof(res)"
      ],
      "execution_count": null,
      "outputs": [
        {
          "output_type": "execute_result",
          "data": {
            "text/plain": [
              "200"
            ]
          },
          "metadata": {
            "tags": []
          },
          "execution_count": 174
        }
      ]
    },
    {
      "cell_type": "markdown",
      "metadata": {
        "id": "sF_NozMg1P-i"
      },
      "source": [
        "generator with class"
      ]
    },
    {
      "cell_type": "code",
      "metadata": {
        "id": "0uI6VSKS1P-j"
      },
      "source": [
        "class DataGenerator() : \n",
        "    def __init__(self, fnm, iter_option=0) :\n",
        "        self.fnm = fnm\n",
        "        self.iter_option = iter_option\n",
        "    \n",
        "    def __iter__(self) :\n",
        "        with open(fnm, 'r', encoding='utf-8') as f :\n",
        "            for idx, item in enumerate(f) :\n",
        "                ID, V1, V2, V3 = item.strip().split()\n",
        "                if self.iter_option == 0 :\n",
        "                    yield ID\n",
        "                elif self.iter_option == 1 :\n",
        "                    yield V1\n",
        "                elif self.iter_option == 2 :\n",
        "                    yield V2\n",
        "                else :\n",
        "                    yield V3\n",
        "    \n",
        "    def __len__(self) :\n",
        "        with open(fnm, 'r', encoding='utf-8') as f :\n",
        "            for idx, item in enumerate(f) :\n",
        "                pass\n",
        "            \n",
        "            return idx\n",
        "        "
      ],
      "execution_count": null,
      "outputs": []
    },
    {
      "cell_type": "code",
      "metadata": {
        "collapsed": true,
        "id": "wsd1SiRx1P-j"
      },
      "source": [
        "fnm = 'data2.txt'"
      ],
      "execution_count": null,
      "outputs": []
    },
    {
      "cell_type": "code",
      "metadata": {
        "collapsed": true,
        "id": "cgjfQ9CB1P-k"
      },
      "source": [
        "gen1 = DataGenerator(fnm)"
      ],
      "execution_count": null,
      "outputs": []
    },
    {
      "cell_type": "code",
      "metadata": {
        "colab": {
          "base_uri": "https://localhost:8080/"
        },
        "id": "GEbklzQI1P-k",
        "outputId": "8f68fc59-b955-4d83-c9c6-e712d6affd07"
      },
      "source": [
        "len(gen1)"
      ],
      "execution_count": null,
      "outputs": [
        {
          "output_type": "execute_result",
          "data": {
            "text/plain": [
              "14"
            ]
          },
          "metadata": {
            "tags": []
          },
          "execution_count": 178
        }
      ]
    },
    {
      "cell_type": "code",
      "metadata": {
        "colab": {
          "base_uri": "https://localhost:8080/"
        },
        "id": "sBL0vcLy1P-k",
        "outputId": "98ba1bbf-c397-4910-c2e4-f80551d99c4c"
      },
      "source": [
        "for idx, item in enumerate(gen1) :\n",
        "    print(item)"
      ],
      "execution_count": null,
      "outputs": [
        {
          "output_type": "stream",
          "text": [
            "ID\n",
            "Tom\n",
            "Jane\n",
            "Jane\n",
            "Max\n",
            "Karl\n",
            "Max\n",
            "Max\n",
            "Tom\n",
            "Jane\n",
            "Jane\n",
            "Max\n",
            "Karl\n",
            "Max\n",
            "Max\n"
          ],
          "name": "stdout"
        }
      ]
    },
    {
      "cell_type": "code",
      "metadata": {
        "collapsed": true,
        "id": "3-NPOQuv1P-k"
      },
      "source": [
        ""
      ],
      "execution_count": null,
      "outputs": []
    },
    {
      "cell_type": "markdown",
      "metadata": {
        "id": "mdNmx-V5Dkrc"
      },
      "source": [
        "## Numpy library\n",
        "\n",
        "- NumPy stands for ‘Numerical Python’ or ‘Numeric Python’.\n",
        "\n",
        "- Provides fast mathematical computation on arrays and matrices. "
      ]
    },
    {
      "cell_type": "code",
      "metadata": {
        "id": "-JmYt4Svnx9G"
      },
      "source": [
        "import numpy as np"
      ],
      "execution_count": null,
      "outputs": []
    },
    {
      "cell_type": "code",
      "metadata": {
        "id": "bXmfVr5IkKPI"
      },
      "source": [
        "import numpy"
      ],
      "execution_count": null,
      "outputs": []
    },
    {
      "cell_type": "markdown",
      "metadata": {
        "id": "AqGzOCpMnr03"
      },
      "source": [
        "### np.array()"
      ]
    },
    {
      "cell_type": "code",
      "metadata": {
        "id": "1GD8dK70nrUO"
      },
      "source": [
        "\n",
        "a = np.array([1,2,3,4,5,0])\n",
        "b = [1,2,3,4,5]"
      ],
      "execution_count": null,
      "outputs": []
    },
    {
      "cell_type": "markdown",
      "metadata": {
        "id": "KM8TGThbn7zx"
      },
      "source": [
        "differences?"
      ]
    },
    {
      "cell_type": "code",
      "metadata": {
        "collapsed": true,
        "colab": {
          "base_uri": "https://localhost:8080/"
        },
        "id": "H_kZ8GHE1P-l",
        "outputId": "ba9e4a12-1bdb-43e0-8344-624a357a7ff1"
      },
      "source": [
        "b + b"
      ],
      "execution_count": null,
      "outputs": [
        {
          "output_type": "execute_result",
          "data": {
            "text/plain": [
              "[1, 2, 3, 4, 5, 1, 2, 3, 4, 5]"
            ]
          },
          "metadata": {
            "tags": []
          },
          "execution_count": 200
        }
      ]
    },
    {
      "cell_type": "code",
      "metadata": {
        "collapsed": true,
        "colab": {
          "base_uri": "https://localhost:8080/"
        },
        "id": "Xpmitita1P-l",
        "outputId": "f4ae75b1-6eea-4091-a8d8-15aa6f01a18a"
      },
      "source": [
        "a + a"
      ],
      "execution_count": null,
      "outputs": [
        {
          "output_type": "execute_result",
          "data": {
            "text/plain": [
              "array([ 2,  4,  6,  8, 10,  0])"
            ]
          },
          "metadata": {
            "tags": []
          },
          "execution_count": 201
        }
      ]
    },
    {
      "cell_type": "code",
      "metadata": {
        "colab": {
          "base_uri": "https://localhost:8080/"
        },
        "id": "EAurEbHcoE4l",
        "outputId": "cfe5acbf-8925-4404-c40e-d34b79caa22d"
      },
      "source": [
        "a * a  "
      ],
      "execution_count": null,
      "outputs": [
        {
          "output_type": "execute_result",
          "data": {
            "text/plain": [
              "array([ 1,  4,  9, 16, 25,  0])"
            ]
          },
          "metadata": {
            "tags": []
          },
          "execution_count": 202
        }
      ]
    },
    {
      "cell_type": "code",
      "metadata": {
        "colab": {
          "base_uri": "https://localhost:8080/"
        },
        "id": "dnkAS_KLjtHl",
        "outputId": "5816fcb6-1cd8-404f-8e52-6457d82a8754"
      },
      "source": [
        "a"
      ],
      "execution_count": null,
      "outputs": [
        {
          "output_type": "execute_result",
          "data": {
            "text/plain": [
              "array([1, 2, 3, 4, 5, 0])"
            ]
          },
          "metadata": {
            "tags": []
          },
          "execution_count": 190
        }
      ]
    },
    {
      "cell_type": "code",
      "metadata": {
        "colab": {
          "base_uri": "https://localhost:8080/"
        },
        "id": "j3yLJlPbq9RA",
        "outputId": "2f612edc-19da-4ea8-9afa-086786baf2a0"
      },
      "source": [
        "a @ a"
      ],
      "execution_count": null,
      "outputs": [
        {
          "output_type": "execute_result",
          "data": {
            "text/plain": [
              "55"
            ]
          },
          "metadata": {
            "tags": []
          },
          "execution_count": 203
        }
      ]
    },
    {
      "cell_type": "code",
      "metadata": {
        "colab": {
          "base_uri": "https://localhost:8080/"
        },
        "id": "AzEXTC1uoX-r",
        "outputId": "a86944db-bbca-4811-c6ed-1a061229b51c"
      },
      "source": [
        "a.shape"
      ],
      "execution_count": null,
      "outputs": [
        {
          "output_type": "execute_result",
          "data": {
            "text/plain": [
              "(6,)"
            ]
          },
          "metadata": {
            "tags": []
          },
          "execution_count": 204
        }
      ]
    },
    {
      "cell_type": "markdown",
      "metadata": {
        "id": "czjYD4SrsOQC"
      },
      "source": [
        "#### Generating numpy arrays\n",
        "\n",
        "- np.ones()\n",
        "- np.zeros()\n",
        "- np.arange()\n",
        "- np.full()\n"
      ]
    },
    {
      "cell_type": "code",
      "metadata": {
        "colab": {
          "base_uri": "https://localhost:8080/"
        },
        "id": "KinwnTucr9WP",
        "outputId": "e131f5e7-330d-4cd0-e855-ad55cb2e67c8"
      },
      "source": [
        "np.ones([2,3])"
      ],
      "execution_count": null,
      "outputs": [
        {
          "output_type": "execute_result",
          "data": {
            "text/plain": [
              "array([[1., 1., 1.],\n",
              "       [1., 1., 1.]])"
            ]
          },
          "metadata": {
            "tags": []
          },
          "execution_count": 205
        }
      ]
    },
    {
      "cell_type": "code",
      "metadata": {
        "colab": {
          "base_uri": "https://localhost:8080/"
        },
        "id": "5gnvi0Cjse5Y",
        "outputId": "0df26456-0b09-4b63-a44b-8c2ac8512a9c"
      },
      "source": [
        "np.zeros([2,2])"
      ],
      "execution_count": null,
      "outputs": [
        {
          "output_type": "execute_result",
          "data": {
            "text/plain": [
              "array([[0., 0.],\n",
              "       [0., 0.]])"
            ]
          },
          "metadata": {
            "tags": []
          },
          "execution_count": 206
        }
      ]
    },
    {
      "cell_type": "code",
      "metadata": {
        "colab": {
          "base_uri": "https://localhost:8080/"
        },
        "id": "os1Ru2cHsgwu",
        "outputId": "6676bead-0e66-4f39-ac31-d888298edb61"
      },
      "source": [
        "np.arange(1,10)"
      ],
      "execution_count": null,
      "outputs": [
        {
          "output_type": "execute_result",
          "data": {
            "text/plain": [
              "array([1, 2, 3, 4, 5, 6, 7, 8, 9])"
            ]
          },
          "metadata": {
            "tags": []
          },
          "execution_count": 208
        }
      ]
    },
    {
      "cell_type": "code",
      "metadata": {
        "colab": {
          "base_uri": "https://localhost:8080/"
        },
        "id": "KvydRVqhs7vK",
        "outputId": "7339e4b5-1e7b-4cac-fde4-fe0911100a4d"
      },
      "source": [
        "a = np.full([2,3], -1)\n",
        "a"
      ],
      "execution_count": null,
      "outputs": [
        {
          "output_type": "execute_result",
          "data": {
            "text/plain": [
              "array([[-1, -1, -1],\n",
              "       [-1, -1, -1]])"
            ]
          },
          "metadata": {
            "tags": []
          },
          "execution_count": 209
        }
      ]
    },
    {
      "cell_type": "code",
      "metadata": {
        "colab": {
          "base_uri": "https://localhost:8080/"
        },
        "id": "j_ftOb7lj9eW",
        "outputId": "155196c3-0441-4604-e9d2-efd58a1fcced"
      },
      "source": [
        "a.T"
      ],
      "execution_count": null,
      "outputs": [
        {
          "output_type": "execute_result",
          "data": {
            "text/plain": [
              "array([[-1, -1],\n",
              "       [-1, -1],\n",
              "       [-1, -1]])"
            ]
          },
          "metadata": {
            "tags": []
          },
          "execution_count": 210
        }
      ]
    },
    {
      "cell_type": "markdown",
      "metadata": {
        "id": "KcNkSOPjsyco"
      },
      "source": [
        "### Numpy array indexing\n",
        "\n"
      ]
    },
    {
      "cell_type": "code",
      "metadata": {
        "colab": {
          "base_uri": "https://localhost:8080/"
        },
        "id": "FLxOukk_siMI",
        "outputId": "1b101e1b-3a02-4ac8-ea39-99022c2e2b81"
      },
      "source": [
        "a = np.arange(1,10)\n",
        "a"
      ],
      "execution_count": null,
      "outputs": [
        {
          "output_type": "execute_result",
          "data": {
            "text/plain": [
              "array([1, 2, 3, 4, 5, 6, 7, 8, 9])"
            ]
          },
          "metadata": {
            "tags": []
          },
          "execution_count": 211
        }
      ]
    },
    {
      "cell_type": "code",
      "metadata": {
        "colab": {
          "base_uri": "https://localhost:8080/"
        },
        "id": "uqbFr7ETtgCf",
        "outputId": "f41aa302-5f00-4f4e-bef1-a6a5a0d007ca"
      },
      "source": [
        "a[:3]"
      ],
      "execution_count": null,
      "outputs": [
        {
          "output_type": "execute_result",
          "data": {
            "text/plain": [
              "array([1, 2, 3])"
            ]
          },
          "metadata": {
            "tags": []
          },
          "execution_count": 212
        }
      ]
    },
    {
      "cell_type": "code",
      "metadata": {
        "colab": {
          "base_uri": "https://localhost:8080/"
        },
        "id": "PRqq0v3LtkUb",
        "outputId": "94561ba2-07e3-469c-f7f4-aa10789d0227"
      },
      "source": [
        "a[:-3]"
      ],
      "execution_count": null,
      "outputs": [
        {
          "output_type": "execute_result",
          "data": {
            "text/plain": [
              "array([1, 2, 3, 4, 5, 6])"
            ]
          },
          "metadata": {
            "tags": []
          },
          "execution_count": 213
        }
      ]
    },
    {
      "cell_type": "code",
      "metadata": {
        "colab": {
          "base_uri": "https://localhost:8080/"
        },
        "id": "d1R6rsnQtle-",
        "outputId": "2a6f4b0d-f63e-4a69-ca04-175bf1a4432a"
      },
      "source": [
        "a[-3:]"
      ],
      "execution_count": null,
      "outputs": [
        {
          "output_type": "execute_result",
          "data": {
            "text/plain": [
              "array([7, 8, 9])"
            ]
          },
          "metadata": {
            "tags": []
          },
          "execution_count": 214
        }
      ]
    },
    {
      "cell_type": "code",
      "metadata": {
        "colab": {
          "base_uri": "https://localhost:8080/"
        },
        "id": "HWeFTEyptoT2",
        "outputId": "dbff39a7-04e2-4d97-b650-855332ce265e"
      },
      "source": [
        "a[2:5]"
      ],
      "execution_count": null,
      "outputs": [
        {
          "output_type": "execute_result",
          "data": {
            "text/plain": [
              "array([3, 4, 5])"
            ]
          },
          "metadata": {
            "tags": []
          },
          "execution_count": 215
        }
      ]
    },
    {
      "cell_type": "code",
      "metadata": {
        "colab": {
          "base_uri": "https://localhost:8080/"
        },
        "id": "IRDbuJ0ptq7B",
        "outputId": "5db27294-0707-4c1f-fa07-cecd45af6c78"
      },
      "source": [
        "a[0:10:2]"
      ],
      "execution_count": null,
      "outputs": [
        {
          "output_type": "execute_result",
          "data": {
            "text/plain": [
              "array([1, 3, 5, 7, 9])"
            ]
          },
          "metadata": {
            "tags": []
          },
          "execution_count": 216
        }
      ]
    },
    {
      "cell_type": "code",
      "metadata": {
        "colab": {
          "base_uri": "https://localhost:8080/"
        },
        "id": "Q45du4-ytvlU",
        "outputId": "ff567971-95aa-481f-f198-bf762938183a"
      },
      "source": [
        "b = np.arange(0,10).reshape(2,5)\n",
        "b"
      ],
      "execution_count": null,
      "outputs": [
        {
          "output_type": "execute_result",
          "data": {
            "text/plain": [
              "array([[0, 1, 2, 3, 4],\n",
              "       [5, 6, 7, 8, 9]])"
            ]
          },
          "metadata": {
            "tags": []
          },
          "execution_count": 217
        }
      ]
    },
    {
      "cell_type": "code",
      "metadata": {
        "colab": {
          "base_uri": "https://localhost:8080/"
        },
        "id": "-QGufgfwt4ap",
        "outputId": "75677bfe-93f9-4b9e-e15c-3d5094ae2153"
      },
      "source": [
        "b[:,2:]"
      ],
      "execution_count": null,
      "outputs": [
        {
          "output_type": "execute_result",
          "data": {
            "text/plain": [
              "array([[2, 3, 4],\n",
              "       [7, 8, 9]])"
            ]
          },
          "metadata": {
            "tags": []
          },
          "execution_count": 218
        }
      ]
    },
    {
      "cell_type": "code",
      "metadata": {
        "id": "hn-jBGw0uA6i"
      },
      "source": [
        ""
      ],
      "execution_count": null,
      "outputs": []
    },
    {
      "cell_type": "markdown",
      "metadata": {
        "id": "KQDcQhR4uISR"
      },
      "source": [
        "### useful np functions\n",
        "\n",
        "- np.abs()\n",
        "- np.exp()\n",
        "- np.pow()\n",
        "- np.log()\n",
        "- np.sqrt()\n"
      ]
    },
    {
      "cell_type": "code",
      "metadata": {
        "colab": {
          "base_uri": "https://localhost:8080/"
        },
        "id": "Qha0lJ3augsn",
        "outputId": "db9fc6c6-2c1a-404b-9313-b578c05a6553"
      },
      "source": [
        "a = np.arange(-3,5)\n",
        "a"
      ],
      "execution_count": null,
      "outputs": [
        {
          "output_type": "execute_result",
          "data": {
            "text/plain": [
              "array([-3, -2, -1,  0,  1,  2,  3,  4])"
            ]
          },
          "metadata": {
            "tags": []
          },
          "execution_count": 219
        }
      ]
    },
    {
      "cell_type": "code",
      "metadata": {
        "colab": {
          "base_uri": "https://localhost:8080/"
        },
        "id": "zVKbuMESuh7W",
        "outputId": "b91facc4-6f57-4562-c908-29fabd369024"
      },
      "source": [
        "np.abs(a)\n"
      ],
      "execution_count": null,
      "outputs": [
        {
          "output_type": "execute_result",
          "data": {
            "text/plain": [
              "array([3, 2, 1, 0, 1, 2, 3, 4])"
            ]
          },
          "metadata": {
            "tags": []
          },
          "execution_count": 220
        }
      ]
    },
    {
      "cell_type": "code",
      "metadata": {
        "colab": {
          "base_uri": "https://localhost:8080/"
        },
        "id": "EpY4Ni1Cunf8",
        "outputId": "2a90ea7a-95ab-40fd-d893-3c56e4037b81"
      },
      "source": [
        "np.exp(a)"
      ],
      "execution_count": null,
      "outputs": [
        {
          "output_type": "execute_result",
          "data": {
            "text/plain": [
              "array([4.97870684e-02, 1.35335283e-01, 3.67879441e-01, 1.00000000e+00,\n",
              "       2.71828183e+00, 7.38905610e+00, 2.00855369e+01, 5.45981500e+01])"
            ]
          },
          "metadata": {
            "tags": []
          },
          "execution_count": 221
        }
      ]
    },
    {
      "cell_type": "code",
      "metadata": {
        "colab": {
          "base_uri": "https://localhost:8080/"
        },
        "id": "o6N2HOzUupK5",
        "outputId": "085873e4-4812-42c2-be8d-13c6da9e9357"
      },
      "source": [
        "np.power(a,2)"
      ],
      "execution_count": null,
      "outputs": [
        {
          "output_type": "execute_result",
          "data": {
            "text/plain": [
              "array([ 9,  4,  1,  0,  1,  4,  9, 16])"
            ]
          },
          "metadata": {
            "tags": []
          },
          "execution_count": 222
        }
      ]
    },
    {
      "cell_type": "code",
      "metadata": {
        "colab": {
          "base_uri": "https://localhost:8080/"
        },
        "id": "lELJrAqTuz22",
        "outputId": "88e409fc-e9f0-4cf3-ab99-21364f45130c"
      },
      "source": [
        "np.log( np.array([2,4,8]))"
      ],
      "execution_count": null,
      "outputs": [
        {
          "output_type": "execute_result",
          "data": {
            "text/plain": [
              "array([0.69314718, 1.38629436, 2.07944154])"
            ]
          },
          "metadata": {
            "tags": []
          },
          "execution_count": 223
        }
      ]
    },
    {
      "cell_type": "code",
      "metadata": {
        "colab": {
          "base_uri": "https://localhost:8080/"
        },
        "id": "Z7dRssJWu9s5",
        "outputId": "ed12cebe-3b18-4413-8a57-b79fe80ecf02"
      },
      "source": [
        "np.log2( np.array([2,4,8]))"
      ],
      "execution_count": null,
      "outputs": [
        {
          "output_type": "execute_result",
          "data": {
            "text/plain": [
              "array([1., 2., 3.])"
            ]
          },
          "metadata": {
            "tags": []
          },
          "execution_count": 224
        }
      ]
    },
    {
      "cell_type": "markdown",
      "metadata": {
        "id": "zukxQRHUwusC"
      },
      "source": [
        "if you want different base"
      ]
    },
    {
      "cell_type": "code",
      "metadata": {
        "colab": {
          "base_uri": "https://localhost:8080/"
        },
        "id": "Tv2Mr-wCvN-h",
        "outputId": "8520fdb6-7bd9-4b07-da47-fa6b7e662623"
      },
      "source": [
        "np.log( np.array([3,9]) ) / np.log(3)"
      ],
      "execution_count": null,
      "outputs": [
        {
          "output_type": "execute_result",
          "data": {
            "text/plain": [
              "array([1., 2.])"
            ]
          },
          "metadata": {
            "tags": []
          },
          "execution_count": 225
        }
      ]
    },
    {
      "cell_type": "code",
      "metadata": {
        "id": "A25nlB4YvQv2"
      },
      "source": [
        ""
      ],
      "execution_count": null,
      "outputs": []
    },
    {
      "cell_type": "markdown",
      "metadata": {
        "id": "pWScd-WR5dY3"
      },
      "source": [
        "### Statistics \n",
        "[Statistics](https://numpy.org/doc/stable/reference/routines.statistics.html)"
      ]
    },
    {
      "cell_type": "code",
      "metadata": {
        "colab": {
          "base_uri": "https://localhost:8080/"
        },
        "id": "4aMbSLtIlgtU",
        "outputId": "fc5a1e5c-8865-4271-b680-537a4468126d"
      },
      "source": [
        "a"
      ],
      "execution_count": null,
      "outputs": [
        {
          "output_type": "execute_result",
          "data": {
            "text/plain": [
              "array([-3, -2, -1,  0,  1,  2,  3,  4])"
            ]
          },
          "metadata": {
            "tags": []
          },
          "execution_count": 227
        }
      ]
    },
    {
      "cell_type": "code",
      "metadata": {
        "id": "z6UhwQtJ5jDK",
        "colab": {
          "base_uri": "https://localhost:8080/"
        },
        "outputId": "8daa5624-5839-4156-b361-645a0e07fbd9"
      },
      "source": [
        "np.mean(a)"
      ],
      "execution_count": null,
      "outputs": [
        {
          "output_type": "execute_result",
          "data": {
            "text/plain": [
              "0.5"
            ]
          },
          "metadata": {
            "tags": []
          },
          "execution_count": 226
        }
      ]
    },
    {
      "cell_type": "code",
      "metadata": {
        "colab": {
          "base_uri": "https://localhost:8080/"
        },
        "id": "vNiaDOe1ZSNU",
        "outputId": "1154f1ca-09a0-4cf5-c54a-3edc0becedf5"
      },
      "source": [
        "np.median(a)"
      ],
      "execution_count": null,
      "outputs": [
        {
          "output_type": "execute_result",
          "data": {
            "text/plain": [
              "0.5"
            ]
          },
          "metadata": {
            "tags": []
          },
          "execution_count": 228
        }
      ]
    },
    {
      "cell_type": "code",
      "metadata": {
        "colab": {
          "base_uri": "https://localhost:8080/"
        },
        "id": "W7_FdKwYljXG",
        "outputId": "f24d32c3-04f9-4fed-bdca-567644ef82ea"
      },
      "source": [
        "np.std(a)"
      ],
      "execution_count": null,
      "outputs": [
        {
          "output_type": "execute_result",
          "data": {
            "text/plain": [
              "2.29128784747792"
            ]
          },
          "metadata": {
            "tags": []
          },
          "execution_count": 230
        }
      ]
    },
    {
      "cell_type": "code",
      "metadata": {
        "id": "DzFNqATtllgK"
      },
      "source": [
        ""
      ],
      "execution_count": null,
      "outputs": []
    }
  ]
}